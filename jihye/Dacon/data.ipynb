{
 "cells": [
  {
   "cell_type": "code",
   "execution_count": 1,
   "metadata": {},
   "outputs": [
    {
     "name": "stdout",
     "output_type": "stream",
     "text": [
      "<class 'pandas.core.frame.DataFrame'>\n",
      "RangeIndex: 39609 entries, 0 to 39608\n",
      "Data columns (total 23 columns):\n",
      " #   Column       Non-Null Count  Dtype \n",
      "---  ------       --------------  ----- \n",
      " 0   ID           39609 non-null  object\n",
      " 1   사고일시         39609 non-null  object\n",
      " 2   요일           39609 non-null  object\n",
      " 3   기상상태         39609 non-null  object\n",
      " 4   시군구          39609 non-null  object\n",
      " 5   도로형태         39609 non-null  object\n",
      " 6   노면상태         39609 non-null  object\n",
      " 7   사고유형         39609 non-null  object\n",
      " 8   사고유형 - 세부분류  39609 non-null  object\n",
      " 9   법규위반         39609 non-null  object\n",
      " 10  가해운전자 차종     39609 non-null  object\n",
      " 11  가해운전자 성별     39609 non-null  object\n",
      " 12  가해운전자 연령     39609 non-null  object\n",
      " 13  가해운전자 상해정도   39609 non-null  object\n",
      " 14  피해운전자 차종     38618 non-null  object\n",
      " 15  피해운전자 성별     38618 non-null  object\n",
      " 16  피해운전자 연령     38618 non-null  object\n",
      " 17  피해운전자 상해정도   38618 non-null  object\n",
      " 18  사망자수         39609 non-null  int64 \n",
      " 19  중상자수         39609 non-null  int64 \n",
      " 20  경상자수         39609 non-null  int64 \n",
      " 21  부상자수         39609 non-null  int64 \n",
      " 22  ECLO         39609 non-null  int64 \n",
      "dtypes: int64(5), object(18)\n",
      "memory usage: 7.0+ MB\n"
     ]
    }
   ],
   "source": [
    "import numpy as np\n",
    "import pandas as pd\n",
    "\n",
    "data = pd.read_csv(\"data/train.csv\")\n",
    "data.info()"
   ]
  },
  {
   "cell_type": "code",
   "execution_count": 2,
   "metadata": {},
   "outputs": [
    {
     "name": "stdout",
     "output_type": "stream",
     "text": [
      "<class 'pandas.core.frame.DataFrame'>\n",
      "Index: 38618 entries, 0 to 39608\n",
      "Data columns (total 23 columns):\n",
      " #   Column       Non-Null Count  Dtype \n",
      "---  ------       --------------  ----- \n",
      " 0   ID           38618 non-null  object\n",
      " 1   사고일시         38618 non-null  object\n",
      " 2   요일           38618 non-null  object\n",
      " 3   기상상태         38618 non-null  object\n",
      " 4   시군구          38618 non-null  object\n",
      " 5   도로형태         38618 non-null  object\n",
      " 6   노면상태         38618 non-null  object\n",
      " 7   사고유형         38618 non-null  object\n",
      " 8   사고유형 - 세부분류  38618 non-null  object\n",
      " 9   법규위반         38618 non-null  object\n",
      " 10  가해운전자 차종     38618 non-null  object\n",
      " 11  가해운전자 성별     38618 non-null  object\n",
      " 12  가해운전자 연령     38618 non-null  object\n",
      " 13  가해운전자 상해정도   38618 non-null  object\n",
      " 14  피해운전자 차종     38618 non-null  object\n",
      " 15  피해운전자 성별     38618 non-null  object\n",
      " 16  피해운전자 연령     38618 non-null  object\n",
      " 17  피해운전자 상해정도   38618 non-null  object\n",
      " 18  사망자수         38618 non-null  int64 \n",
      " 19  중상자수         38618 non-null  int64 \n",
      " 20  경상자수         38618 non-null  int64 \n",
      " 21  부상자수         38618 non-null  int64 \n",
      " 22  ECLO         38618 non-null  int64 \n",
      "dtypes: int64(5), object(18)\n",
      "memory usage: 7.1+ MB\n"
     ]
    }
   ],
   "source": [
    "data['ECLO'].value_counts()\n",
    "data = data.dropna()\n",
    "data.info()"
   ]
  },
  {
   "cell_type": "code",
   "execution_count": 3,
   "metadata": {},
   "outputs": [
    {
     "data": {
      "text/plain": [
       "사고일시\n",
       "18    3356\n",
       "17    2720\n",
       "19    2691\n",
       "16    2478\n",
       "15    2310\n",
       "14    2300\n",
       "13    2158\n",
       "20    2120\n",
       "12    2051\n",
       "11    1974\n",
       "08    1894\n",
       "10    1760\n",
       "21    1712\n",
       "09    1690\n",
       "22    1459\n",
       "07    1183\n",
       "23    1055\n",
       "00     792\n",
       "06     720\n",
       "01     627\n",
       "02     471\n",
       "05     441\n",
       "04     329\n",
       "03     327\n",
       "Name: count, dtype: int64"
      ]
     },
     "execution_count": 3,
     "metadata": {},
     "output_type": "execute_result"
    }
   ],
   "source": [
    "data['사고일시'] = data['사고일시'].str.split(\" \").str.get(1)\n",
    "data['사고일시'].value_counts()"
   ]
  },
  {
   "cell_type": "code",
   "execution_count": 4,
   "metadata": {},
   "outputs": [
    {
     "data": {
      "text/plain": [
       "노면상태\n",
       "건조       35531\n",
       "젖음/습기     2961\n",
       "서리/결빙       19\n",
       "적설           3\n",
       "침수           2\n",
       "Name: count, dtype: int64"
      ]
     },
     "execution_count": 4,
     "metadata": {},
     "output_type": "execute_result"
    }
   ],
   "source": [
    "data = data.drop(data[data['기상상태'] == '기타'].index)\n",
    "data = data.drop(data[data['노면상태'] == '기타'].index)\n",
    "\n",
    "\n",
    "data['기상상태'].value_counts()\n",
    "data['노면상태'].value_counts()\n",
    "\n",
    "\n",
    "#기상상태 "
   ]
  },
  {
   "cell_type": "code",
   "execution_count": 5,
   "metadata": {},
   "outputs": [],
   "source": [
    "#data['ECLO'].value_counts()"
   ]
  },
  {
   "cell_type": "code",
   "execution_count": 6,
   "metadata": {},
   "outputs": [
    {
     "data": {
      "text/plain": [
       "시군구\n",
       "달서구    9689\n",
       "수성구    6552\n",
       "북구     6441\n",
       "동구     5140\n",
       "서구     3415\n",
       "달성군    2635\n",
       "남구     2496\n",
       "중구     2148\n",
       "Name: count, dtype: int64"
      ]
     },
     "execution_count": 6,
     "metadata": {},
     "output_type": "execute_result"
    }
   ],
   "source": [
    "data['시군구'] = data['시군구'].str.split(\" \").str.get(1)\n",
    "data['시군구'].value_counts()"
   ]
  },
  {
   "cell_type": "code",
   "execution_count": 7,
   "metadata": {},
   "outputs": [
    {
     "data": {
      "text/plain": [
       "가해운전자 성별\n",
       "남    28112\n",
       "여     9433\n",
       "Name: count, dtype: int64"
      ]
     },
     "execution_count": 7,
     "metadata": {},
     "output_type": "execute_result"
    }
   ],
   "source": [
    "data = data.drop(data[data['가해운전자 성별'] == '기타불명'].index)\n",
    "data['가해운전자 성별'].value_counts()\n",
    "\n"
   ]
  },
  {
   "cell_type": "code",
   "execution_count": 8,
   "metadata": {},
   "outputs": [
    {
     "data": {
      "text/plain": [
       "피해운전자 연령\n",
       "59.0    843\n",
       "57.0    822\n",
       "50.0    801\n",
       "26.0    799\n",
       "58.0    786\n",
       "       ... \n",
       "91.0      4\n",
       "93.0      2\n",
       "94.0      1\n",
       "92.0      1\n",
       "98.0      1\n",
       "Name: count, Length: 95, dtype: int64"
      ]
     },
     "execution_count": 8,
     "metadata": {},
     "output_type": "execute_result"
    }
   ],
   "source": [
    "data['가해운전자 연령']=pd.to_numeric(data['가해운전자 연령'].str.extract('(\\d+)', expand=False), errors='coerce')\n",
    "data['피해운전자 연령']=pd.to_numeric(data['피해운전자 연령'].str.extract('(\\d+)', expand=False), errors='coerce')\n",
    "\n",
    "data['가해운전자 연령'].value_counts()\n",
    "data['피해운전자 연령'].value_counts()\n"
   ]
  },
  {
   "cell_type": "code",
   "execution_count": 9,
   "metadata": {},
   "outputs": [
    {
     "data": {
      "text/plain": [
       "하루시간구분\n",
       "aftern    13726\n",
       "night     11929\n",
       "morn       9030\n",
       "dawn       2860\n",
       "Name: count, dtype: int64"
      ]
     },
     "execution_count": 9,
     "metadata": {},
     "output_type": "execute_result"
    }
   ],
   "source": [
    "bins = [0, 6, 12, 18, 24]\n",
    "labels = ['dawn', 'morn', 'aftern', 'night']\n",
    "\n",
    "data['사고일시']=data['사고일시'].astype(int)\n",
    "data['하루시간구분'] = pd.cut(data['사고일시'], bins=bins, labels=labels, right=False)\n",
    "data['하루시간구분'] = data['하루시간구분'].astype('object')\n",
    "\n",
    "data['하루시간구분'].value_counts()\n"
   ]
  },
  {
   "cell_type": "code",
   "execution_count": 10,
   "metadata": {},
   "outputs": [
    {
     "name": "stdout",
     "output_type": "stream",
     "text": [
      "ID             0\n",
      "사고일시           0\n",
      "요일             0\n",
      "기상상태           0\n",
      "시군구            0\n",
      "도로형태           0\n",
      "노면상태           0\n",
      "사고유형           0\n",
      "사고유형 - 세부분류    0\n",
      "법규위반           0\n",
      "가해운전자 차종       0\n",
      "가해운전자 성별       0\n",
      "가해운전자 연령       0\n",
      "가해운전자 상해정도     0\n",
      "피해운전자 차종       0\n",
      "피해운전자 성별       0\n",
      "피해운전자 연령       0\n",
      "피해운전자 상해정도     0\n",
      "사망자수           0\n",
      "중상자수           0\n",
      "경상자수           0\n",
      "부상자수           0\n",
      "ECLO           0\n",
      "하루시간구분         0\n",
      "dtype: int64\n"
     ]
    }
   ],
   "source": [
    "\n",
    "#피해운전자 차종,성별 기타불명\n",
    "data = data.drop(data[data['피해운전자 차종'] == '기타불명'].index)\n",
    "data = data.drop(data[data['피해운전자 성별'] == '기타불명'].index)\n",
    "data = data.drop(data[data['가해운전자 차종'] == '기타불명'].index)\n",
    "\n",
    "\n",
    "data['피해운전자 차종'].value_counts()\n",
    "data['가해운전자 차종'].value_counts()\n",
    "data = data.dropna()\n",
    "\n",
    "print(data.isnull().sum())\n",
    "\n",
    "data.to_csv(\"data/pre.csv\")\n"
   ]
  },
  {
   "cell_type": "code",
   "execution_count": 11,
   "metadata": {},
   "outputs": [
    {
     "data": {
      "text/plain": [
       "<bound method IndexOpsMixin.tolist of Index(['ID', '사고일시', '요일', '기상상태', '시군구', '도로형태', '노면상태', '사고유형',\n",
       "       '사고유형 - 세부분류', '법규위반', '가해운전자 차종', '가해운전자 성별', '가해운전자 연령', '가해운전자 상해정도',\n",
       "       '피해운전자 차종', '피해운전자 성별', '피해운전자 연령', '피해운전자 상해정도', '사망자수', '중상자수',\n",
       "       '경상자수', '부상자수', 'ECLO', '하루시간구분'],\n",
       "      dtype='object')>"
      ]
     },
     "execution_count": 11,
     "metadata": {},
     "output_type": "execute_result"
    }
   ],
   "source": [
    "data.columns.tolist"
   ]
  },
  {
   "cell_type": "code",
   "execution_count": 12,
   "metadata": {},
   "outputs": [
    {
     "data": {
      "text/plain": [
       "가해운전자 연령\n",
       "60.0    1004\n",
       "58.0     950\n",
       "53.0     928\n",
       "57.0     912\n",
       "51.0     885\n",
       "        ... \n",
       "89.0       8\n",
       "7.0        8\n",
       "8.0        4\n",
       "90.0       3\n",
       "98.0       1\n",
       "Name: count, Length: 85, dtype: int64"
      ]
     },
     "execution_count": 12,
     "metadata": {},
     "output_type": "execute_result"
    }
   ],
   "source": [
    "data['가해운전자 연령'].value_counts()"
   ]
  }
 ],
 "metadata": {
  "kernelspec": {
   "display_name": "MathAI",
   "language": "python",
   "name": "python3"
  },
  "language_info": {
   "codemirror_mode": {
    "name": "ipython",
    "version": 3
   },
   "file_extension": ".py",
   "mimetype": "text/x-python",
   "name": "python",
   "nbconvert_exporter": "python",
   "pygments_lexer": "ipython3",
   "version": "3.10.13"
  }
 },
 "nbformat": 4,
 "nbformat_minor": 2
}
