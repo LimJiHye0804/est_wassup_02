{
 "cells": [
  {
   "cell_type": "code",
   "execution_count": 1,
   "metadata": {},
   "outputs": [],
   "source": [
    "import pandas as pd\n",
    "import numpy as np\n",
    "import re"
   ]
  },
  {
   "cell_type": "code",
   "execution_count": 2,
   "metadata": {},
   "outputs": [
    {
     "name": "stderr",
     "output_type": "stream",
     "text": [
      "/tmp/ipykernel_376970/2421096343.py:1: DtypeWarning: Columns (2) have mixed types. Specify dtype option on import or set low_memory=False.\n",
      "  data = pd.read_csv(\"../data/대구 보안등 정보.csv\")\n"
     ]
    }
   ],
   "source": [
    "data = pd.read_csv(\"../data/대구 보안등 정보.csv\")"
   ]
  },
  {
   "cell_type": "code",
   "execution_count": 3,
   "metadata": {},
   "outputs": [
    {
     "data": {
      "text/html": [
       "<div>\n",
       "<style scoped>\n",
       "    .dataframe tbody tr th:only-of-type {\n",
       "        vertical-align: middle;\n",
       "    }\n",
       "\n",
       "    .dataframe tbody tr th {\n",
       "        vertical-align: top;\n",
       "    }\n",
       "\n",
       "    .dataframe thead th {\n",
       "        text-align: right;\n",
       "    }\n",
       "</style>\n",
       "<table border=\"1\" class=\"dataframe\">\n",
       "  <thead>\n",
       "    <tr style=\"text-align: right;\">\n",
       "      <th></th>\n",
       "      <th>보안등위치명</th>\n",
       "      <th>설치개수</th>\n",
       "      <th>소재지지번주소</th>\n",
       "    </tr>\n",
       "  </thead>\n",
       "  <tbody>\n",
       "    <tr>\n",
       "      <th>0</th>\n",
       "      <td>대명1동1</td>\n",
       "      <td>1</td>\n",
       "      <td>대구광역시 남구 대명동 1722-4</td>\n",
       "    </tr>\n",
       "    <tr>\n",
       "      <th>1</th>\n",
       "      <td>대명1동2</td>\n",
       "      <td>1</td>\n",
       "      <td>대구광역시 남구 대명동 1723-11</td>\n",
       "    </tr>\n",
       "    <tr>\n",
       "      <th>2</th>\n",
       "      <td>대명1동3</td>\n",
       "      <td>1</td>\n",
       "      <td>대구광역시 남구 대명동 1722-56</td>\n",
       "    </tr>\n",
       "    <tr>\n",
       "      <th>3</th>\n",
       "      <td>대명1동4</td>\n",
       "      <td>2</td>\n",
       "      <td>대구광역시 남구 대명동 1722-41</td>\n",
       "    </tr>\n",
       "    <tr>\n",
       "      <th>4</th>\n",
       "      <td>대명1동5</td>\n",
       "      <td>1</td>\n",
       "      <td>대구광역시 남구 대명동 1721-22</td>\n",
       "    </tr>\n",
       "  </tbody>\n",
       "</table>\n",
       "</div>"
      ],
      "text/plain": [
       "  보안등위치명  설치개수               소재지지번주소\n",
       "0  대명1동1     1   대구광역시 남구 대명동 1722-4\n",
       "1  대명1동2     1  대구광역시 남구 대명동 1723-11\n",
       "2  대명1동3     1  대구광역시 남구 대명동 1722-56\n",
       "3  대명1동4     2  대구광역시 남구 대명동 1722-41\n",
       "4  대명1동5     1  대구광역시 남구 대명동 1721-22"
      ]
     },
     "execution_count": 3,
     "metadata": {},
     "output_type": "execute_result"
    }
   ],
   "source": [
    "drop = ['소재지도로명주소','위도','경도','설치연도','설치형태']\n",
    "data = data.drop(drop,axis=1)\n",
    "data.head()"
   ]
  },
  {
   "cell_type": "code",
   "execution_count": 4,
   "metadata": {},
   "outputs": [
    {
     "name": "stdout",
     "output_type": "stream",
     "text": [
      "보안등위치명     대구광역시 수성구 고산2동 340-0\n",
      "설치개수                          1\n",
      "소재지지번주소    대구광역시 수성구 고산2동 340-0\n",
      "Name: 54533, dtype: object\n"
     ]
    }
   ],
   "source": [
    "data.loc[data['소재지지번주소'].str.contains('수성구', na=False), '보안등위치명'] = data['소재지지번주소']\n",
    "row_54534 = data.iloc[54533]\n",
    "print(row_54534)"
   ]
  },
  {
   "cell_type": "code",
   "execution_count": 5,
   "metadata": {},
   "outputs": [
    {
     "data": {
      "text/html": [
       "<div>\n",
       "<style scoped>\n",
       "    .dataframe tbody tr th:only-of-type {\n",
       "        vertical-align: middle;\n",
       "    }\n",
       "\n",
       "    .dataframe tbody tr th {\n",
       "        vertical-align: top;\n",
       "    }\n",
       "\n",
       "    .dataframe thead th {\n",
       "        text-align: right;\n",
       "    }\n",
       "</style>\n",
       "<table border=\"1\" class=\"dataframe\">\n",
       "  <thead>\n",
       "    <tr style=\"text-align: right;\">\n",
       "      <th></th>\n",
       "      <th>보안등위치명</th>\n",
       "      <th>설치개수</th>\n",
       "      <th>소재지지번주소</th>\n",
       "    </tr>\n",
       "  </thead>\n",
       "  <tbody>\n",
       "    <tr>\n",
       "      <th>0</th>\n",
       "      <td>대명</td>\n",
       "      <td>1</td>\n",
       "      <td>대구광역시 남구 대명동 1722-4</td>\n",
       "    </tr>\n",
       "    <tr>\n",
       "      <th>1</th>\n",
       "      <td>대명</td>\n",
       "      <td>1</td>\n",
       "      <td>대구광역시 남구 대명동 1723-11</td>\n",
       "    </tr>\n",
       "    <tr>\n",
       "      <th>2</th>\n",
       "      <td>대명</td>\n",
       "      <td>1</td>\n",
       "      <td>대구광역시 남구 대명동 1722-56</td>\n",
       "    </tr>\n",
       "    <tr>\n",
       "      <th>3</th>\n",
       "      <td>대명</td>\n",
       "      <td>2</td>\n",
       "      <td>대구광역시 남구 대명동 1722-41</td>\n",
       "    </tr>\n",
       "    <tr>\n",
       "      <th>4</th>\n",
       "      <td>대명</td>\n",
       "      <td>1</td>\n",
       "      <td>대구광역시 남구 대명동 1721-22</td>\n",
       "    </tr>\n",
       "  </tbody>\n",
       "</table>\n",
       "</div>"
      ],
      "text/plain": [
       "  보안등위치명  설치개수               소재지지번주소\n",
       "0     대명     1   대구광역시 남구 대명동 1722-4\n",
       "1     대명     1  대구광역시 남구 대명동 1723-11\n",
       "2     대명     1  대구광역시 남구 대명동 1722-56\n",
       "3     대명     2  대구광역시 남구 대명동 1722-41\n",
       "4     대명     1  대구광역시 남구 대명동 1721-22"
      ]
     },
     "execution_count": 5,
     "metadata": {},
     "output_type": "execute_result"
    }
   ],
   "source": [
    "data['보안등위치명'] = data['보안등위치명'].apply(lambda x: re.search(r'([^\\d]+)', x).group(1) if re.search(r'([^\\d]+)', x) else x)\n",
    "data['보안등위치명'].value_counts()\n",
    "data.head()\n",
    "\n",
    "#data.to_csv(\"../data/new.csv\")\n",
    "\n",
    "filtered_rows = data[data['보안등위치명'].str.contains('수성구', na=False)]\n",
    "\n",
    "data = data.drop(filtered_rows.index)\n",
    "\n",
    "\n",
    "\n",
    "filtered_rows[\"보안등위치명\"] = filtered_rows[\"보안등위치명\"].str.split(\" \").str.get(2)\n",
    "filtered_rows.head()\n",
    "\n",
    "combined_df = pd.concat([data, filtered_rows], ignore_index=True)\n",
    "combined_df.head()"
   ]
  },
  {
   "cell_type": "code",
   "execution_count": 6,
   "metadata": {},
   "outputs": [],
   "source": [
    "combined_df.drop(columns='소재지지번주소')\n",
    "#combined_df.isna().sum()\n",
    "combined_df.to_csv(\"../data/보안등2.csv\")"
   ]
  },
  {
   "cell_type": "code",
   "execution_count": 7,
   "metadata": {},
   "outputs": [],
   "source": [
    "#row_54534 = data.iloc[54533]\n",
    "#print(row_54534)"
   ]
  },
  {
   "cell_type": "code",
   "execution_count": 8,
   "metadata": {},
   "outputs": [
    {
     "data": {
      "text/plain": [
       "보안등위치명     0\n",
       "설치개수       0\n",
       "소재지지번주소    0\n",
       "dtype: int64"
      ]
     },
     "execution_count": 8,
     "metadata": {},
     "output_type": "execute_result"
    }
   ],
   "source": [
    "data.isna().sum()"
   ]
  }
 ],
 "metadata": {
  "kernelspec": {
   "display_name": "MathAI",
   "language": "python",
   "name": "python3"
  },
  "language_info": {
   "codemirror_mode": {
    "name": "ipython",
    "version": 3
   },
   "file_extension": ".py",
   "mimetype": "text/x-python",
   "name": "python",
   "nbconvert_exporter": "python",
   "pygments_lexer": "ipython3",
   "version": "3.10.13"
  }
 },
 "nbformat": 4,
 "nbformat_minor": 2
}
