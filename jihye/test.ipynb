{
 "cells": [
  {
   "cell_type": "code",
   "execution_count": 1,
   "metadata": {},
   "outputs": [
    {
     "name": "stderr",
     "output_type": "stream",
     "text": [
      "/home/estsoft/miniconda3/envs/MathAI/lib/python3.10/site-packages/tqdm/auto.py:21: TqdmWarning: IProgress not found. Please update jupyter and ipywidgets. See https://ipywidgets.readthedocs.io/en/stable/user_install.html\n",
      "  from .autonotebook import tqdm as notebook_tqdm\n"
     ]
    }
   ],
   "source": [
    "import torch\n",
    "from torch import nn\n",
    "from torch.utils.data import DataLoader\n",
    "import torchmetrics\n",
    "from typing import Optional\n",
    "from torch.utils.data import DataLoader, TensorDataset\n",
    "import pandas as pd\n",
    "import numpy as np\n",
    "from nn import *\n",
    "from preprocess import *\n",
    "from kfold import *\n",
    "from train import train_one_epoch\n",
    "from imblearn.over_sampling import SMOTE\n",
    "from collections import Counter\n",
    "pd.set_option('display.max_rows', 500)\n",
    "pd.set_option('display.max_columns', 500)\n",
    "pd.set_option('display.width', 1000)\n"
   ]
  },
  {
   "cell_type": "code",
   "execution_count": 2,
   "metadata": {},
   "outputs": [
    {
     "data": {
      "text/plain": [
       "도광역시\n",
       "서울특별시      9665\n",
       "경기도        7665\n",
       "대구광역시      2361\n",
       "경상북도       1563\n",
       "경상남도       1349\n",
       "부산광역시      1094\n",
       "충청북도        948\n",
       "전라남도        834\n",
       "대전광역시       748\n",
       "광주광역시       745\n",
       "인천광역시       686\n",
       "충청남도        658\n",
       "전라북도        652\n",
       "울산광역시       560\n",
       "강원도         400\n",
       "제주특별자치도     322\n",
       "세종특별자치시     122\n",
       "Name: count, dtype: int64"
      ]
     },
     "execution_count": 2,
     "metadata": {},
     "output_type": "execute_result"
    }
   ],
   "source": [
    "#device = torch.device(args.device)\n",
    "#train_df2 = pd.read_csv('../seoik/jung.csv')\n",
    "\n",
    "train_df = pd.read_csv('data/processed.csv')\n",
    "train_df['도광역시'].value_counts()\n",
    "#X = get_X(train_df)\n",
    "#y = get_y(train_df)[:,np.newaxis]\n",
    "\n",
    "train_df = train_df[train_df['도광역시'] != '미분류']\n",
    "train_df['도광역시'].value_counts()\n",
    "\n",
    "#train_df.to_csv('data/final.csv', index=False)"
   ]
  },
  {
   "cell_type": "code",
   "execution_count": 3,
   "metadata": {},
   "outputs": [],
   "source": [
    "#X = get_X(train_df)\n",
    "#y = get_y(train_df)[:,np.newaxis]\n",
    "\n",
    "\n",
    "\n",
    "\n"
   ]
  },
  {
   "cell_type": "code",
   "execution_count": 4,
   "metadata": {},
   "outputs": [
    {
     "data": {
      "text/plain": [
       "노면상태\n",
       "건조       29010\n",
       "젖음/습기      990\n",
       "기타         334\n",
       "서리/결빙       21\n",
       "적설          15\n",
       "침수           2\n",
       "Name: count, dtype: int64"
      ]
     },
     "execution_count": 4,
     "metadata": {},
     "output_type": "execute_result"
    }
   ],
   "source": [
    "train_df['노면상태'].value_counts()"
   ]
  },
  {
   "cell_type": "code",
   "execution_count": 5,
   "metadata": {},
   "outputs": [
    {
     "data": {
      "text/plain": [
       "기상상태\n",
       "맑음    28468\n",
       "흐림      720\n",
       "비       670\n",
       "눈        31\n",
       "안개        4\n",
       "Name: count, dtype: int64"
      ]
     },
     "execution_count": 5,
     "metadata": {},
     "output_type": "execute_result"
    }
   ],
   "source": [
    "value_to_drop = ['기타']\n",
    "column_to_check = ['노면상태','기상상태']\n",
    "\n",
    "# Create a boolean mask for rows with the specified value in the specified column\n",
    "mask = train_df[column_to_check].isin(value_to_drop).any(axis=1)\n",
    "\n",
    "# Drop rows based on the mask\n",
    "df = train_df[~mask]\n",
    "\n",
    "# If you want to reset the index after dropping rows\n",
    "df.reset_index(drop=True, inplace=True)\n",
    "\n",
    "df['기상상태'].value_counts()\n",
    "\n",
    "#df.to_csv('data/final.csv', index=False)"
   ]
  },
  {
   "cell_type": "code",
   "execution_count": 6,
   "metadata": {},
   "outputs": [
    {
     "name": "stderr",
     "output_type": "stream",
     "text": [
      "/tmp/ipykernel_371803/188592653.py:1: SettingWithCopyWarning: \n",
      "A value is trying to be set on a copy of a slice from a DataFrame.\n",
      "Try using .loc[row_indexer,col_indexer] = value instead\n",
      "\n",
      "See the caveats in the documentation: https://pandas.pydata.org/pandas-docs/stable/user_guide/indexing.html#returning-a-view-versus-a-copy\n",
      "  df['월'] = df['월'].astype(object)\n"
     ]
    },
    {
     "name": "stdout",
     "output_type": "stream",
     "text": [
      "<class 'pandas.core.frame.DataFrame'>\n",
      "RangeIndex: 29893 entries, 0 to 29892\n",
      "Data columns (total 23 columns):\n",
      " #   Column      Non-Null Count  Dtype \n",
      "---  ------      --------------  ----- \n",
      " 0   요일          29893 non-null  object\n",
      " 1   사고내용        29893 non-null  object\n",
      " 2   사망자수        29893 non-null  int64 \n",
      " 3   중상자수        29893 non-null  int64 \n",
      " 4   경상자수        29893 non-null  int64 \n",
      " 5   부상신고자수      29893 non-null  int64 \n",
      " 6   사고유형        29893 non-null  object\n",
      " 7   법규위반        29893 non-null  object\n",
      " 8   노면상태        29893 non-null  object\n",
      " 9   기상상태        29893 non-null  object\n",
      " 10  도로형태        29893 non-null  object\n",
      " 11  가해운전자 차종    29893 non-null  object\n",
      " 12  가해운전자 성별    29893 non-null  object\n",
      " 13  가해운전자 연령    29893 non-null  int64 \n",
      " 14  피해운전자 차종    29893 non-null  object\n",
      " 15  피해운전자 성별    29893 non-null  object\n",
      " 16  피해운전자 연령    29893 non-null  int64 \n",
      " 17  피해운전자 상해정도  29893 non-null  object\n",
      " 18  사고시         29893 non-null  int64 \n",
      " 19  월           29893 non-null  object\n",
      " 20  도광역시        29893 non-null  object\n",
      " 21  하루시간구분      29893 non-null  object\n",
      " 22  타겟          29893 non-null  int64 \n",
      "dtypes: int64(8), object(15)\n",
      "memory usage: 5.2+ MB\n",
      "True\n"
     ]
    }
   ],
   "source": [
    "df['월'] = df['월'].astype(object)\n",
    "#df.to_csv('data/final.csv', index=False)\n",
    "df.info()\n",
    "\n",
    "print(torch.cuda.is_available())"
   ]
  },
  {
   "cell_type": "code",
   "execution_count": 7,
   "metadata": {},
   "outputs": [
    {
     "name": "stdout",
     "output_type": "stream",
     "text": [
      "Resampled dataset shape Counter({1.0: 12701, 0.0: 12701, 2.0: 12701})\n",
      "torch.Size([38103, 105]) torch.Size([38103]) torch.float32 torch.float32\n"
     ]
    }
   ],
   "source": [
    "X = get_X(df, ['요일','사고유형','법규위반','노면상태',\n",
    "                                          '기상상태','도로형태','가해운전자 성별',\n",
    "                                          '가해운전자 연령','피해운전자 차종','피해운전자 성별',\n",
    "                                          '피해운전자 연령','피해운전자 상해정도','월',\n",
    "                                          '도광역시','하루시간구분'])\n",
    "y = get_y(df)[:,np.newaxis]\n",
    "\n",
    "device = torch.device('cpu')\n",
    "#print(X.shape,y.shape)\n",
    "\n",
    "X_trn, X_test, y_trn, y_test = split2(X,y)\n",
    "\n",
    "#SMOTE 사용하기\n",
    "sm = SMOTE(random_state=4)\n",
    "X_trn, y_trn = sm.fit_resample(X_trn, y_trn)\n",
    "print('Resampled dataset shape %s' % Counter(y_trn))\n",
    "\n",
    "X_trn, X_test, y_trn, y_test = torch.tensor(X_trn), torch.tensor(X_test),torch.tensor(y_trn), torch.tensor(y_test)\n",
    "X_trn, X_test, y_trn, y_test = X_trn.to(device), X_test.to(device), y_trn.to(device) , y_test.to(device)\n",
    "\n",
    "\n",
    "print(X_trn.shape, y_trn.shape , X_trn.dtype, y_trn.dtype)\n"
   ]
  },
  {
   "cell_type": "code",
   "execution_count": 8,
   "metadata": {},
   "outputs": [],
   "source": [
    "\n",
    "#Loader 올리기\n",
    "ds = TensorDataset(X_trn, y_trn.squeeze().to(torch.long))\n",
    "dl = DataLoader(ds, batch_size=128, shuffle=True)\n"
   ]
  },
  {
   "cell_type": "code",
   "execution_count": 9,
   "metadata": {},
   "outputs": [],
   "source": [
    "\n",
    "#모델 생성하고 그냥 train 해보기\n",
    "\n",
    "model = ANN(X_trn.shape[-1],256).to(device)\n",
    "optimizer = torch.optim.Adam(model.parameters(), lr=0.005)\n"
   ]
  },
  {
   "cell_type": "code",
   "execution_count": 10,
   "metadata": {},
   "outputs": [
    {
     "data": {
      "text/plain": [
       "'\\npbar = range(200)\\nif True:\\n    pbar = tqdm(pbar)\\nfor _ in pbar:\\n    loss = train_one_epoch(model, nn.CrossEntropyLoss(), optimizer, dl, device)\\n    pbar.set_postfix(trn_loss=loss)\\n\\ntorch.save(model.state_dict(), \"./model.pth\")\\n'"
      ]
     },
     "execution_count": 10,
     "metadata": {},
     "output_type": "execute_result"
    }
   ],
   "source": [
    "'''\n",
    "pbar = range(200)\n",
    "if True:\n",
    "    pbar = tqdm(pbar)\n",
    "for _ in pbar:\n",
    "    loss = train_one_epoch(model, nn.CrossEntropyLoss(), optimizer, dl, device)\n",
    "    pbar.set_postfix(trn_loss=loss)\n",
    "\n",
    "torch.save(model.state_dict(), \"./model.pth\")\n",
    "'''"
   ]
  },
  {
   "cell_type": "code",
   "execution_count": 11,
   "metadata": {},
   "outputs": [
    {
     "name": "stderr",
     "output_type": "stream",
     "text": [
      "  0%|          | 0/200 [00:00<?, ?it/s]"
     ]
    },
    {
     "name": "stderr",
     "output_type": "stream",
     "text": [
      " 80%|████████  | 161/200 [03:58<00:57,  1.48s/it, trn_loss=0.588, val_acc=0.699, val_loss=0.592]\n"
     ]
    },
    {
     "name": "stdout",
     "output_type": "stream",
     "text": [
      "Early stopping at epoch 161.\n"
     ]
    },
    {
     "name": "stderr",
     "output_type": "stream",
     "text": [
      " 66%|██████▌   | 131/200 [03:11<01:40,  1.46s/it, trn_loss=0.593, val_acc=0.696, val_loss=0.591]\n"
     ]
    },
    {
     "name": "stdout",
     "output_type": "stream",
     "text": [
      "Early stopping at epoch 131.\n"
     ]
    },
    {
     "name": "stderr",
     "output_type": "stream",
     "text": [
      " 69%|██████▉   | 138/200 [03:16<01:28,  1.43s/it, trn_loss=0.591, val_acc=0.696, val_loss=0.59] \n"
     ]
    },
    {
     "name": "stdout",
     "output_type": "stream",
     "text": [
      "Early stopping at epoch 138.\n"
     ]
    },
    {
     "name": "stderr",
     "output_type": "stream",
     "text": [
      " 57%|█████▋    | 114/200 [02:48<02:07,  1.48s/it, trn_loss=0.593, val_acc=0.695, val_loss=0.598]\n"
     ]
    },
    {
     "name": "stdout",
     "output_type": "stream",
     "text": [
      "Early stopping at epoch 114.\n"
     ]
    },
    {
     "name": "stderr",
     "output_type": "stream",
     "text": [
      " 60%|█████▉    | 119/200 [03:06<02:06,  1.56s/it, trn_loss=0.593, val_acc=0.695, val_loss=0.595]\n"
     ]
    },
    {
     "name": "stdout",
     "output_type": "stream",
     "text": [
      "Early stopping at epoch 119.\n"
     ]
    }
   ],
   "source": [
    "#X=torch.tensor(X)\n",
    "#y=torch.tensor(y)\n",
    "kfold_cross_validate(model,criterion=nn.CrossEntropyLoss(), device=device, X_trn=X_trn, y_trn = y_trn, n_splits=5 , lr=0.0001, epochs=200)"
   ]
  },
  {
   "cell_type": "code",
   "execution_count": 12,
   "metadata": {},
   "outputs": [
    {
     "data": {
      "text/plain": [
       "1.0    15884\n",
       "0.0     8613\n",
       "2.0     5396\n",
       "Name: count, dtype: int64"
      ]
     },
     "execution_count": 12,
     "metadata": {},
     "output_type": "execute_result"
    }
   ],
   "source": [
    "final = pd.read_csv(\"data/final.csv\")\n",
    "\n",
    "X = get_X(final)\n",
    "y = get_y(final)\n",
    "\n",
    "final.isnull().sum()\n",
    "pd.DataFrame(X).isnull().sum()\n",
    "pd.DataFrame(y).value_counts()\n",
    "\n",
    "#결측은 없다."
   ]
  },
  {
   "cell_type": "code",
   "execution_count": null,
   "metadata": {},
   "outputs": [],
   "source": []
  }
 ],
 "metadata": {
  "kernelspec": {
   "display_name": "MathAI",
   "language": "python",
   "name": "python3"
  },
  "language_info": {
   "codemirror_mode": {
    "name": "ipython",
    "version": 3
   },
   "file_extension": ".py",
   "mimetype": "text/x-python",
   "name": "python",
   "nbconvert_exporter": "python",
   "pygments_lexer": "ipython3",
   "version": "3.10.13"
  }
 },
 "nbformat": 4,
 "nbformat_minor": 2
}
