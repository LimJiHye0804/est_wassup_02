{
 "cells": [
  {
   "cell_type": "code",
   "execution_count": 11,
   "metadata": {},
   "outputs": [
    {
     "name": "stderr",
     "output_type": "stream",
     "text": [
      "C:\\Users\\user\\AppData\\Local\\Temp\\ipykernel_6728\\489573114.py:35: PerformanceWarning: indexing past lexsort depth may impact performance.\n",
      "  data_df.loc[i-1, key] = value\n",
      "C:\\Users\\user\\AppData\\Local\\Temp\\ipykernel_6728\\489573114.py:35: PerformanceWarning: indexing past lexsort depth may impact performance.\n",
      "  data_df.loc[i-1, key] = value\n",
      "C:\\Users\\user\\AppData\\Local\\Temp\\ipykernel_6728\\489573114.py:35: PerformanceWarning: indexing past lexsort depth may impact performance.\n",
      "  data_df.loc[i-1, key] = value\n",
      "C:\\Users\\user\\AppData\\Local\\Temp\\ipykernel_6728\\489573114.py:35: PerformanceWarning: indexing past lexsort depth may impact performance.\n",
      "  data_df.loc[i-1, key] = value\n",
      "C:\\Users\\user\\AppData\\Local\\Temp\\ipykernel_6728\\489573114.py:35: PerformanceWarning: indexing past lexsort depth may impact performance.\n",
      "  data_df.loc[i-1, key] = value\n",
      "C:\\Users\\user\\AppData\\Local\\Temp\\ipykernel_6728\\489573114.py:35: PerformanceWarning: indexing past lexsort depth may impact performance.\n",
      "  data_df.loc[i-1, key] = value\n",
      "C:\\Users\\user\\AppData\\Local\\Temp\\ipykernel_6728\\489573114.py:35: PerformanceWarning: indexing past lexsort depth may impact performance.\n",
      "  data_df.loc[i-1, key] = value\n",
      "C:\\Users\\user\\AppData\\Local\\Temp\\ipykernel_6728\\489573114.py:35: PerformanceWarning: indexing past lexsort depth may impact performance.\n",
      "  data_df.loc[i-1, key] = value\n",
      "C:\\Users\\user\\AppData\\Local\\Temp\\ipykernel_6728\\489573114.py:35: PerformanceWarning: indexing past lexsort depth may impact performance.\n",
      "  data_df.loc[i-1, key] = value\n",
      "C:\\Users\\user\\AppData\\Local\\Temp\\ipykernel_6728\\489573114.py:35: PerformanceWarning: indexing past lexsort depth may impact performance.\n",
      "  data_df.loc[i-1, key] = value\n"
     ]
    }
   ],
   "source": [
    "import os\n",
    "import json\n",
    "import pandas as pd\n",
    "\n",
    "# 시작 디렉토리를 현재 디렉토리로 설정\n",
    "start_dir = '.'\n",
    "\n",
    "# 결과를 저장할 빈 데이터프레임 생성\n",
    "result_df = pd.DataFrame()\n",
    "\n",
    "# 모든 하위 폴더 순회\n",
    "for root, dirs, files in os.walk(start_dir):\n",
    "    csv_files = [file for file in files if file.endswith('.csv')]\n",
    "    json_files = [file for file in files if file.startswith('configW') and file.endswith('.json')]\n",
    "\n",
    "    # .csv 파일들과 configWn.json 파일이 있는 폴더만 처리\n",
    "    if csv_files and json_files:\n",
    "        # .csv 파일 불러오기\n",
    "        data_df = pd.read_csv(os.path.join(root, csv_files[0]))\n",
    "\n",
    "        # configWn.json 파일들 처리\n",
    "        max_config_index = max(int(file.split('.')[0][7:]) for file in json_files)\n",
    "        for i in range(1, max_config_index + 1):\n",
    "            config_file_path = os.path.join(root, f'configW{i}.json')\n",
    "\n",
    "            # 파일이 존재하는지 확인\n",
    "            if os.path.exists(config_file_path):\n",
    "                with open(config_file_path, 'r') as f:\n",
    "                    config_data = json.load(f)\n",
    "\n",
    "                # config_data를 data_df의 행에 추가\n",
    "                for key, value in config_data.items():\n",
    "                    if isinstance(value, list) or isinstance(value, tuple):\n",
    "                        value = ', '.join(map(str, value))\n",
    "                    data_df.loc[i-1, key] = value\n",
    "\n",
    "        # 결과 데이터프레임에 추가\n",
    "        result_df = pd.concat([result_df, data_df], ignore_index=True)\n",
    "\n",
    "# 결과 저장\n",
    "result_df.to_csv('merge_result.csv', index=False)\n"
   ]
  }
 ],
 "metadata": {
  "kernelspec": {
   "display_name": "cudaJung",
   "language": "python",
   "name": "python3"
  },
  "language_info": {
   "codemirror_mode": {
    "name": "ipython",
    "version": 3
   },
   "file_extension": ".py",
   "mimetype": "text/x-python",
   "name": "python",
   "nbconvert_exporter": "python",
   "pygments_lexer": "ipython3",
   "version": "3.10.13"
  }
 },
 "nbformat": 4,
 "nbformat_minor": 2
}
