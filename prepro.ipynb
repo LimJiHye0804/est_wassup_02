{
 "cells": [
  {
   "cell_type": "markdown",
   "metadata": {},
   "source": [
    "# 전처리를 해보자\n",
    "- 1. 일단 기본값은 전부 칼럼이 존재해야한다.\n",
    "- 2. 추후 나머지 칼럼들을 삭제해보며 모델 성능을 파악해본다.\n",
    "- 3. 해당과정을 빠르게 가능하도록 파이프라인을 구축한다.\n"
   ]
  },
  {
   "cell_type": "code",
   "execution_count": 21,
   "metadata": {},
   "outputs": [],
   "source": [
    "import pandas as pd"
   ]
  },
  {
   "cell_type": "code",
   "execution_count": 22,
   "metadata": {},
   "outputs": [],
   "source": [
    "df = pd.read_csv('jung.csv')"
   ]
  },
  {
   "cell_type": "code",
   "execution_count": 23,
   "metadata": {},
   "outputs": [],
   "source": [
    "df[\"사고시\"] = df[\"사고일시\"].str.split(\" \").str.get(3)\n",
    "df['사고시'] = df['사고시'].str.extract('(\\d+)').astype(int)\n",
    "df['월'] = df['사고일시'].str.extract('(\\d+)월').astype(str)\n",
    "df[\"도광역시\"] = df[\"시군구\"].str.split(\" \").str.get(0)\n",
    "\n",
    "bins = [0, 6, 12, 18, 24]\n",
    "labels = ['dawn', 'morn', 'aftern', 'night']\n",
    "\n",
    "df['하루시간구분'] = pd.cut(df['사고시'], bins=bins, labels=labels, right=False)\n",
    "df['하루시간구분'] = df['하루시간구분'].astype('object')"
   ]
  },
  {
   "cell_type": "code",
   "execution_count": 24,
   "metadata": {},
   "outputs": [],
   "source": [
    "df['타겟'] = df['가해운전자 상해정도'].map({'경상': 1, '부상신고': 1, '기타불명': 0, '상해없음': 0, '사망': 2, '중상': 2})\n",
    "df.drop('가해운전자 상해정도', inplace=True, axis=1)"
   ]
  },
  {
   "cell_type": "code",
   "execution_count": 25,
   "metadata": {},
   "outputs": [],
   "source": [
    "dele = ['사고일시','사고번호','시군구']\n",
    "# dele = ['사고일시','사고번호','시군구','사망자수','중상자수','경상자수','부상신고자수']\n",
    "df.drop(columns=dele, inplace=True)"
   ]
  },
  {
   "cell_type": "code",
   "execution_count": 26,
   "metadata": {},
   "outputs": [
    {
     "name": "stdout",
     "output_type": "stream",
     "text": [
      "<class 'pandas.core.frame.DataFrame'>\n",
      "RangeIndex: 30373 entries, 0 to 30372\n",
      "Data columns (total 23 columns):\n",
      " #   Column      Non-Null Count  Dtype \n",
      "---  ------      --------------  ----- \n",
      " 0   요일          30373 non-null  object\n",
      " 1   사고내용        30373 non-null  object\n",
      " 2   사망자수        30373 non-null  int64 \n",
      " 3   중상자수        30373 non-null  int64 \n",
      " 4   경상자수        30373 non-null  int64 \n",
      " 5   부상신고자수      30373 non-null  int64 \n",
      " 6   사고유형        30373 non-null  object\n",
      " 7   법규위반        30373 non-null  object\n",
      " 8   노면상태        30373 non-null  object\n",
      " 9   기상상태        30373 non-null  object\n",
      " 10  도로형태        30373 non-null  object\n",
      " 11  가해운전자 차종    30373 non-null  object\n",
      " 12  가해운전자 성별    30373 non-null  object\n",
      " 13  가해운전자 연령    30373 non-null  int64 \n",
      " 14  피해운전자 차종    30373 non-null  object\n",
      " 15  피해운전자 성별    30373 non-null  object\n",
      " 16  피해운전자 연령    30373 non-null  int64 \n",
      " 17  피해운전자 상해정도  30373 non-null  object\n",
      " 18  사고시         30373 non-null  int32 \n",
      " 19  월           30373 non-null  object\n",
      " 20  도광역시        30373 non-null  object\n",
      " 21  하루시간구분      30373 non-null  object\n",
      " 22  타겟          30373 non-null  int64 \n",
      "dtypes: int32(1), int64(7), object(15)\n",
      "memory usage: 5.2+ MB\n"
     ]
    }
   ],
   "source": [
    "df.info()"
   ]
  },
  {
   "cell_type": "code",
   "execution_count": 28,
   "metadata": {},
   "outputs": [
    {
     "data": {
      "text/plain": [
       "타겟\n",
       "1    0.530010\n",
       "0    0.290389\n",
       "2    0.179600\n",
       "Name: proportion, dtype: float64"
      ]
     },
     "execution_count": 28,
     "metadata": {},
     "output_type": "execute_result"
    }
   ],
   "source": [
    "df['타겟'].value_counts(normalize=True)"
   ]
  },
  {
   "cell_type": "code",
   "execution_count": 17,
   "metadata": {},
   "outputs": [],
   "source": [
    "# object 타입인 열들을 선택\n",
    "object_columns = df.select_dtypes(include=['object']).columns\n",
    "# 해당 열들에 대해서 원핫 인코딩 적용\n",
    "df = pd.get_dummies(df, columns=object_columns,dtype=int)\n"
   ]
  },
  {
   "cell_type": "code",
   "execution_count": 18,
   "metadata": {},
   "outputs": [
    {
     "data": {
      "text/html": [
       "<div>\n",
       "<style scoped>\n",
       "    .dataframe tbody tr th:only-of-type {\n",
       "        vertical-align: middle;\n",
       "    }\n",
       "\n",
       "    .dataframe tbody tr th {\n",
       "        vertical-align: top;\n",
       "    }\n",
       "\n",
       "    .dataframe thead th {\n",
       "        text-align: right;\n",
       "    }\n",
       "</style>\n",
       "<table border=\"1\" class=\"dataframe\">\n",
       "  <thead>\n",
       "    <tr style=\"text-align: right;\">\n",
       "      <th></th>\n",
       "      <th>사망자수</th>\n",
       "      <th>중상자수</th>\n",
       "      <th>경상자수</th>\n",
       "      <th>부상신고자수</th>\n",
       "      <th>가해운전자 연령</th>\n",
       "      <th>피해운전자 연령</th>\n",
       "      <th>사고시</th>\n",
       "      <th>타겟</th>\n",
       "      <th>요일_금요일</th>\n",
       "      <th>요일_목요일</th>\n",
       "      <th>...</th>\n",
       "      <th>도광역시_인천광역시</th>\n",
       "      <th>도광역시_전라남도</th>\n",
       "      <th>도광역시_전라북도</th>\n",
       "      <th>도광역시_제주특별자치도</th>\n",
       "      <th>도광역시_충청남도</th>\n",
       "      <th>도광역시_충청북도</th>\n",
       "      <th>하루시간구분_aftern</th>\n",
       "      <th>하루시간구분_dawn</th>\n",
       "      <th>하루시간구분_morn</th>\n",
       "      <th>하루시간구분_night</th>\n",
       "    </tr>\n",
       "  </thead>\n",
       "  <tbody>\n",
       "    <tr>\n",
       "      <th>0</th>\n",
       "      <td>0</td>\n",
       "      <td>0</td>\n",
       "      <td>1</td>\n",
       "      <td>0</td>\n",
       "      <td>70</td>\n",
       "      <td>50</td>\n",
       "      <td>17</td>\n",
       "      <td>1</td>\n",
       "      <td>0</td>\n",
       "      <td>1</td>\n",
       "      <td>...</td>\n",
       "      <td>0</td>\n",
       "      <td>0</td>\n",
       "      <td>0</td>\n",
       "      <td>0</td>\n",
       "      <td>0</td>\n",
       "      <td>0</td>\n",
       "      <td>1</td>\n",
       "      <td>0</td>\n",
       "      <td>0</td>\n",
       "      <td>0</td>\n",
       "    </tr>\n",
       "    <tr>\n",
       "      <th>1</th>\n",
       "      <td>0</td>\n",
       "      <td>1</td>\n",
       "      <td>0</td>\n",
       "      <td>0</td>\n",
       "      <td>20</td>\n",
       "      <td>42</td>\n",
       "      <td>18</td>\n",
       "      <td>2</td>\n",
       "      <td>0</td>\n",
       "      <td>0</td>\n",
       "      <td>...</td>\n",
       "      <td>0</td>\n",
       "      <td>0</td>\n",
       "      <td>0</td>\n",
       "      <td>0</td>\n",
       "      <td>0</td>\n",
       "      <td>0</td>\n",
       "      <td>0</td>\n",
       "      <td>0</td>\n",
       "      <td>0</td>\n",
       "      <td>1</td>\n",
       "    </tr>\n",
       "    <tr>\n",
       "      <th>2</th>\n",
       "      <td>0</td>\n",
       "      <td>0</td>\n",
       "      <td>1</td>\n",
       "      <td>0</td>\n",
       "      <td>75</td>\n",
       "      <td>81</td>\n",
       "      <td>11</td>\n",
       "      <td>1</td>\n",
       "      <td>1</td>\n",
       "      <td>0</td>\n",
       "      <td>...</td>\n",
       "      <td>0</td>\n",
       "      <td>0</td>\n",
       "      <td>0</td>\n",
       "      <td>0</td>\n",
       "      <td>0</td>\n",
       "      <td>0</td>\n",
       "      <td>0</td>\n",
       "      <td>0</td>\n",
       "      <td>1</td>\n",
       "      <td>0</td>\n",
       "    </tr>\n",
       "    <tr>\n",
       "      <th>3</th>\n",
       "      <td>0</td>\n",
       "      <td>0</td>\n",
       "      <td>0</td>\n",
       "      <td>1</td>\n",
       "      <td>76</td>\n",
       "      <td>75</td>\n",
       "      <td>12</td>\n",
       "      <td>1</td>\n",
       "      <td>0</td>\n",
       "      <td>0</td>\n",
       "      <td>...</td>\n",
       "      <td>0</td>\n",
       "      <td>0</td>\n",
       "      <td>0</td>\n",
       "      <td>0</td>\n",
       "      <td>0</td>\n",
       "      <td>0</td>\n",
       "      <td>1</td>\n",
       "      <td>0</td>\n",
       "      <td>0</td>\n",
       "      <td>0</td>\n",
       "    </tr>\n",
       "    <tr>\n",
       "      <th>4</th>\n",
       "      <td>0</td>\n",
       "      <td>0</td>\n",
       "      <td>1</td>\n",
       "      <td>0</td>\n",
       "      <td>61</td>\n",
       "      <td>29</td>\n",
       "      <td>10</td>\n",
       "      <td>1</td>\n",
       "      <td>0</td>\n",
       "      <td>0</td>\n",
       "      <td>...</td>\n",
       "      <td>0</td>\n",
       "      <td>0</td>\n",
       "      <td>0</td>\n",
       "      <td>0</td>\n",
       "      <td>0</td>\n",
       "      <td>0</td>\n",
       "      <td>0</td>\n",
       "      <td>0</td>\n",
       "      <td>1</td>\n",
       "      <td>0</td>\n",
       "    </tr>\n",
       "  </tbody>\n",
       "</table>\n",
       "<p>5 rows × 119 columns</p>\n",
       "</div>"
      ],
      "text/plain": [
       "   사망자수  중상자수  경상자수  부상신고자수  가해운전자 연령  피해운전자 연령  사고시  타겟  요일_금요일  요일_목요일  ...  \\\n",
       "0     0     0     1       0        70        50   17   1       0       1  ...   \n",
       "1     0     1     0       0        20        42   18   2       0       0  ...   \n",
       "2     0     0     1       0        75        81   11   1       1       0  ...   \n",
       "3     0     0     0       1        76        75   12   1       0       0  ...   \n",
       "4     0     0     1       0        61        29   10   1       0       0  ...   \n",
       "\n",
       "   도광역시_인천광역시  도광역시_전라남도  도광역시_전라북도  도광역시_제주특별자치도  도광역시_충청남도  도광역시_충청북도  \\\n",
       "0           0          0          0             0          0          0   \n",
       "1           0          0          0             0          0          0   \n",
       "2           0          0          0             0          0          0   \n",
       "3           0          0          0             0          0          0   \n",
       "4           0          0          0             0          0          0   \n",
       "\n",
       "   하루시간구분_aftern  하루시간구분_dawn  하루시간구분_morn  하루시간구분_night  \n",
       "0              1            0            0             0  \n",
       "1              0            0            0             1  \n",
       "2              0            0            1             0  \n",
       "3              1            0            0             0  \n",
       "4              0            0            1             0  \n",
       "\n",
       "[5 rows x 119 columns]"
      ]
     },
     "execution_count": 18,
     "metadata": {},
     "output_type": "execute_result"
    }
   ],
   "source": [
    "df.head()"
   ]
  },
  {
   "cell_type": "code",
   "execution_count": 19,
   "metadata": {},
   "outputs": [],
   "source": [
    "df.to_csv('prepro_jung.csv', index=False)"
   ]
  },
  {
   "cell_type": "code",
   "execution_count": 20,
   "metadata": {},
   "outputs": [
    {
     "name": "stdout",
     "output_type": "stream",
     "text": [
      "<class 'pandas.core.frame.DataFrame'>\n",
      "RangeIndex: 30373 entries, 0 to 30372\n",
      "Columns: 119 entries, 사망자수 to 하루시간구분_night\n",
      "dtypes: int32(112), int64(7)\n",
      "memory usage: 14.6 MB\n"
     ]
    }
   ],
   "source": [
    "df.info()"
   ]
  }
 ],
 "metadata": {
  "kernelspec": {
   "display_name": "venv",
   "language": "python",
   "name": "python3"
  },
  "language_info": {
   "codemirror_mode": {
    "name": "ipython",
    "version": 3
   },
   "file_extension": ".py",
   "mimetype": "text/x-python",
   "name": "python",
   "nbconvert_exporter": "python",
   "pygments_lexer": "ipython3",
   "version": "3.10.9"
  }
 },
 "nbformat": 4,
 "nbformat_minor": 2
}
