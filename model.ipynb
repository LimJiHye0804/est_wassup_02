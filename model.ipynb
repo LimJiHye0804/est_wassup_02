{
 "cells": [
  {
   "cell_type": "code",
   "execution_count": 1,
   "metadata": {},
   "outputs": [],
   "source": [
    "import pandas as pd\n",
    "import numpy as np\n",
    "from nn import DynamicANNWrapper, DynamicANN\n",
    "from sklearn.model_selection import train_test_split\n",
    "import torch\n",
    "from wrapper_model import wrapper_model\n",
    "from cv import CV\n",
    "\n",
    "from sklearn.metrics import accuracy_score"
   ]
  },
  {
   "cell_type": "code",
   "execution_count": 2,
   "metadata": {},
   "outputs": [],
   "source": [
    "df = pd.read_csv('prepro_jung.csv')\n"
   ]
  },
  {
   "cell_type": "markdown",
   "metadata": {},
   "source": [
    "# 타겟값 분리"
   ]
  },
  {
   "cell_type": "code",
   "execution_count": 3,
   "metadata": {},
   "outputs": [],
   "source": [
    "\n",
    "# 판다스 데이터프레임을 트레인과 테스트로 나누기\n",
    "train_df, test_df = train_test_split(df, test_size=0.2, random_state=2023)\n",
    "train_df, val_df = train_test_split(train_df, test_size=0.2, random_state=2023)\n",
    "\n",
    "# 여기서\n",
    "# - your_dataframe은 나눌 데이터프레임을 대체하는 변수명입니다.\n",
    "# - test_size는 테스트 셋의 비율을 나타냅니다. 0.2는 80% 트레인, 20% 테스트로 나누겠다는 뜻입니다.\n",
    "# - random_state는 나누는 과정에서 사용되는 난수 발생 시드(seed)를 의미하며, 동일한 결과를 얻기 위해 설정합니다.\n",
    "\n",
    "# 결과로 나온 train_df와 test_df를 사용하여 모델을 훈련하고 테스트할 수 있습니다."
   ]
  },
  {
   "cell_type": "code",
   "execution_count": 4,
   "metadata": {},
   "outputs": [
    {
     "name": "stdout",
     "output_type": "stream",
     "text": [
      "<class 'pandas.core.frame.DataFrame'>\n",
      "Index: 19438 entries, 23358 to 8980\n",
      "Columns: 119 entries, 사망자수 to 하루시간구분_night\n",
      "dtypes: int64(119)\n",
      "memory usage: 17.8 MB\n"
     ]
    }
   ],
   "source": [
    "train_df.info()\n"
   ]
  },
  {
   "cell_type": "code",
   "execution_count": 5,
   "metadata": {},
   "outputs": [],
   "source": [
    "X_trn = train_df.drop('타겟',axis=1)\n",
    "y_trn = train_df['타겟']\n",
    "X_tst = test_df.drop('타겟',axis=1)\n",
    "y_tst = test_df['타겟']\n"
   ]
  },
  {
   "cell_type": "code",
   "execution_count": 6,
   "metadata": {},
   "outputs": [],
   "source": [
    "X_trn = X_trn.values\n",
    "y_trn = y_trn.values\n",
    "X_tst = X_tst.values"
   ]
  },
  {
   "cell_type": "code",
   "execution_count": 7,
   "metadata": {},
   "outputs": [
    {
     "data": {
      "text/plain": [
       "((19438, 118), (19438,), (6075, 118))"
      ]
     },
     "execution_count": 7,
     "metadata": {},
     "output_type": "execute_result"
    }
   ],
   "source": [
    "X_trn.shape, y_trn.shape, X_tst.shape"
   ]
  },
  {
   "cell_type": "code",
   "execution_count": 8,
   "metadata": {},
   "outputs": [
    {
     "name": "stdout",
     "output_type": "stream",
     "text": [
      "cpu\n"
     ]
    }
   ],
   "source": [
    "device = torch.device(\"cuda\" if torch.cuda.is_available() else \"cpu\") \n",
    "print(device)"
   ]
  },
  {
   "cell_type": "code",
   "execution_count": 10,
   "metadata": {},
   "outputs": [
    {
     "name": "stdout",
     "output_type": "stream",
     "text": [
      "<class 'numpy.ndarray'>\n",
      "True\n"
     ]
    }
   ],
   "source": [
    "print(type(y_trn))\n",
    "print((y_trn == 0).any())\n"
   ]
  },
  {
   "cell_type": "code",
   "execution_count": 8,
   "metadata": {},
   "outputs": [
    {
     "data": {
      "application/vnd.jupyter.widget-view+json": {
       "model_id": "ab158a516f9649369865817be3fac585",
       "version_major": 2,
       "version_minor": 0
      },
      "text/plain": [
       "  0%|          | 0/100 [00:00<?, ?it/s]"
      ]
     },
     "metadata": {},
     "output_type": "display_data"
    },
    {
     "name": "stdout",
     "output_type": "stream",
     "text": [
      "Epoch 1/100, Average Training Loss: 0.8773\n",
      "Epoch 2/100, Average Training Loss: 0.7581\n",
      "Epoch 3/100, Average Training Loss: 0.6203\n",
      "Epoch 4/100, Average Training Loss: 0.5994\n",
      "Epoch 5/100, Average Training Loss: 0.5914\n",
      "Epoch 6/100, Average Training Loss: 0.5843\n",
      "Epoch 7/100, Average Training Loss: 0.5805\n",
      "Epoch 8/100, Average Training Loss: 0.5717\n",
      "Epoch 9/100, Average Training Loss: 0.5718\n",
      "Epoch 10/100, Average Training Loss: 0.5680\n",
      "Epoch 11/100, Average Training Loss: 0.5691\n",
      "Epoch 12/100, Average Training Loss: 0.5670\n",
      "Epoch 13/100, Average Training Loss: 0.5667\n",
      "Epoch 14/100, Average Training Loss: 0.5665\n",
      "Epoch 15/100, Average Training Loss: 0.5690\n",
      "Epoch 16/100, Average Training Loss: 0.5671\n",
      "Epoch 17/100, Average Training Loss: 0.5695\n",
      "Epoch 18/100, Average Training Loss: 0.5664\n",
      "Epoch 19/100, Average Training Loss: 0.5679\n",
      "Epoch 20/100, Average Training Loss: 0.5672\n",
      "Epoch 21/100, Average Training Loss: 0.5665\n",
      "Epoch 22/100, Average Training Loss: 0.5702\n",
      "Epoch 23/100, Average Training Loss: 0.5683\n",
      "Epoch 24/100, Average Training Loss: 0.5677\n",
      "Epoch 25/100, Average Training Loss: 0.5671\n",
      "Epoch 26/100, Average Training Loss: 0.5665\n",
      "Epoch 27/100, Average Training Loss: 0.5734\n",
      "Epoch 28/100, Average Training Loss: 0.5671\n",
      "Epoch 29/100, Average Training Loss: 0.5669\n",
      "Epoch 30/100, Average Training Loss: 0.5680\n",
      "Epoch 31/100, Average Training Loss: 0.5675\n",
      "Epoch 32/100, Average Training Loss: 0.5670\n",
      "Epoch 33/100, Average Training Loss: 0.5690\n",
      "Epoch 34/100, Average Training Loss: 0.5674\n",
      "Epoch 35/100, Average Training Loss: 0.5669\n",
      "Epoch 36/100, Average Training Loss: 0.5669\n",
      "Epoch 37/100, Average Training Loss: 0.5670\n",
      "Epoch 38/100, Average Training Loss: 0.5667\n",
      "Epoch 39/100, Average Training Loss: 0.5667\n",
      "Epoch 40/100, Average Training Loss: 0.5667\n",
      "Epoch 41/100, Average Training Loss: 0.5668\n",
      "Epoch 42/100, Average Training Loss: 0.5668\n",
      "Epoch 43/100, Average Training Loss: 0.5667\n",
      "Epoch 44/100, Average Training Loss: 0.5667\n",
      "Epoch 45/100, Average Training Loss: 0.5668\n",
      "Epoch 46/100, Average Training Loss: 0.5667\n",
      "Epoch 47/100, Average Training Loss: 0.5668\n",
      "Epoch 48/100, Average Training Loss: 0.5668\n",
      "Epoch 49/100, Average Training Loss: 0.5668\n",
      "Epoch 50/100, Average Training Loss: 0.5668\n",
      "Epoch 51/100, Average Training Loss: 0.5667\n",
      "Epoch 52/100, Average Training Loss: 0.5667\n",
      "Epoch 53/100, Average Training Loss: 0.5668\n",
      "Epoch 54/100, Average Training Loss: 0.5668\n",
      "Epoch 55/100, Average Training Loss: 0.5668\n",
      "Epoch 56/100, Average Training Loss: 0.5668\n",
      "Epoch 57/100, Average Training Loss: 0.5668\n",
      "Epoch 58/100, Average Training Loss: 0.5668\n",
      "Epoch 59/100, Average Training Loss: 0.5667\n",
      "Epoch 60/100, Average Training Loss: 0.5667\n",
      "Epoch 61/100, Average Training Loss: 0.5668\n",
      "Epoch 62/100, Average Training Loss: 0.5668\n",
      "Epoch 63/100, Average Training Loss: 0.5668\n",
      "Epoch 64/100, Average Training Loss: 0.5668\n",
      "Epoch 65/100, Average Training Loss: 0.5667\n",
      "Epoch 66/100, Average Training Loss: 0.5668\n",
      "Epoch 67/100, Average Training Loss: 0.5668\n",
      "Epoch 68/100, Average Training Loss: 0.5667\n",
      "Epoch 69/100, Average Training Loss: 0.5668\n",
      "Epoch 70/100, Average Training Loss: 0.5668\n",
      "Epoch 71/100, Average Training Loss: 0.5667\n",
      "Epoch 72/100, Average Training Loss: 0.5667\n",
      "Epoch 73/100, Average Training Loss: 0.5667\n",
      "Epoch 74/100, Average Training Loss: 0.5667\n",
      "Epoch 75/100, Average Training Loss: 0.5667\n",
      "Epoch 76/100, Average Training Loss: 0.5668\n",
      "Epoch 77/100, Average Training Loss: 0.5667\n",
      "Epoch 78/100, Average Training Loss: 0.5701\n",
      "Epoch 79/100, Average Training Loss: 1.0040\n",
      "Epoch 80/100, Average Training Loss: 1.0230\n",
      "Epoch 81/100, Average Training Loss: 1.0225\n",
      "Epoch 82/100, Average Training Loss: 1.0227\n",
      "Epoch 83/100, Average Training Loss: 1.0224\n",
      "Epoch 84/100, Average Training Loss: 1.0228\n",
      "Epoch 85/100, Average Training Loss: 1.0220\n",
      "Epoch 86/100, Average Training Loss: 1.0223\n",
      "Epoch 87/100, Average Training Loss: 0.9834\n",
      "Epoch 88/100, Average Training Loss: 0.6595\n",
      "Epoch 89/100, Average Training Loss: 0.5834\n",
      "Epoch 90/100, Average Training Loss: 0.5723\n",
      "Epoch 91/100, Average Training Loss: 0.5706\n",
      "Epoch 92/100, Average Training Loss: 0.5791\n",
      "Epoch 93/100, Average Training Loss: 0.5714\n",
      "Epoch 94/100, Average Training Loss: 0.5705\n",
      "Epoch 95/100, Average Training Loss: 0.5763\n",
      "Epoch 96/100, Average Training Loss: 0.5672\n",
      "Epoch 97/100, Average Training Loss: 0.5669\n",
      "Epoch 98/100, Average Training Loss: 0.5668\n",
      "Epoch 99/100, Average Training Loss: 0.5682\n",
      "Epoch 100/100, Average Training Loss: 0.5698\n"
     ]
    }
   ],
   "source": [
    "models = wrapper_model(X_trn, y_trn, X_tst ,'config.json')"
   ]
  },
  {
   "cell_type": "code",
   "execution_count": null,
   "metadata": {},
   "outputs": [],
   "source": [
    "model = models[0]\n",
    "print(model.score(y_tst, X_tst))"
   ]
  },
  {
   "cell_type": "code",
   "execution_count": null,
   "metadata": {},
   "outputs": [],
   "source": [
    "feature = val_df.drop('타겟',axis=1)\n",
    "label = val_df['타겟']\n",
    "\n",
    "feature = feature.values\n",
    "label = label.values"
   ]
  },
  {
   "cell_type": "code",
   "execution_count": null,
   "metadata": {},
   "outputs": [],
   "source": [
    "performance_metrics = CV(models, feature, label, n_splits=5)"
   ]
  }
 ],
 "metadata": {
  "kernelspec": {
   "display_name": "venv",
   "language": "python",
   "name": "python3"
  },
  "language_info": {
   "codemirror_mode": {
    "name": "ipython",
    "version": 3
   },
   "file_extension": ".py",
   "mimetype": "text/x-python",
   "name": "python",
   "nbconvert_exporter": "python",
   "pygments_lexer": "ipython3",
   "version": "3.10.9"
  }
 },
 "nbformat": 4,
 "nbformat_minor": 2
}
