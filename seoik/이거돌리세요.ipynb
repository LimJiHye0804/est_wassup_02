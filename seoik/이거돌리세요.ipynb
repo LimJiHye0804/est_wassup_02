{
 "cells": [
  {
   "cell_type": "code",
   "execution_count": 7,
   "metadata": {},
   "outputs": [],
   "source": [
    "import pandas as pd\n",
    "import numpy as np\n",
    "from ANN.factory_model import factory_model, create_models , models_cv\n",
    "from ANN.cv import ClfiCV, RegCV, evaluate\n",
    "from ANN.get import get, prepro\n",
    "import torch\n",
    "import torch.nn as nn\n",
    "from torch.utils.data import DataLoader\n",
    "from collections import Counter\n",
    "from torch.utils.data import TensorDataset\n",
    "pd.set_option('display.max_rows', 500)\n",
    "pd.set_option('display.max_columns', 500)\n",
    "pd.set_option('display.width', 1000)"
   ]
  },
  {
   "cell_type": "code",
   "execution_count": 2,
   "metadata": {},
   "outputs": [],
   "source": [
    "X_trn, y_trn, X_tst, y_tst = get('data/f5.csv')\n",
    "#config_file = \"your_config_file.json\"  # Replace with your actual config file\n",
    "model = factory_model(X_trn, y_trn, \"config.json\")"
   ]
  },
  {
   "cell_type": "code",
   "execution_count": 3,
   "metadata": {},
   "outputs": [
    {
     "data": {
      "text/plain": [
       "DynamicANN(\n",
       "  (layers): ModuleList(\n",
       "    (0): Linear(in_features=98, out_features=64, bias=True)\n",
       "    (1): Linear(in_features=64, out_features=256, bias=True)\n",
       "    (2): Linear(in_features=256, out_features=256, bias=True)\n",
       "    (3): Linear(in_features=256, out_features=3, bias=True)\n",
       "  )\n",
       "  (dropout): Dropout(p=0.2, inplace=False)\n",
       ")"
      ]
     },
     "execution_count": 3,
     "metadata": {},
     "output_type": "execute_result"
    }
   ],
   "source": [
    "# Load the pre-trained weights and update the new model\n",
    "state_dict = torch.load(\"model_6.pth\")  # Load the weights from the original model\n",
    "model.model.load_state_dict(state_dict, strict=False)  # Set strict to False to ignore mismatches\n",
    "\n",
    "# Now new_model should have the weights transferred from the pre-trained model\n",
    "model.model.eval()\n"
   ]
  },
  {
   "cell_type": "code",
   "execution_count": 4,
   "metadata": {},
   "outputs": [
    {
     "name": "stdout",
     "output_type": "stream",
     "text": [
      "tensor([[-3.5048, -0.0121,  0.7691],\n",
      "        [ 2.3927, -2.1144, -2.7770],\n",
      "        [-2.8491,  0.3399,  0.0572],\n",
      "        ...,\n",
      "        [ 1.2409, -0.8634, -1.5170],\n",
      "        [ 1.4843, -1.0891, -1.9066],\n",
      "        [-3.5251,  0.2373,  0.5331]], device='cuda:0')\n"
     ]
    }
   ],
   "source": [
    "X_tst = torch.tensor(X_tst, dtype=torch.float32).to(model.device)\n",
    "\n",
    "with torch.no_grad():\n",
    "    outputs = model.model(X_tst)\n",
    "    \n",
    "print(outputs)"
   ]
  },
  {
   "cell_type": "code",
   "execution_count": 5,
   "metadata": {},
   "outputs": [
    {
     "name": "stdout",
     "output_type": "stream",
     "text": [
      "Accuracy: 68.16%\n"
     ]
    }
   ],
   "source": [
    "y_test_tensor = torch.tensor(y_tst, dtype=torch.long).to(model.device)\n",
    "\n",
    "# Compare outputs with y_test_tensor\n",
    "correct_predictions = torch.sum(torch.argmax(outputs, dim=1) == y_test_tensor).item()\n",
    "total_samples = len(y_test_tensor)\n",
    "\n",
    "accuracy = correct_predictions / total_samples\n",
    "print(f\"Accuracy: {accuracy * 100:.2f}%\")"
   ]
  },
  {
   "cell_type": "code",
   "execution_count": 8,
   "metadata": {},
   "outputs": [
    {
     "name": "stdout",
     "output_type": "stream",
     "text": [
      "Model 9 evaluation results:\n",
      "   Accuracy  Precision (Class 0)  Precision (Class 1)  Precision (Class 2)  Recall (Class 0)  Recall (Class 1)  Recall (Class 2)  F1 Score (Class 0)  F1 Score (Class 1)  F1 Score (Class 2)                             Label Confusion Matrix                                   Confusion Matrix\n",
      "0  0.681646             0.828697              0.77502             0.319892          0.947016          0.615457          0.438306            0.883915            0.686083            0.369852  [[[3931, 351], [95, 1698]], [[2308, 571], [122...  [[1698, 34, 61], [278, 1967, 951], [73, 537, 4...\n",
      "Model 9 evaluation metrics saved to 'model_9_evaluation_metrics.csv'\n",
      "Overall evaluation results:\n",
      "Model 9: Loss = 0.6887\n"
     ]
    },
    {
     "name": "stderr",
     "output_type": "stream",
     "text": [
      "C:\\Users\\user\\AppData\\Local\\Temp\\ipykernel_6148\\1264411198.py:10: UserWarning: To copy construct from a tensor, it is recommended to use sourceTensor.clone().detach() or sourceTensor.clone().detach().requires_grad_(True), rather than torch.tensor(sourceTensor).\n",
      "  test_dataset = TensorDataset(torch.tensor(X_tst, dtype=torch.float32), torch.tensor(y_tst, dtype=torch.long))\n"
     ]
    }
   ],
   "source": [
    "# Load your training and testing data\n",
    "# Replace the following lines with your actual data loading logic\n",
    "\n",
    "num_models = 1\n",
    "batch_size = 256\n",
    "\n",
    "b = 9\n",
    "eval_results = []\n",
    "\n",
    "test_dataset = TensorDataset(torch.tensor(X_tst, dtype=torch.float32), torch.tensor(y_tst, dtype=torch.long))\n",
    "test_loader = DataLoader(dataset=test_dataset, batch_size=batch_size, shuffle=False)\n",
    "eval_loss, eval_metrics_df = evaluate(model, nn.CrossEntropyLoss(), test_loader, 'cuda' if torch.cuda.is_available() else 'cpu')\n",
    "\n",
    "    # Print and save evaluation metrics\n",
    "print(f\"Model {b} evaluation results:\")\n",
    "print(eval_metrics_df)\n",
    "\n",
    "eval_metrics_df.to_csv(f'model_{b}_evaluation_metrics.csv', index=False)\n",
    "print(f\"Model {b} evaluation metrics saved to 'model_{b}_evaluation_metrics.csv'\")\n",
    "\n",
    "eval_results.append(eval_loss)\n",
    "\n",
    "print(\"Overall evaluation results:\")\n",
    "for i, result in enumerate(eval_results, start=1):\n",
    "    print(f\"Model {b}: Loss = {result:.4f}\")"
   ]
  }
 ],
 "metadata": {
  "kernelspec": {
   "display_name": "MathAI",
   "language": "python",
   "name": "python3"
  },
  "language_info": {
   "codemirror_mode": {
    "name": "ipython",
    "version": 3
   },
   "file_extension": ".py",
   "mimetype": "text/x-python",
   "name": "python",
   "nbconvert_exporter": "python",
   "pygments_lexer": "ipython3",
   "version": "3.10.13"
  }
 },
 "nbformat": 4,
 "nbformat_minor": 2
}
