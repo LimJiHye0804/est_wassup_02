{
 "cells": [
  {
   "cell_type": "markdown",
   "metadata": {},
   "source": [
    "# 공장을 만들꺼다 모델 공장\n",
    "\n",
    "### 아이디어는 다음과 같습니다.\n",
    "\n",
    "# 순서\n",
    "### 1.전처리 : base 파일은 아무칼럼도 제거하지 않은 파일 -> 우리는 이 파일에서 몇개씩 칼럼을 제거하며 모델의 성능을 파악할 것임\n",
    "        사용법 : \n",
    "        prepro() 함수를 사용하세요\n",
    "        prepro(\"파일경로\", [\"삭제할 칼럼\", \"삭제할 칼럼2\"]) --> 삭제할 칼럼 여러개를 집어넣어도 된다. 단 존재해야함\n",
    "        prepro(\"파일경로\") --> 삭제할 칼럼을 적지 않으면 삭제하지 않고 원핫인코딩한 pd를 리턴해준다\n",
    "        df = prepro(\"파일경로\") --> 이런식으로 df에 저장가능함\n",
    "\n",
    "### 2.데이터 나누기 : \n",
    "        사용법 : \n",
    "        get() 함수를 사용하세요\n",
    "        get(\"파일경로\") --> 판다스 파일을 보내주면 알아서 train데이터 test데이터 validation데이터 나눠준다. \n",
    "                        비율은 train test가 8대2로 나눠지고 다시 train을 train validation으로 8대 2 나눔\n",
    "        X_trn, y_trn, X_tst, y_tst = get('파일경로')  --> 이런식으로 리턴이 총4개 항목이기에 변수 4개에 넣어준다.\n",
    "\n",
    "### 3.모델 여러개 만들기\n",
    "        사용법 : \n",
    "                앞에 설명 존재\n",
    "\n",
    "# 커스텀모델 함수를 사용해보자\n",
    "\n",
    "### 인공신경망 만드는 함수\n",
    "- factiory_model( 트레이닝 데이터(X값=칼럼=피쳐=열) ,  타겟 데이터(맞춰야하는 데이터) , 하이퍼 파라미터 셋팅한 json파일의 이름)\n",
    "- -> EX :  factory_model(X_trn, y_trn,'config.json')\n",
    "\n",
    "          리턴값(아웃풋)은 인공신경망 모델을 리턴함 학습도 가능함\n",
    "          model = factory_model(X_trn, y_trn,'config.json')\n",
    "          model.fit(X_trn, y_trn)\n",
    "### 인공신경망 모델 여러개 만드는 함수\n",
    "- create_models( 트레이닝 데이터(X값=칼럼=피쳐=열) ,  타겟 데이터(맞춰야하는 데이터), 하이퍼 파라미터 셋팅한 json파일의 이름 'configW.json' 무조건 W가 뒤에 붙어있어야함 , 몇개의 config.json파일을 넣을 것인지 )\n",
    "- -> EX :  create_models(X_trn, y_trn,'configW.json',2)\n",
    "\n",
    "          리턴값(아웃풋)은 인공신경망 모델 여러개를 담은 리스트를 리턴함 인덱스로 꺼내서 사용 가능함\n",
    "          models = create_models(X_trn, y_trn,'configW.json',2)\n",
    "          model1 = models[0]\n",
    "### 인공신경만 모델에 대한 교차검증 함수\n",
    "- CV(모델(한개의 모델), 트레이닝 데이터(X값=칼럼=피쳐=열) ,  타겟 데이터(맞춰야하는 데이터), 5번 교차 검증을 할 것이고 기본값이기에 안적어도 됨)\n",
    "- -> EX :  CV(m, feature, label, n_splits=5)\n",
    "\n",
    "          리턴값(아웃풋)은 판다스 데이터프레임이다 교차검증 후 5번 평균의 결과값을 가지고 있음 다음과 같이 프레임 확인도 가능함\n",
    "          d = CV(m, feature, label, n_splits=5)  \n",
    "          d.head()\n",
    "### 인공신경만 모델 여러개에 대한 교차검증 함수\n",
    "- models_cv(모델들(여러개의 모델), 트레이닝 데이터(X값=칼럼=피쳐=열) ,  타겟 데이터(맞춰야하는 데이터), 5번 교차 검증을 할 것이고 기본값이기에 안적어도 됨)\n",
    "- -> EX :  models_cv(models, feature, label, n_splits=5)\n",
    "\n",
    "          리턴값(아웃풋)은 판다스 데이터프레임이다 여러 모델들을 순서대로 하나씩 5번 교차검증 후 데이터 평균 결과값을 한 행마다 스택처럼 쌓아서 리턴함\n",
    "          d = models_cv(models, feature, label, n_splits=5) \n",
    "          d.head()\n",
    "\n",
    "\n",
    "### 4.모델 여러개 cross validation 교차검증 하기 \n",
    "\n",
    "\n",
    "\n",
    "### 5.최종 모델 선정"
   ]
  },
  {
   "cell_type": "code",
   "execution_count": 4,
   "metadata": {},
   "outputs": [],
   "source": [
    "from get import get,prepro\n",
    "from factory_model import factory_model, create_models , models_cv\n",
    "from cv import CV\n",
    "from sklearn.metrics import accuracy_score"
   ]
  },
  {
   "cell_type": "code",
   "execution_count": 2,
   "metadata": {},
   "outputs": [],
   "source": [
    "df = prepro(\"data/base.csv\",[])\n",
    "# df.to_csv(\"data/prepro_so_5.csv\")\n",
    "X_trn, y_trn, X_tst, y_tst = get('data/prepro_jung.csv')"
   ]
  },
  {
   "cell_type": "code",
   "execution_count": 3,
   "metadata": {},
   "outputs": [
    {
     "data": {
      "application/vnd.jupyter.widget-view+json": {
       "model_id": "1f9ec5fadcf04ece8d95ec66dcdf06a2",
       "version_major": 2,
       "version_minor": 0
      },
      "text/plain": [
       "  0%|          | 0/20 [00:00<?, ?it/s]"
      ]
     },
     "metadata": {},
     "output_type": "display_data"
    },
    {
     "name": "stdout",
     "output_type": "stream",
     "text": [
      "Epoch 1/20, Average Training Loss: 0.7351\n",
      "Epoch 2/20, Average Training Loss: 0.5957\n",
      "Epoch 3/20, Average Training Loss: 0.5783\n",
      "Epoch 4/20, Average Training Loss: 0.5819\n",
      "Epoch 5/20, Average Training Loss: 0.5721\n",
      "Epoch 6/20, Average Training Loss: 0.5670\n",
      "Epoch 7/20, Average Training Loss: 0.5710\n",
      "Epoch 8/20, Average Training Loss: 0.5656\n",
      "Epoch 9/20, Average Training Loss: 0.5688\n",
      "Epoch 10/20, Average Training Loss: 0.5663\n",
      "Epoch 11/20, Average Training Loss: 0.5657\n",
      "Epoch 12/20, Average Training Loss: 0.5669\n",
      "Epoch 13/20, Average Training Loss: 0.5733\n",
      "Epoch 14/20, Average Training Loss: 0.5655\n",
      "Epoch 15/20, Average Training Loss: 0.5647\n",
      "Epoch 16/20, Average Training Loss: 0.5648\n",
      "Epoch 17/20, Average Training Loss: 0.5659\n",
      "Epoch 18/20, Average Training Loss: 0.5646\n",
      "Epoch 19/20, Average Training Loss: 0.5676\n",
      "Epoch 20/20, Average Training Loss: 0.5649\n"
     ]
    }
   ],
   "source": [
    "model = factory_model(X_trn,y_trn,\"config.json\")\n",
    "model.fit(X_trn,y_trn)\n"
   ]
  },
  {
   "cell_type": "code",
   "execution_count": 3,
   "metadata": {},
   "outputs": [],
   "source": [
    "models = create_models(X_trn, y_trn,'configW.json',2)"
   ]
  },
  {
   "cell_type": "code",
   "execution_count": 4,
   "metadata": {},
   "outputs": [
    {
     "name": "stdout",
     "output_type": "stream",
     "text": [
      "\n",
      "=== DynamicANNWrapper ===\n"
     ]
    },
    {
     "data": {
      "application/vnd.jupyter.widget-view+json": {
       "model_id": "00690a2e55354179813805cce1dd7713",
       "version_major": 2,
       "version_minor": 0
      },
      "text/plain": [
       "  0%|          | 0/1 [00:00<?, ?it/s]"
      ]
     },
     "metadata": {},
     "output_type": "display_data"
    },
    {
     "name": "stdout",
     "output_type": "stream",
     "text": [
      "Epoch 1/1, Average Training Loss: 0.7280\n",
      "\n",
      "#1 Confusion Matrix: \n",
      "[[2453   54   53]\n",
      " [ 209 2416    7]\n",
      " [  56    1 2493]]\n",
      "\n",
      "#1 교차 검증 Accuracy: 0.9509170756910359, Precision: 0.9522472939643357, Recall: 0.9512611048408726, F1: 0.9511616838138764\n"
     ]
    },
    {
     "data": {
      "application/vnd.jupyter.widget-view+json": {
       "model_id": "366a128014234f5aaa78f2e1b77d9ce7",
       "version_major": 2,
       "version_minor": 0
      },
      "text/plain": [
       "  0%|          | 0/1 [00:00<?, ?it/s]"
      ]
     },
     "metadata": {},
     "output_type": "display_data"
    },
    {
     "name": "stdout",
     "output_type": "stream",
     "text": [
      "Epoch 1/1, Average Training Loss: 0.7258\n",
      "\n",
      "#2 Confusion Matrix: \n",
      "[[2494   51   30]\n",
      " [ 170 2329    6]\n",
      " [  74    1 2586]]\n",
      "\n",
      "#2 교차 검증 Accuracy: 0.9571114843043534, Precision: 0.958438105501454, Recall: 0.9566997717950191, F1: 0.9570515198499031\n"
     ]
    },
    {
     "data": {
      "application/vnd.jupyter.widget-view+json": {
       "model_id": "dae19329632645b2a085d50aae5accf9",
       "version_major": 2,
       "version_minor": 0
      },
      "text/plain": [
       "  0%|          | 0/1 [00:00<?, ?it/s]"
      ]
     },
     "metadata": {},
     "output_type": "display_data"
    },
    {
     "name": "stdout",
     "output_type": "stream",
     "text": [
      "Epoch 1/1, Average Training Loss: 0.7360\n",
      "\n",
      "#3 Confusion Matrix: \n",
      "[[2419   89   31]\n",
      " [ 173 2463   10]\n",
      " [  48    4 2504]]\n",
      "\n",
      "#3 교차 검증 Accuracy: 0.9541402919519442, Precision: 0.9545976275385639, Recall: 0.9544106708221766, F1: 0.9542896457347972\n"
     ]
    },
    {
     "data": {
      "application/vnd.jupyter.widget-view+json": {
       "model_id": "4ca8c089d11c4cc3b0d4172a87b52906",
       "version_major": 2,
       "version_minor": 0
      },
      "text/plain": [
       "  0%|          | 0/1 [00:00<?, ?it/s]"
      ]
     },
     "metadata": {},
     "output_type": "display_data"
    },
    {
     "name": "stdout",
     "output_type": "stream",
     "text": [
      "Epoch 1/1, Average Training Loss: 0.7298\n",
      "\n",
      "#4 Confusion Matrix: \n",
      "[[2446   61   55]\n",
      " [ 177 2398   11]\n",
      " [  46    2 2545]]\n",
      "\n",
      "#4 교차 검증 Accuracy: 0.9545278387805193, Precision: 0.9551903622191764, Recall: 0.9545041155689122, F1: 0.9545184317374233\n"
     ]
    },
    {
     "data": {
      "application/vnd.jupyter.widget-view+json": {
       "model_id": "56c607e359cd407badf57856df262367",
       "version_major": 2,
       "version_minor": 0
      },
      "text/plain": [
       "  0%|          | 0/1 [00:00<?, ?it/s]"
      ]
     },
     "metadata": {},
     "output_type": "display_data"
    },
    {
     "name": "stdout",
     "output_type": "stream",
     "text": [
      "Epoch 1/1, Average Training Loss: 0.7320\n",
      "\n",
      "#5 Confusion Matrix: \n",
      "[[2354  176  136]\n",
      " [  57 2463   13]\n",
      " [  30    0 2512]]\n",
      "\n",
      "#5 교차 검증 Accuracy: 0.9467769022090169, Precision: 0.9472243177773704, Recall: 0.9478445988684157, F1: 0.946634968821017\n",
      "\n",
      "## 평균 검증 Accuracy: 0.952694718587374\n",
      "## 평균 검증 Precision: 0.9535395414001802\n",
      "## 평균 검증 Recall: 0.9529440523790793\n",
      "## 평균 검증 F1: 0.9527312499914034\n",
      "## 평균 confusion_matrix: [[2433   86   61]\n",
      " [ 157 2413    9]\n",
      " [  50    1 2528]]\n",
      "## 평균 early_stopping_epoch: nan\n",
      "\n",
      "=== DynamicANNWrapper ===\n"
     ]
    },
    {
     "name": "stderr",
     "output_type": "stream",
     "text": [
      "c:\\Users\\user\\miniconda3\\envs\\venv\\lib\\site-packages\\numpy\\core\\fromnumeric.py:3504: RuntimeWarning: Mean of empty slice.\n",
      "  return _methods._mean(a, axis=axis, dtype=dtype,\n",
      "c:\\Users\\user\\miniconda3\\envs\\venv\\lib\\site-packages\\numpy\\core\\_methods.py:129: RuntimeWarning: invalid value encountered in scalar divide\n",
      "  ret = ret.dtype.type(ret / rcount)\n"
     ]
    },
    {
     "data": {
      "application/vnd.jupyter.widget-view+json": {
       "model_id": "3ec9affc233b4c4aa971653d4460427b",
       "version_major": 2,
       "version_minor": 0
      },
      "text/plain": [
       "  0%|          | 0/1 [00:00<?, ?it/s]"
      ]
     },
     "metadata": {},
     "output_type": "display_data"
    },
    {
     "name": "stdout",
     "output_type": "stream",
     "text": [
      "Epoch 1/1, Average Training Loss: 0.7170\n",
      "\n",
      "#1 Confusion Matrix: \n",
      "[[2452   63   45]\n",
      " [ 174 2439   19]\n",
      " [  37    0 2513]]\n",
      "\n",
      "#1 교차 검증 Accuracy: 0.9563420304830793, Precision: 0.9569170392194492, Recall: 0.9566581428670758, F1: 0.956453568853408\n"
     ]
    },
    {
     "data": {
      "application/vnd.jupyter.widget-view+json": {
       "model_id": "1976fcefe7d847638d75aebb7e1e10e9",
       "version_major": 2,
       "version_minor": 0
      },
      "text/plain": [
       "  0%|          | 0/1 [00:00<?, ?it/s]"
      ]
     },
     "metadata": {},
     "output_type": "display_data"
    },
    {
     "name": "stdout",
     "output_type": "stream",
     "text": [
      "Epoch 1/1, Average Training Loss: 0.7273\n",
      "\n",
      "#2 Confusion Matrix: \n",
      "[[2499   48   28]\n",
      " [ 190 2310    5]\n",
      " [  75    0 2586]]\n",
      "\n",
      "#2 교차 검증 Accuracy: 0.9553029324376695, Precision: 0.9570559980388275, Recall: 0.9548187442061837, F1: 0.9552355537312268\n"
     ]
    },
    {
     "data": {
      "application/vnd.jupyter.widget-view+json": {
       "model_id": "9ca5dfba70ef43f39ef05b41af467001",
       "version_major": 2,
       "version_minor": 0
      },
      "text/plain": [
       "  0%|          | 0/1 [00:00<?, ?it/s]"
      ]
     },
     "metadata": {},
     "output_type": "display_data"
    },
    {
     "name": "stdout",
     "output_type": "stream",
     "text": [
      "Epoch 1/1, Average Training Loss: 0.7205\n",
      "\n",
      "#3 Confusion Matrix: \n",
      "[[2372  120   47]\n",
      " [ 113 2517   16]\n",
      " [  32    1 2523]]\n",
      "\n",
      "#3 교차 검증 Accuracy: 0.9574990311329286, Precision: 0.957387235119251, Recall: 0.9575208135560006, F1: 0.9574362396687327\n"
     ]
    },
    {
     "data": {
      "application/vnd.jupyter.widget-view+json": {
       "model_id": "8f72584c703849e683962f2d2c9d879b",
       "version_major": 2,
       "version_minor": 0
      },
      "text/plain": [
       "  0%|          | 0/1 [00:00<?, ?it/s]"
      ]
     },
     "metadata": {},
     "output_type": "display_data"
    },
    {
     "name": "stdout",
     "output_type": "stream",
     "text": [
      "Epoch 1/1, Average Training Loss: 0.7404\n",
      "\n",
      "#4 Confusion Matrix: \n",
      "[[2479   64   19]\n",
      " [ 168 2410    8]\n",
      " [  87    3 2503]]\n",
      "\n",
      "#4 교차 검증 Accuracy: 0.9549153856090944, Precision: 0.9563364265546976, Recall: 0.9549452751038775, F1: 0.9551149357510799\n"
     ]
    },
    {
     "data": {
      "application/vnd.jupyter.widget-view+json": {
       "model_id": "fd9952dfed734f7b82137918756e4bf9",
       "version_major": 2,
       "version_minor": 0
      },
      "text/plain": [
       "  0%|          | 0/1 [00:00<?, ?it/s]"
      ]
     },
     "metadata": {},
     "output_type": "display_data"
    },
    {
     "name": "stdout",
     "output_type": "stream",
     "text": [
      "Epoch 1/1, Average Training Loss: 0.7134\n",
      "\n",
      "#5 Confusion Matrix: \n",
      "[[2507   95   64]\n",
      " [ 154 2368   11]\n",
      " [  28    0 2514]]\n",
      "\n",
      "#5 교차 검증 Accuracy: 0.9545278387805193, Precision: 0.9549257613545098, Recall: 0.9547349970478667, F1: 0.9547351674001939\n",
      "\n",
      "## 평균 검증 Accuracy: 0.9557174436886582\n",
      "## 평균 검증 Precision: 0.956524492057347\n",
      "## 평균 검증 Recall: 0.9557355945562008\n",
      "## 평균 검증 F1: 0.9557950930809282\n",
      "## 평균 confusion_matrix: [[2461   78   40]\n",
      " [ 159 2408   11]\n",
      " [  51    0 2527]]\n",
      "## 평균 early_stopping_epoch: nan\n"
     ]
    },
    {
     "name": "stderr",
     "output_type": "stream",
     "text": [
      "c:\\Users\\user\\miniconda3\\envs\\venv\\lib\\site-packages\\numpy\\core\\fromnumeric.py:3504: RuntimeWarning: Mean of empty slice.\n",
      "  return _methods._mean(a, axis=axis, dtype=dtype,\n",
      "c:\\Users\\user\\miniconda3\\envs\\venv\\lib\\site-packages\\numpy\\core\\_methods.py:129: RuntimeWarning: invalid value encountered in scalar divide\n",
      "  ret = ret.dtype.type(ret / rcount)\n"
     ]
    },
    {
     "data": {
      "text/html": [
       "<div>\n",
       "<style scoped>\n",
       "    .dataframe tbody tr th:only-of-type {\n",
       "        vertical-align: middle;\n",
       "    }\n",
       "\n",
       "    .dataframe tbody tr th {\n",
       "        vertical-align: top;\n",
       "    }\n",
       "\n",
       "    .dataframe thead th {\n",
       "        text-align: right;\n",
       "    }\n",
       "</style>\n",
       "<table border=\"1\" class=\"dataframe\">\n",
       "  <thead>\n",
       "    <tr style=\"text-align: right;\">\n",
       "      <th></th>\n",
       "      <th>Model</th>\n",
       "      <th>Avg Accuracy</th>\n",
       "      <th>Avg Precision</th>\n",
       "      <th>Avg Recall</th>\n",
       "      <th>Avg F1</th>\n",
       "      <th>Avg Confusion Matrix</th>\n",
       "      <th>Avg Early Stopping Epoch</th>\n",
       "    </tr>\n",
       "  </thead>\n",
       "  <tbody>\n",
       "    <tr>\n",
       "      <th>0</th>\n",
       "      <td>DynamicANNWrapper0</td>\n",
       "      <td>0.952695</td>\n",
       "      <td>0.953540</td>\n",
       "      <td>0.952944</td>\n",
       "      <td>0.952731</td>\n",
       "      <td>[[2433, 86, 61], [157, 2413, 9], [50, 1, 2528]]</td>\n",
       "      <td>NaN</td>\n",
       "    </tr>\n",
       "    <tr>\n",
       "      <th>1</th>\n",
       "      <td>DynamicANNWrapper0</td>\n",
       "      <td>0.955717</td>\n",
       "      <td>0.956524</td>\n",
       "      <td>0.955736</td>\n",
       "      <td>0.955795</td>\n",
       "      <td>[[2461, 78, 40], [159, 2408, 11], [51, 0, 2527]]</td>\n",
       "      <td>NaN</td>\n",
       "    </tr>\n",
       "  </tbody>\n",
       "</table>\n",
       "</div>"
      ],
      "text/plain": [
       "                Model  Avg Accuracy  Avg Precision  Avg Recall    Avg F1  \\\n",
       "0  DynamicANNWrapper0      0.952695       0.953540    0.952944  0.952731   \n",
       "1  DynamicANNWrapper0      0.955717       0.956524    0.955736  0.955795   \n",
       "\n",
       "                               Avg Confusion Matrix  Avg Early Stopping Epoch  \n",
       "0   [[2433, 86, 61], [157, 2413, 9], [50, 1, 2528]]                       NaN  \n",
       "1  [[2461, 78, 40], [159, 2408, 11], [51, 0, 2527]]                       NaN  "
      ]
     },
     "execution_count": 4,
     "metadata": {},
     "output_type": "execute_result"
    }
   ],
   "source": [
    "df = models_cv(models,X_trn,y_trn)\n",
    "df.head()"
   ]
  },
  {
   "cell_type": "code",
   "execution_count": 5,
   "metadata": {},
   "outputs": [
    {
     "name": "stdout",
     "output_type": "stream",
     "text": [
      "Confusion Matrix:\n",
      "[[2484   70   25]\n",
      " [ 182 2390    8]\n",
      " [  71    7 2502]]\n",
      "[[2471   75   33]\n",
      " [ 201 2371    8]\n",
      " [  59    3 2517]]\n"
     ]
    }
   ],
   "source": [
    "# 'Confusion_Matrix' 칼럼 출력\n",
    "confusion_matrices = df['Avg Confusion Matrix']\n",
    "\n",
    "# apply 함수를 사용하여 리스트의 내용을 출력\n",
    "print(f\"Confusion Matrix:\")\n",
    "for row in confusion_matrices:\n",
    "    print(row)\n"
   ]
  }
 ],
 "metadata": {
  "kernelspec": {
   "display_name": "venv",
   "language": "python",
   "name": "python3"
  },
  "language_info": {
   "codemirror_mode": {
    "name": "ipython",
    "version": 3
   },
   "file_extension": ".py",
   "mimetype": "text/x-python",
   "name": "python",
   "nbconvert_exporter": "python",
   "pygments_lexer": "ipython3",
   "version": "3.10.9"
  }
 },
 "nbformat": 4,
 "nbformat_minor": 2
}
