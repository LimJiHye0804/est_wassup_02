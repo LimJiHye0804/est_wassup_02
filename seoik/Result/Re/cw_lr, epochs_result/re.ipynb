{
 "cells": [
  {
   "cell_type": "code",
   "execution_count": 4,
   "metadata": {},
   "outputs": [],
   "source": [
    "import os\n",
    "import json\n",
    "import pandas as pd\n",
    "import fnmatch\n",
    "\n",
    "# 시작 디렉토리를 현재 디렉토리로 설정\n",
    "start_dir = '.'\n",
    "\n",
    "# 결과를 저장할 빈 데이터프레임 생성\n",
    "result_df = pd.DataFrame()\n",
    "\n",
    "# 모든 하위 폴더 순회\n",
    "for root, dirs, files in os.walk(start_dir):\n",
    "    # .csv 파일들과 configWn.json 파일이 있는 폴더만 처리\n",
    "    for file in files:\n",
    "        if fnmatch.fnmatch(file, '*.csv') and any('configW' in f for f in files):\n",
    "            # .csv 파일 불러오기\n",
    "            data_df = pd.read_csv(os.path.join(root, file))\n",
    "            \n",
    "            # configWn.json 파일들 처리\n",
    "            for i in range(len(data_df)):\n",
    "                with open(os.path.join(root, f'configW{i+1}.json'), 'r') as f:\n",
    "                    config_data = json.load(f)\n",
    "                \n",
    "                # config_data를 data_df의 행에 추가\n",
    "                for key, value in config_data.items():\n",
    "                    if isinstance(value, list) or isinstance(value, tuple):  # 값이 리스트 또는 튜플일 경우\n",
    "                        value = ', '.join(map(str, value))  # 값들을 문자열로 변환하여 하나의 문자열로 합침\n",
    "                    data_df.loc[i, key] = value\n",
    "            \n",
    "            # 결과 데이터프레임에 추가\n",
    "            result_df = pd.concat([result_df, data_df], ignore_index=True)\n",
    "\n",
    "# 결과 저장\n",
    "result_df.to_csv('merge_result.csv', index=False)\n"
   ]
  }
 ],
 "metadata": {
  "kernelspec": {
   "display_name": "cudaJung",
   "language": "python",
   "name": "python3"
  },
  "language_info": {
   "codemirror_mode": {
    "name": "ipython",
    "version": 3
   },
   "file_extension": ".py",
   "mimetype": "text/x-python",
   "name": "python",
   "nbconvert_exporter": "python",
   "pygments_lexer": "ipython3",
   "version": "3.10.13"
  }
 },
 "nbformat": 4,
 "nbformat_minor": 2
}
