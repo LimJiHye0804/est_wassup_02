{
 "cells": [
  {
   "cell_type": "code",
   "execution_count": 1,
   "metadata": {},
   "outputs": [],
   "source": [
    "import pandas as pd\n",
    "\n",
    "combined_data = pd.read_csv(\"output_combined.csv\")"
   ]
  },
  {
   "cell_type": "code",
   "execution_count": 2,
   "metadata": {},
   "outputs": [
    {
     "name": "stdout",
     "output_type": "stream",
     "text": [
      "<class 'pandas.core.frame.DataFrame'>\n",
      "RangeIndex: 32632 entries, 0 to 32631\n",
      "Data columns (total 22 columns):\n",
      " #   Column      Non-Null Count  Dtype \n",
      "---  ------      --------------  ----- \n",
      " 0   사고번호        32632 non-null  int64 \n",
      " 1   사고일시        32632 non-null  object\n",
      " 2   요일          32632 non-null  object\n",
      " 3   시군구         32632 non-null  object\n",
      " 4   사고내용        32632 non-null  object\n",
      " 5   사망자수        32632 non-null  int64 \n",
      " 6   중상자수        32632 non-null  int64 \n",
      " 7   경상자수        32632 non-null  int64 \n",
      " 8   부상신고자수      32632 non-null  int64 \n",
      " 9   사고유형        32632 non-null  object\n",
      " 10  법규위반        32632 non-null  object\n",
      " 11  노면상태        32632 non-null  object\n",
      " 12  기상상태        32632 non-null  object\n",
      " 13  도로형태        32632 non-null  object\n",
      " 14  가해운전자 차종    32632 non-null  object\n",
      " 15  가해운전자 성별    32632 non-null  object\n",
      " 16  가해운전자 연령    32632 non-null  object\n",
      " 17  가해운전자 상해정도  32632 non-null  object\n",
      " 18  피해운전자 차종    31198 non-null  object\n",
      " 19  피해운전자 성별    31198 non-null  object\n",
      " 20  피해운전자 연령    31198 non-null  object\n",
      " 21  피해운전자 상해정도  31198 non-null  object\n",
      "dtypes: int64(5), object(17)\n",
      "memory usage: 5.5+ MB\n",
      "None\n"
     ]
    }
   ],
   "source": [
    "print(combined_data.info())"
   ]
  },
  {
   "cell_type": "code",
   "execution_count": 3,
   "metadata": {},
   "outputs": [
    {
     "data": {
      "text/plain": [
       "사망자수\n",
       "0    32092\n",
       "1      540\n",
       "Name: count, dtype: int64"
      ]
     },
     "execution_count": 3,
     "metadata": {},
     "output_type": "execute_result"
    }
   ],
   "source": [
    "combined_data['사망자수'].value_counts()"
   ]
  },
  {
   "cell_type": "code",
   "execution_count": 4,
   "metadata": {},
   "outputs": [
    {
     "data": {
      "text/plain": [
       "피해운전자 상해정도\n",
       "상해없음    19080\n",
       "경상       6281\n",
       "중상       3718\n",
       "부상신고     1142\n",
       "기타불명      802\n",
       "미분류       144\n",
       "사망         31\n",
       "Name: count, dtype: int64"
      ]
     },
     "execution_count": 4,
     "metadata": {},
     "output_type": "execute_result"
    }
   ],
   "source": [
    "combined_data['피해운전자 상해정도'].value_counts()"
   ]
  },
  {
   "cell_type": "code",
   "execution_count": 5,
   "metadata": {},
   "outputs": [
    {
     "data": {
      "text/plain": [
       "가해운전자 상해정도\n",
       "경상      10976\n",
       "상해없음     8198\n",
       "부상신고     6225\n",
       "중상       5696\n",
       "기타불명     1030\n",
       "사망        507\n",
       "Name: count, dtype: int64"
      ]
     },
     "execution_count": 5,
     "metadata": {},
     "output_type": "execute_result"
    }
   ],
   "source": [
    "combined_data['가해운전자 상해정도'].value_counts()"
   ]
  },
  {
   "cell_type": "code",
   "execution_count": 6,
   "metadata": {},
   "outputs": [
    {
     "name": "stdout",
     "output_type": "stream",
     "text": [
      "<class 'pandas.core.frame.DataFrame'>\n",
      "RangeIndex: 31198 entries, 0 to 31197\n",
      "Data columns (total 22 columns):\n",
      " #   Column      Non-Null Count  Dtype \n",
      "---  ------      --------------  ----- \n",
      " 0   사고번호        31198 non-null  int64 \n",
      " 1   사고일시        31198 non-null  object\n",
      " 2   요일          31198 non-null  object\n",
      " 3   시군구         31198 non-null  object\n",
      " 4   사고내용        31198 non-null  object\n",
      " 5   사망자수        31198 non-null  int64 \n",
      " 6   중상자수        31198 non-null  int64 \n",
      " 7   경상자수        31198 non-null  int64 \n",
      " 8   부상신고자수      31198 non-null  int64 \n",
      " 9   사고유형        31198 non-null  object\n",
      " 10  법규위반        31198 non-null  object\n",
      " 11  노면상태        31198 non-null  object\n",
      " 12  기상상태        31198 non-null  object\n",
      " 13  도로형태        31198 non-null  object\n",
      " 14  가해운전자 차종    31198 non-null  object\n",
      " 15  가해운전자 성별    31198 non-null  object\n",
      " 16  가해운전자 연령    31198 non-null  object\n",
      " 17  가해운전자 상해정도  31198 non-null  object\n",
      " 18  피해운전자 차종    31198 non-null  object\n",
      " 19  피해운전자 성별    31198 non-null  object\n",
      " 20  피해운전자 연령    31198 non-null  object\n",
      " 21  피해운전자 상해정도  31198 non-null  object\n",
      "dtypes: int64(5), object(17)\n",
      "memory usage: 5.2+ MB\n"
     ]
    }
   ],
   "source": [
    "data = combined_data.dropna().reset_index(drop=True)\n",
    "data.describe()\n",
    "data.info()"
   ]
  },
  {
   "cell_type": "markdown",
   "metadata": {},
   "source": [
    "#### drop 할 것 : 사고번호\n",
    "#### 수정 할 것 : 시군구 도만 따오기 , 사고일시에서 시만 따오기, 피해운전자 상해정도 grouping 하기\n",
    "#### 가해운전자 차종은 전부 자전거이므로  drop 하기\n",
    "#### 가해운전자 연령 '미분류'를 어떻게 채울 것인가 /성별 '기타불명'\n",
    "#### 피해운전자 연령, 성별 '미분류', '기타불명'\n",
    "#### 도광역시 '미분류'"
   ]
  },
  {
   "cell_type": "code",
   "execution_count": 7,
   "metadata": {},
   "outputs": [
    {
     "name": "stdout",
     "output_type": "stream",
     "text": [
      "<class 'pandas.core.frame.DataFrame'>\n",
      "RangeIndex: 31198 entries, 0 to 31197\n",
      "Data columns (total 21 columns):\n",
      " #   Column      Non-Null Count  Dtype \n",
      "---  ------      --------------  ----- \n",
      " 0   사고일시        31198 non-null  object\n",
      " 1   요일          31198 non-null  object\n",
      " 2   시군구         31198 non-null  object\n",
      " 3   사고내용        31198 non-null  object\n",
      " 4   사망자수        31198 non-null  int64 \n",
      " 5   중상자수        31198 non-null  int64 \n",
      " 6   경상자수        31198 non-null  int64 \n",
      " 7   부상신고자수      31198 non-null  int64 \n",
      " 8   사고유형        31198 non-null  object\n",
      " 9   법규위반        31198 non-null  object\n",
      " 10  노면상태        31198 non-null  object\n",
      " 11  기상상태        31198 non-null  object\n",
      " 12  도로형태        31198 non-null  object\n",
      " 13  가해운전자 차종    31198 non-null  object\n",
      " 14  가해운전자 성별    31198 non-null  object\n",
      " 15  가해운전자 연령    31198 non-null  object\n",
      " 16  가해운전자 상해정도  31198 non-null  object\n",
      " 17  피해운전자 차종    31198 non-null  object\n",
      " 18  피해운전자 성별    31198 non-null  object\n",
      " 19  피해운전자 연령    31198 non-null  object\n",
      " 20  피해운전자 상해정도  31198 non-null  object\n",
      "dtypes: int64(4), object(17)\n",
      "memory usage: 5.0+ MB\n"
     ]
    }
   ],
   "source": [
    "data = data.drop('사고번호',  axis=1)\n",
    "data.info()"
   ]
  },
  {
   "cell_type": "code",
   "execution_count": 8,
   "metadata": {},
   "outputs": [
    {
     "data": {
      "text/plain": [
       "0        17시\n",
       "1        18시\n",
       "2        11시\n",
       "3        12시\n",
       "4        10시\n",
       "        ... \n",
       "31193    13시\n",
       "31194    06시\n",
       "31195    12시\n",
       "31196    12시\n",
       "31197    17시\n",
       "Name: 사고시, Length: 31198, dtype: object"
      ]
     },
     "execution_count": 8,
     "metadata": {},
     "output_type": "execute_result"
    }
   ],
   "source": [
    "#도광역시 column에서 맨앞부분 추출\n",
    "data[\"도광역시\"] = data[\"시군구\"].str.split(\" \").str.get(0)\n",
    "#사고일시 column에서 시만 추출\n",
    "data[\"사고시\"] = data[\"사고일시\"].str.split(\" \").str.get(3)\n",
    "data[\"사고시\"]"
   ]
  },
  {
   "cell_type": "code",
   "execution_count": 9,
   "metadata": {},
   "outputs": [
    {
     "name": "stdout",
     "output_type": "stream",
     "text": [
      "<class 'pandas.core.frame.DataFrame'>\n",
      "RangeIndex: 31198 entries, 0 to 31197\n",
      "Data columns (total 21 columns):\n",
      " #   Column      Non-Null Count  Dtype \n",
      "---  ------      --------------  ----- \n",
      " 0   요일          31198 non-null  object\n",
      " 1   사고내용        31198 non-null  object\n",
      " 2   사망자수        31198 non-null  int64 \n",
      " 3   중상자수        31198 non-null  int64 \n",
      " 4   경상자수        31198 non-null  int64 \n",
      " 5   부상신고자수      31198 non-null  int64 \n",
      " 6   사고유형        31198 non-null  object\n",
      " 7   법규위반        31198 non-null  object\n",
      " 8   노면상태        31198 non-null  object\n",
      " 9   기상상태        31198 non-null  object\n",
      " 10  도로형태        31198 non-null  object\n",
      " 11  가해운전자 차종    31198 non-null  object\n",
      " 12  가해운전자 성별    31198 non-null  object\n",
      " 13  가해운전자 연령    31198 non-null  object\n",
      " 14  가해운전자 상해정도  31198 non-null  object\n",
      " 15  피해운전자 차종    31198 non-null  object\n",
      " 16  피해운전자 성별    31198 non-null  object\n",
      " 17  피해운전자 연령    31198 non-null  object\n",
      " 18  피해운전자 상해정도  31198 non-null  object\n",
      " 19  도광역시        31198 non-null  object\n",
      " 20  사고시         31198 non-null  object\n",
      "dtypes: int64(4), object(17)\n",
      "memory usage: 5.0+ MB\n"
     ]
    }
   ],
   "source": [
    "data = data.drop('시군구',  axis=1)\n",
    "data = data.drop('사고일시', axis=1)\n",
    "data.info()"
   ]
  },
  {
   "cell_type": "code",
   "execution_count": 10,
   "metadata": {},
   "outputs": [
    {
     "name": "stdout",
     "output_type": "stream",
     "text": [
      "Column: 요일, Number: 7, Unique Values: ['목요일' '수요일' '금요일' '토요일' '월요일' '화요일' '일요일']\n",
      "Column: 사고내용, Number: 4, Unique Values: ['경상사고' '중상사고' '부상신고사고' '사망사고']\n",
      "Column: 사망자수, Number: 2, Unique Values: [0 1]\n",
      "Column: 중상자수, Number: 4, Unique Values: [0 1 2 3]\n",
      "Column: 경상자수, Number: 9, Unique Values: [ 1  0  2  4  3  5  7  6 10]\n",
      "Column: 부상신고자수, Number: 7, Unique Values: [0 1 2 3 4 6 5]\n",
      "Column: 사고유형, Number: 14, Unique Values: ['차대차 - 측면충돌' '차대차 - 정면충돌' '차대차 - 기타' '차대사람 - 차도통행중' '차대차 - 추돌'\n",
      " '차대사람 - 길가장자리구역통행중' '차대사람 - 기타' '차대사람 - 보도통행중' '차대사람 - 횡단중' '차량단독 - 전도전복'\n",
      " '차량단독 - 전도전복 - 전도' '차대차 - 후진중충돌' '차량단독 - 전도전복 - 전복' '철길건널목 - 철길건널목']\n",
      "Column: 법규위반, Number: 10, Unique Values: ['교차로운행방법위반' '안전운전불이행' '중앙선침범' '신호위반' '차로위반' '직진우회전진행방해' '안전거리미확보' '기타'\n",
      " '보행자보호의무위반' '불법유턴']\n",
      "Column: 노면상태, Number: 6, Unique Values: ['건조' '젖음/습기' '기타' '서리/결빙' '적설' '침수']\n",
      "Column: 기상상태, Number: 6, Unique Values: ['맑음' '비' '흐림' '기타' '안개' '눈']\n",
      "Column: 도로형태, Number: 12, Unique Values: ['교차로 - 교차로안' '단일로 - 기타' '교차로 - 교차로부근' '기타 - 기타' '단일로 - 지하차도(도로)내'\n",
      " '교차로 - 교차로횡단보도내' '주차장 - 주차장' '단일로 - 교량' '단일로 - 고가도로위' '단일로 - 터널'\n",
      " '미분류 - 미분류' '단일로 - 철길건널목']\n",
      "Column: 가해운전자 차종, Number: 1, Unique Values: ['자전거']\n",
      "Column: 가해운전자 성별, Number: 3, Unique Values: ['남' '여' '기타불명']\n",
      "Column: 가해운전자 연령, Number: 98, Unique Values: ['70세' '20세' '75세' '76세' '61세' '84세' '59세' '19세' '67세' '11세' '64세' '80세'\n",
      " '79세' '72세' '66세' '18세' '15세' '85세' '63세' '73세' '57세' '81세' '45세' '60세'\n",
      " '65세' '39세' '54세' '56세' '22세' '51세' '77세' '미분류' '53세' '46세' '78세' '25세'\n",
      " '68세' '74세' '52세' '36세' '28세' '47세' '69세' '43세' '55세' '31세' '8세' '71세'\n",
      " '82세' '10세' '6세' '17세' '30세' '9세' '37세' '12세' '38세' '13세' '62세' '58세'\n",
      " '14세' '44세' '42세' '27세' '49세' '98세 이상' '40세' '26세' '29세' '7세' '16세' '89세'\n",
      " '86세' '41세' '83세' '23세' '48세' '24세' '33세' '50세' '88세' '96세' '21세' '87세'\n",
      " '91세' '35세' '34세' '92세' '90세 이상' '1세' '32세' '97세' '90세' '5세' '93세' '94세'\n",
      " '95세' '4세']\n",
      "Column: 가해운전자 상해정도, Number: 6, Unique Values: ['경상' '중상' '부상신고' '상해없음' '기타불명' '사망']\n",
      "Column: 피해운전자 차종, Number: 14, Unique Values: ['승용' '화물' '이륜' '승합' '보행자' '자전거' '건설기계' '기타불명' '원동기' '특수' '개인형이동수단(PM)'\n",
      " '미분류' '사륜오토바이(ATV)' '농기계']\n",
      "Column: 피해운전자 성별, Number: 4, Unique Values: ['여' '남' '기타불명' '미분류']\n",
      "Column: 피해운전자 연령, Number: 98, Unique Values: ['50세' '42세' '81세' '75세' '29세' '45세' '53세' '44세' '36세' '76세' '64세' '32세'\n",
      " '33세' '37세' '74세' '38세' '20세' '52세' '80세' '67세' '47세' '43세' '57세' '62세'\n",
      " '73세' '49세' '58세' '39세' '46세' '61세' '56세' '77세' '3세' '63세' '51세' '69세'\n",
      " '48세' '30세' '55세' '71세' '31세' '54세' '24세' '59세' '28세' '79세' '41세' '68세'\n",
      " '60세' '14세' '65세' '25세' '66세' '27세' '35세' '16세' '23세' '미분류' '26세' '40세'\n",
      " '10세' '70세' '6세' '5세' '34세' '8세' '72세' '15세' '19세' '82세' '7세' '78세' '21세'\n",
      " '87세' '9세' '83세' '84세' '22세' '11세' '4세' '17세' '85세' '18세' '13세' '12세'\n",
      " '1세' '90세' '86세' '91세' '2세' '90세 이상' '89세' '88세' '92세' '94세' '기타불명' '97세'\n",
      " '93세']\n",
      "Column: 피해운전자 상해정도, Number: 7, Unique Values: ['상해없음' '기타불명' '부상신고' '경상' '중상' '사망' '미분류']\n",
      "Column: 도광역시, Number: 18, Unique Values: ['경상북도' '전라남도' '전라북도' '울산광역시' '제주특별자치도' '충청북도' '부산광역시' '세종특별자치시' '서울특별시'\n",
      " '경기도' '충청남도' '대전광역시' '인천광역시' '대구광역시' '광주광역시' '경상남도' '강원도' '미분류']\n",
      "Column: 사고시, Number: 24, Unique Values: ['17시' '18시' '11시' '12시' '10시' '16시' '19시' '23시' '08시' '13시' '14시' '15시'\n",
      " '09시' '06시' '07시' '22시' '05시' '20시' '21시' '00시' '03시' '04시' '02시' '01시']\n"
     ]
    }
   ],
   "source": [
    "for column in data.columns:\n",
    "    unique_values = data[column].unique()\n",
    "    print(f\"Column: {column}, Number: {len(unique_values)}, Unique Values: {unique_values}\")"
   ]
  },
  {
   "cell_type": "code",
   "execution_count": 11,
   "metadata": {},
   "outputs": [
    {
     "data": {
      "text/plain": [
       "2"
      ]
     },
     "execution_count": 11,
     "metadata": {},
     "output_type": "execute_result"
    }
   ],
   "source": [
    "#가해운전자 연령 '미분류'를 어떻게 채울 것인가 /성별 '기타불명'\n",
    "#피해운전자 연령, 성별 '미분류', '기타불명'\n",
    "#도광역시 '미분류'\n",
    "count_specific_value = data['가해운전자 연령'].value_counts().get('미분류', 0)\n",
    "count_specific_value #397\n",
    "\n",
    "count_specific_value2 = data['피해운전자 연령'].value_counts().get('미분류', 0)\n",
    "count_specific_value2 #407\n",
    "\n",
    "count_specific_value3 = data['피해운전자 연령'].value_counts().get('기타불명', 0)\n",
    "count_specific_value3 #2\n"
   ]
  },
  {
   "cell_type": "code",
   "execution_count": 12,
   "metadata": {},
   "outputs": [],
   "source": [
    "#여기는 '세' 빼고 숫자만 추출\n",
    "#data['가해운전자 연령'] = data['가해운전자 연령'].str.extract('(\\d+)').astype(int)\n",
    "#data['피해운전자 연령'] = data['피해운전자 연령'].str.extract('(\\d+)').astype(int)"
   ]
  },
  {
   "cell_type": "code",
   "execution_count": 13,
   "metadata": {},
   "outputs": [
    {
     "data": {
      "text/plain": [
       "가해운전자 상해정도\n",
       "1    16410\n",
       "0     9219\n",
       "2     5569\n",
       "Name: count, dtype: int64"
      ]
     },
     "execution_count": 13,
     "metadata": {},
     "output_type": "execute_result"
    }
   ],
   "source": [
    "#경상/중상으로 나누기\n",
    "data['가해운전자 상해정도']= data['가해운전자 상해정도'].map({\"경상\":1,\n",
    "                                                           \"상해없음\":0,\n",
    "                                                           \"중상\":2,\n",
    "                                                           \"부상신고\":1,\n",
    "                                                           \"사망\":2,\n",
    "                                                           \"기타불명\":0})\n",
    "data['가해운전자 상해정도'].isna().sum() #0\n",
    "data['가해운전자 상해정도'].value_counts()"
   ]
  },
  {
   "cell_type": "code",
   "execution_count": 14,
   "metadata": {},
   "outputs": [
    {
     "data": {
      "text/plain": [
       "'\\ndata[\\'피해운전자 상해정도\\']= data[\\'피해운전자 상해정도\\'].map({\"경상\":0,\\n                                                           \"중상\":1})\\ndata[\\'피해운전자 상해정도\\'].value_counts()    \\n'"
      ]
     },
     "execution_count": 14,
     "metadata": {},
     "output_type": "execute_result"
    }
   ],
   "source": [
    "'''\n",
    "data['피해운전자 상해정도']= data['피해운전자 상해정도'].map({\"경상\":0,\n",
    "                                                           \"중상\":1})\n",
    "data['피해운전자 상해정도'].value_counts()    \n",
    "'''"
   ]
  },
  {
   "cell_type": "code",
   "execution_count": 15,
   "metadata": {},
   "outputs": [],
   "source": [
    "#귀찮아서 걍 영어로바꿈..\n",
    "data.rename(columns={\n",
    "    '요일': 'Day',\n",
    "    '사고내용': 'AccidentType',\n",
    "    '사망자수': 'Fatalities',\n",
    "    '중상자수': 'SeriousInjuries',\n",
    "    '경상자수': 'MinorInjuries',\n",
    "    '부상신고자수': 'NonFatalInjuries',\n",
    "    '사고유형': 'AccidentType',\n",
    "    '법규위반': 'TrafficViolation',\n",
    "    '노면상태': 'RoadCondition',\n",
    "    '기상상태': 'WeatherCondition',\n",
    "    '도로형태': 'RoadType',\n",
    "    '가해운전자 차종': 'AtFaultDriverVehicleType',\n",
    "    '가해운전자 성별': 'AtFaultDriverGender',\n",
    "    '가해운전자 연령': 'AtFaultDriverAge',\n",
    "    '가해운전자 상해정도': 'AtFaultDriverInjurySeverity',\n",
    "    '피해운전자 차종': 'VictimVehicleType',\n",
    "    '피해운전자 성별': 'VictimGender',\n",
    "    '피해운전자 연령': 'VictimAge',\n",
    "    '피해운전자 상해정도': 'VictimInjurySeverity',\n",
    "    '도광역시': 'City',\n",
    "    '사고시': 'TimeOfAccident'\n",
    "}, inplace=True)"
   ]
  },
  {
   "cell_type": "markdown",
   "metadata": {},
   "source": [
    "# Gender nan row drop"
   ]
  },
  {
   "cell_type": "code",
   "execution_count": 16,
   "metadata": {},
   "outputs": [
    {
     "name": "stdout",
     "output_type": "stream",
     "text": [
      "<class 'pandas.core.frame.DataFrame'>\n",
      "RangeIndex: 30792 entries, 0 to 30791\n",
      "Data columns (total 21 columns):\n",
      " #   Column                       Non-Null Count  Dtype \n",
      "---  ------                       --------------  ----- \n",
      " 0   Day                          30792 non-null  object\n",
      " 1   AccidentType                 30792 non-null  object\n",
      " 2   Fatalities                   30792 non-null  int64 \n",
      " 3   SeriousInjuries              30792 non-null  int64 \n",
      " 4   MinorInjuries                30792 non-null  int64 \n",
      " 5   NonFatalInjuries             30792 non-null  int64 \n",
      " 6   AccidentType                 30792 non-null  object\n",
      " 7   TrafficViolation             30792 non-null  object\n",
      " 8   RoadCondition                30792 non-null  object\n",
      " 9   WeatherCondition             30792 non-null  object\n",
      " 10  RoadType                     30792 non-null  object\n",
      " 11  AtFaultDriverVehicleType     30792 non-null  object\n",
      " 12  AtFaultDriverGender          30792 non-null  object\n",
      " 13  AtFaultDriverAge             30792 non-null  object\n",
      " 14  AtFaultDriverInjurySeverity  30792 non-null  int64 \n",
      " 15  VictimVehicleType            30792 non-null  object\n",
      " 16  VictimGender                 30792 non-null  object\n",
      " 17  VictimAge                    30792 non-null  object\n",
      " 18  VictimInjurySeverity         30792 non-null  object\n",
      " 19  City                         30792 non-null  object\n",
      " 20  TimeOfAccident               30792 non-null  object\n",
      "dtypes: int64(5), object(16)\n",
      "memory usage: 4.9+ MB\n"
     ]
    }
   ],
   "source": [
    "#copy해놓기\n",
    "df_copy = data.copy()\n",
    "\n",
    "# Assuming your DataFrame is named df\n",
    "value_to_drop = ['미분류', '기타불명']\n",
    "column_to_check = 'VictimGender'\n",
    "\n",
    "# Create a boolean mask for rows with the specified value in the specified column\n",
    "mask = data[column_to_check].isin(value_to_drop)\n",
    "\n",
    "# Drop rows based on the mask\n",
    "df = data[~mask]\n",
    "\n",
    "# If you want to reset the index after dropping rows\n",
    "df.reset_index(drop=True, inplace=True)\n",
    "\n",
    "df.info()\n"
   ]
  },
  {
   "cell_type": "code",
   "execution_count": 17,
   "metadata": {},
   "outputs": [
    {
     "name": "stdout",
     "output_type": "stream",
     "text": [
      "<class 'pandas.core.frame.DataFrame'>\n",
      "RangeIndex: 30373 entries, 0 to 30372\n",
      "Data columns (total 21 columns):\n",
      " #   Column                       Non-Null Count  Dtype \n",
      "---  ------                       --------------  ----- \n",
      " 0   Day                          30373 non-null  object\n",
      " 1   AccidentType                 30373 non-null  object\n",
      " 2   Fatalities                   30373 non-null  int64 \n",
      " 3   SeriousInjuries              30373 non-null  int64 \n",
      " 4   MinorInjuries                30373 non-null  int64 \n",
      " 5   NonFatalInjuries             30373 non-null  int64 \n",
      " 6   AccidentType                 30373 non-null  object\n",
      " 7   TrafficViolation             30373 non-null  object\n",
      " 8   RoadCondition                30373 non-null  object\n",
      " 9   WeatherCondition             30373 non-null  object\n",
      " 10  RoadType                     30373 non-null  object\n",
      " 11  AtFaultDriverVehicleType     30373 non-null  object\n",
      " 12  AtFaultDriverGender          30373 non-null  object\n",
      " 13  AtFaultDriverAge             30373 non-null  object\n",
      " 14  AtFaultDriverInjurySeverity  30373 non-null  int64 \n",
      " 15  VictimVehicleType            30373 non-null  object\n",
      " 16  VictimGender                 30373 non-null  object\n",
      " 17  VictimAge                    30373 non-null  object\n",
      " 18  VictimInjurySeverity         30373 non-null  object\n",
      " 19  City                         30373 non-null  object\n",
      " 20  TimeOfAccident               30373 non-null  object\n",
      "dtypes: int64(5), object(16)\n",
      "memory usage: 4.9+ MB\n"
     ]
    }
   ],
   "source": [
    "# Assuming your DataFrame is named df\n",
    "value_to_drop = ['미분류', '기타불명']\n",
    "column_to_check = ['AtFaultDriverAge','VictimAge','VictimVehicleType','City']\n",
    "\n",
    "# Create a boolean mask for rows with the specified value in the specified column\n",
    "mask = df[column_to_check].isin(value_to_drop).any(axis=1)\n",
    "\n",
    "# Drop rows based on the mask\n",
    "df = df[~mask]\n",
    "\n",
    "# If you want to reset the index after dropping rows\n",
    "df.reset_index(drop=True, inplace=True)\n",
    "\n",
    "df.info()\n"
   ]
  },
  {
   "cell_type": "code",
   "execution_count": 18,
   "metadata": {},
   "outputs": [
    {
     "data": {
      "text/plain": [
       "array(['경상북도', '전라남도', '전라북도', '울산광역시', '제주특별자치도', '충청북도', '부산광역시',\n",
       "       '세종특별자치시', '서울특별시', '경기도', '충청남도', '대전광역시', '인천광역시', '대구광역시',\n",
       "       '광주광역시', '경상남도', '강원도'], dtype=object)"
      ]
     },
     "execution_count": 18,
     "metadata": {},
     "output_type": "execute_result"
    }
   ],
   "source": [
    "df['City'].unique()"
   ]
  },
  {
   "cell_type": "code",
   "execution_count": 19,
   "metadata": {},
   "outputs": [
    {
     "name": "stdout",
     "output_type": "stream",
     "text": [
      "The value '기타불명' exists in the following columns: ['AtFaultDriverGender', 'VictimInjurySeverity']\n",
      "VictimInjurySeverity\n",
      "상해없음    19049\n",
      "경상       6096\n",
      "중상       3651\n",
      "부상신고     1010\n",
      "기타불명      536\n",
      "사망         31\n",
      "Name: count, dtype: int64\n"
     ]
    },
    {
     "name": "stderr",
     "output_type": "stream",
     "text": [
      "/tmp/ipykernel_225402/1838697113.py:4: FutureWarning: DataFrame.applymap has been deprecated. Use DataFrame.map instead.\n",
      "  columns_with_value = df.applymap(lambda x: x == value_to_check).any()\n"
     ]
    }
   ],
   "source": [
    "value_to_check = '기타불명'\n",
    "\n",
    "# Check if the value exists in any column\n",
    "columns_with_value = df.applymap(lambda x: x == value_to_check).any()\n",
    "\n",
    "# Extract the column names with the specified value\n",
    "columns_containing_value = columns_with_value[columns_with_value].index.tolist()\n",
    "\n",
    "if columns_containing_value:\n",
    "    print(f\"The value '{value_to_check}' exists in the following columns: {columns_containing_value}\")\n",
    "else:\n",
    "    print(f\"The value '{value_to_check}' does not exist in any column.\")\n",
    "\n",
    "#기타불명이 VictimInjurySeverity 여기에만 들어있음.\n",
    "\n",
    "print(df['VictimInjurySeverity'].value_counts()) #536"
   ]
  },
  {
   "cell_type": "code",
   "execution_count": 20,
   "metadata": {},
   "outputs": [
    {
     "data": {
      "text/plain": [
       "\"\\n#걍 영어로바꿈..\\ndata.rename(columns={\\n    '요일': 'Day',\\n    '사고내용': 'AccidentType',\\n    '사망자수': 'Fatalities',\\n    '중상자수': 'SeriousInjuries',\\n    '경상자수': 'MinorInjuries',\\n    '부상신고자수': 'NonFatalInjuries',\\n    '사고유형': 'AccidentType',\\n    '법규위반': 'TrafficViolation',\\n    '노면상태': 'RoadCondition',\\n    '기상상태': 'WeatherCondition',\\n    '도로형태': 'RoadType',\\n    '가해운전자 차종': 'AtFaultDriverVehicleType',\\n    '가해운전자 성별': 'AtFaultDriverGender',\\n    '가해운전자 연령': 'AtFaultDriverAge',\\n    '가해운전자 상해정도': 'AtFaultDriverInjurySeverity',\\n    '피해운전자 차종': 'VictimVehicleType',\\n    '피해운전자 성별': 'VictimGender',\\n    '피해운전자 연령': 'VictimAge',\\n    '피해운전자 상해정도': 'VictimInjurySeverity',\\n    '도광역시': 'City',\\n    '사고시': 'TimeOfAccident'\\n}, inplace=True)\\n\""
      ]
     },
     "execution_count": 20,
     "metadata": {},
     "output_type": "execute_result"
    }
   ],
   "source": [
    "'''\n",
    "data.rename(columns={\n",
    "    '요일': 'Day',\n",
    "    '사고내용': 'AccidentType',\n",
    "    '사망자수': 'Fatalities',\n",
    "    '중상자수': 'SeriousInjuries',\n",
    "    '경상자수': 'MinorInjuries',\n",
    "    '부상신고자수': 'NonFatalInjuries',\n",
    "    '사고유형': 'AccidentType',\n",
    "    '법규위반': 'TrafficViolation',\n",
    "    '노면상태': 'RoadCondition',\n",
    "    '기상상태': 'WeatherCondition',\n",
    "    '도로형태': 'RoadType',\n",
    "    '가해운전자 차종': 'AtFaultDriverVehicleType',\n",
    "    '가해운전자 성별': 'AtFaultDriverGender',\n",
    "    '가해운전자 연령': 'AtFaultDriverAge',\n",
    "    '가해운전자 상해정도': 'AtFaultDriverInjurySeverity',\n",
    "    '피해운전자 차종': 'VictimVehicleType',\n",
    "    '피해운전자 성별': 'VictimGender',\n",
    "    '피해운전자 연령': 'VictimAge',\n",
    "    '피해운전자 상해정도': 'VictimInjurySeverity',\n",
    "    '도광역시': 'City',\n",
    "    '사고시': 'TimeOfAccident'\n",
    "}, inplace=True)\n",
    "'''"
   ]
  },
  {
   "cell_type": "markdown",
   "metadata": {},
   "source": [
    "'VictimInjurySeverity'(피해자 부상정도) 에서 '기타불명' 값을 \n",
    "사망자수, 중상자수, 경상자수, 부상신고자수 column을 통해 사망, 중상, 경상, 부상신고로 채우기"
   ]
  },
  {
   "cell_type": "code",
   "execution_count": 21,
   "metadata": {},
   "outputs": [
    {
     "data": {
      "text/plain": [
       "VictimInjurySeverity\n",
       "상해없음    19049\n",
       "경상       6347\n",
       "중상       3776\n",
       "부상신고     1162\n",
       "사망         39\n",
       "Name: count, dtype: int64"
      ]
     },
     "execution_count": 21,
     "metadata": {},
     "output_type": "execute_result"
    }
   ],
   "source": [
    "import numpy as np\n",
    "# Assuming your DataFrame is named df and the column is 'VictimInjurySeverity'\n",
    "specific_value = '기타불명'\n",
    "\n",
    "# Create a boolean mask for rows with the specific value in the specified column\n",
    "mask = df['VictimInjurySeverity'] == specific_value\n",
    "\n",
    "# Filter rows based on the mask\n",
    "filtered_rows = df[mask]\n",
    "\n",
    "\n",
    "conditions = [\n",
    "    (df['VictimInjurySeverity'] == '기타불명') & (df['Fatalities'] > 0),\n",
    "    (df['VictimInjurySeverity'] == '기타불명') & (df['SeriousInjuries'] > 0),\n",
    "    (df['VictimInjurySeverity'] == '기타불명') & (df['MinorInjuries'] > 0),\n",
    "    (df['VictimInjurySeverity'] == '기타불명') & (df['NonFatalInjuries'] > 0)\n",
    "\n",
    "    # Add more conditions as needed\n",
    "]\n",
    "\n",
    "replacement_values = ['사망', '중상', '경상', '부상신고']  # Adjust as needed\n",
    "\n",
    "# Apply the conditions and replacement values using numpy.where\n",
    "df['VictimInjurySeverity'] = np.where(conditions[3], replacement_values[3], df['VictimInjurySeverity'])\n",
    "df['VictimInjurySeverity'] = np.where(conditions[2], replacement_values[2], df['VictimInjurySeverity'])\n",
    "df['VictimInjurySeverity'] = np.where(conditions[1], replacement_values[1], df['VictimInjurySeverity'])\n",
    "df['VictimInjurySeverity'] = np.where(conditions[0], replacement_values[0], df['VictimInjurySeverity'])\n",
    "\n",
    "\n",
    "\n",
    "# Print or do something with the filtered rows\n",
    "df['VictimInjurySeverity'].value_counts()"
   ]
  },
  {
   "cell_type": "code",
   "execution_count": null,
   "metadata": {},
   "outputs": [],
   "source": []
  }
 ],
 "metadata": {
  "kernelspec": {
   "display_name": "MathAI",
   "language": "python",
   "name": "python3"
  },
  "language_info": {
   "codemirror_mode": {
    "name": "ipython",
    "version": 3
   },
   "file_extension": ".py",
   "mimetype": "text/x-python",
   "name": "python",
   "nbconvert_exporter": "python",
   "pygments_lexer": "ipython3",
   "version": "3.10.13"
  }
 },
 "nbformat": 4,
 "nbformat_minor": 2
}
