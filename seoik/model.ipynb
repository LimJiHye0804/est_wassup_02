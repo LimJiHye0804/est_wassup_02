{
 "cells": [
  {
   "cell_type": "markdown",
   "metadata": {},
   "source": [
    "# 커스텀모델 함수를 사용해보자\n",
    "\n",
    "### 인공신경망 만드는 함수\n",
    "- wrapper_model( 트레이닝 데이터(X값=칼럼=피쳐=열) ,  타겟 데이터(맞춰야하는 데이터) , 하이퍼 파라미터 셋팅한 json파일의 이름)\n",
    "- -> EX :  wrapper_model(X_trn, y_trn,'config.json')\n",
    "\n",
    "          리턴값(아웃풋)은 인공신경망 모델을 리턴함 학습도 가능함\n",
    "          model = wrapper_model(X_trn, y_trn,'config.json')\n",
    "          model.fit(X_trn, y_trn)\n",
    "### 인공신경망 모델 여러개 만드는 함수\n",
    "- create_models( 트레이닝 데이터(X값=칼럼=피쳐=열) ,  타겟 데이터(맞춰야하는 데이터), 하이퍼 파라미터 셋팅한 json파일의 이름 'configW.json' 무조건 W가 뒤에 붙어있어야함 , 몇개의 config.json파일을 넣을 것인지 )\n",
    "- -> EX :  create_models(X_trn, y_trn,'configW.json',2)\n",
    "\n",
    "          리턴값(아웃풋)은 인공신경망 모델 여러개를 담은 리스트를 리턴함 인덱스로 꺼내서 사용 가능함\n",
    "          models = create_models(X_trn, y_trn,'configW.json',2)\n",
    "          model1 = models[0]\n",
    "### 인공신경만 모델에 대한 교차검증 함수\n",
    "- CV(모델(한개의 모델), 트레이닝 데이터(X값=칼럼=피쳐=열) ,  타겟 데이터(맞춰야하는 데이터), 5번 교차 검증을 할 것이고 기본값이기에 안적어도 됨)\n",
    "- -> EX :  CV(m, feature, label, n_splits=5)\n",
    "\n",
    "          리턴값(아웃풋)은 판다스 데이터프레임이다 교차검증 후 5번 평균의 결과값을 가지고 있음 다음과 같이 프레임 확인도 가능함\n",
    "          d = CV(m, feature, label, n_splits=5)  \n",
    "          d.head()\n",
    "### 인공신경만 모델 여러개에 대한 교차검증 함수\n",
    "- models_cv(모델들(여러개의 모델), 트레이닝 데이터(X값=칼럼=피쳐=열) ,  타겟 데이터(맞춰야하는 데이터), 5번 교차 검증을 할 것이고 기본값이기에 안적어도 됨)\n",
    "- -> EX :  models_cv(models, feature, label, n_splits=5)\n",
    "\n",
    "          리턴값(아웃풋)은 판다스 데이터프레임이다 여러 모델들을 순서대로 하나씩 5번 교차검증 후 데이터 평균 결과값을 한 행마다 스택처럼 쌓아서 리턴함\n",
    "          d = models_cv(models, feature, label, n_splits=5) \n",
    "          d.head()"
   ]
  },
  {
   "cell_type": "code",
   "execution_count": 1,
   "metadata": {},
   "outputs": [],
   "source": [
    "import pandas as pd\n",
    "import numpy as np\n",
    "from nn import DynamicANNWrapper, DynamicANN\n",
    "from sklearn.model_selection import train_test_split\n",
    "import torch\n",
    "from factory_model import factory_model, create_models , models_cv\n",
    "from cv import CV\n",
    "from sklearn.metrics import accuracy_score\n",
    "from imblearn.over_sampling import SMOTE\n"
   ]
  },
  {
   "cell_type": "code",
   "execution_count": 2,
   "metadata": {},
   "outputs": [],
   "source": [
    "df = pd.read_csv('data/prepro_jung.csv')"
   ]
  },
  {
   "cell_type": "markdown",
   "metadata": {},
   "source": [
    "# 타겟값 분리"
   ]
  },
  {
   "cell_type": "code",
   "execution_count": 3,
   "metadata": {},
   "outputs": [],
   "source": [
    "\n",
    "# 판다스 데이터프레임을 트레인과 테스트로 나누기\n",
    "train_df, test_df = train_test_split(df, test_size=0.2, random_state=2023)\n",
    "train_df, val_df = train_test_split(train_df, test_size=0.2, random_state=2023)\n",
    "\n",
    "# 여기서\n",
    "# - your_dataframe은 나눌 데이터프레임을 대체하는 변수명입니다.\n",
    "# - test_size는 테스트 셋의 비율을 나타냅니다. 0.2는 80% 트레인, 20% 테스트로 나누겠다는 뜻입니다.\n",
    "# - random_state는 나누는 과정에서 사용되는 난수 발생 시드(seed)를 의미하며, 동일한 결과를 얻기 위해 설정합니다.\n",
    "\n",
    "# 결과로 나온 train_df와 test_df를 사용하여 모델을 훈련하고 테스트할 수 있습니다."
   ]
  },
  {
   "cell_type": "code",
   "execution_count": 4,
   "metadata": {},
   "outputs": [
    {
     "name": "stdout",
     "output_type": "stream",
     "text": [
      "<class 'pandas.core.frame.DataFrame'>\n",
      "Index: 19437 entries, 12841 to 6337\n",
      "Columns: 117 entries, 사망자수 to 하루시간구분_night\n",
      "dtypes: int64(117)\n",
      "memory usage: 17.5 MB\n"
     ]
    }
   ],
   "source": [
    "train_df.info()\n"
   ]
  },
  {
   "cell_type": "code",
   "execution_count": 5,
   "metadata": {},
   "outputs": [],
   "source": [
    "X_trn = train_df.drop('타겟',axis=1)\n",
    "y_trn = train_df['타겟']\n",
    "X_tst = test_df.drop('타겟',axis=1)\n",
    "y_tst = test_df['타겟']"
   ]
  },
  {
   "cell_type": "code",
   "execution_count": 6,
   "metadata": {},
   "outputs": [
    {
     "data": {
      "text/plain": [
       "타겟\n",
       "1    10308\n",
       "0     5634\n",
       "2     3495\n",
       "Name: count, dtype: int64"
      ]
     },
     "execution_count": 6,
     "metadata": {},
     "output_type": "execute_result"
    }
   ],
   "source": [
    "y_trn.value_counts()"
   ]
  },
  {
   "cell_type": "code",
   "execution_count": 10,
   "metadata": {},
   "outputs": [
    {
     "name": "stdout",
     "output_type": "stream",
     "text": [
      "타겟\n",
      "2    10308\n",
      "0    10308\n",
      "1    10308\n",
      "Name: count, dtype: int64\n",
      "<class 'pandas.core.frame.DataFrame'> <class 'pandas.core.series.Series'>\n",
      "사망자수              0\n",
      "중상자수              1\n",
      "경상자수              0\n",
      "부상신고자수            0\n",
      "가해운전자 연령         21\n",
      "                 ..\n",
      "도광역시_충청북도         0\n",
      "하루시간구분_aftern     1\n",
      "하루시간구분_dawn       0\n",
      "하루시간구분_morn       0\n",
      "하루시간구분_night      0\n",
      "Name: 0, Length: 116, dtype: int64\n",
      "<class 'pandas.core.series.Series'>\n"
     ]
    }
   ],
   "source": [
    "\n",
    "# SMOTE 인스턴스 생성\n",
    "smote = SMOTE(sampling_strategy='auto', random_state=0)\n",
    "\n",
    "# 오버샘플링 적용\n",
    "X_resampled, y_resampled = smote.fit_resample(X_trn, y_trn) #판다스데이터타입도 넘파이로변환하는게 아니라 판다스로 리턴해줌\n",
    "\n",
    "# 결과 확인\n",
    "print(pd.Series(y_resampled).value_counts())\n",
    "X_resampled.shape\n",
    "print(type(X_resampled), type(y_resampled))\n",
    "\n"
   ]
  },
  {
   "cell_type": "code",
   "execution_count": 20,
   "metadata": {},
   "outputs": [],
   "source": [
    "X_trn = X_trn.values\n",
    "y_trn = y_trn.values\n",
    "X_tst = X_tst.values\n",
    "y_tst = y_tst.values"
   ]
  },
  {
   "cell_type": "code",
   "execution_count": 8,
   "metadata": {},
   "outputs": [
    {
     "data": {
      "text/plain": [
       "((19437, 116), (19437,))"
      ]
     },
     "execution_count": 8,
     "metadata": {},
     "output_type": "execute_result"
    }
   ],
   "source": [
    "X_trn.shape, y_trn.shape"
   ]
  },
  {
   "cell_type": "code",
   "execution_count": 8,
   "metadata": {},
   "outputs": [
    {
     "name": "stdout",
     "output_type": "stream",
     "text": [
      "DynamicANNWrapper(activations=['relu', 'relu', 'relu', 'softmax'],\n",
      "                  batch_size=100, dropout=0.2, epochs=1, input_dim=116,\n",
      "                  layers=[512, 256, 128, 3])\n"
     ]
    }
   ],
   "source": [
    "models = create_models(X_trn, y_trn,'configW.json',2)\n",
    "m = models[0]\n",
    "print(m)"
   ]
  },
  {
   "cell_type": "code",
   "execution_count": null,
   "metadata": {},
   "outputs": [],
   "source": [
    "model = factory_model('config.json')\n",
    "model.fit(X_trn, y_trn)"
   ]
  },
  {
   "cell_type": "code",
   "execution_count": 9,
   "metadata": {},
   "outputs": [],
   "source": [
    "feature = val_df.drop('타겟',axis=1)\n",
    "label = val_df['타겟']\n",
    "\n",
    "feature = feature.values\n",
    "label = label.values\n",
    "model = factory_model('config.json')"
   ]
  },
  {
   "cell_type": "code",
   "execution_count": null,
   "metadata": {},
   "outputs": [],
   "source": [
    "predictions = model.predict(X_tst)"
   ]
  },
  {
   "cell_type": "code",
   "execution_count": null,
   "metadata": {},
   "outputs": [],
   "source": [
    "# predicted_classes = np.argmax(predictions, axis=1) "
   ]
  },
  {
   "cell_type": "code",
   "execution_count": null,
   "metadata": {},
   "outputs": [],
   "source": [
    "accuracy = accuracy_score(y_tst, predictions)"
   ]
  },
  {
   "cell_type": "code",
   "execution_count": null,
   "metadata": {},
   "outputs": [],
   "source": [
    "print(accuracy)"
   ]
  },
  {
   "cell_type": "code",
   "execution_count": 11,
   "metadata": {},
   "outputs": [
    {
     "name": "stdout",
     "output_type": "stream",
     "text": [
      "\n",
      "=== DynamicANNWrapper ===\n"
     ]
    },
    {
     "data": {
      "application/vnd.jupyter.widget-view+json": {
       "model_id": "f0c8a3a9eab541228f54b40195916e26",
       "version_major": 2,
       "version_minor": 0
      },
      "text/plain": [
       "  0%|          | 0/1 [00:00<?, ?it/s]"
      ]
     },
     "metadata": {},
     "output_type": "display_data"
    },
    {
     "name": "stdout",
     "output_type": "stream",
     "text": [
      "Epoch 1/1, Average Training Loss: 1.0041\n",
      "\n",
      "#1 교차 검증 Accuracy: 0.5411522633744856, Precision: 0.1803840877914952, Recall: 0.3333333333333333, F1: 0.2340898976412995\n"
     ]
    },
    {
     "name": "stderr",
     "output_type": "stream",
     "text": [
      "c:\\Users\\user\\miniconda3\\envs\\venv\\lib\\site-packages\\sklearn\\metrics\\_classification.py:1471: UndefinedMetricWarning: Precision is ill-defined and being set to 0.0 in labels with no predicted samples. Use `zero_division` parameter to control this behavior.\n",
      "  _warn_prf(average, modifier, msg_start, len(result))\n"
     ]
    },
    {
     "data": {
      "application/vnd.jupyter.widget-view+json": {
       "model_id": "b052ecff464a490bb264cd5bc39349f3",
       "version_major": 2,
       "version_minor": 0
      },
      "text/plain": [
       "  0%|          | 0/1 [00:00<?, ?it/s]"
      ]
     },
     "metadata": {},
     "output_type": "display_data"
    },
    {
     "name": "stdout",
     "output_type": "stream",
     "text": [
      "Epoch 1/1, Average Training Loss: 1.0057\n",
      "\n",
      "#2 교차 검증 Accuracy: 0.5216049382716049, Precision: 0.45877128053293853, Recall: 0.3401826484018265, F1: 0.24120875861785762\n"
     ]
    },
    {
     "name": "stderr",
     "output_type": "stream",
     "text": [
      "c:\\Users\\user\\miniconda3\\envs\\venv\\lib\\site-packages\\sklearn\\metrics\\_classification.py:1471: UndefinedMetricWarning: Precision is ill-defined and being set to 0.0 in labels with no predicted samples. Use `zero_division` parameter to control this behavior.\n",
      "  _warn_prf(average, modifier, msg_start, len(result))\n"
     ]
    },
    {
     "data": {
      "application/vnd.jupyter.widget-view+json": {
       "model_id": "dd09bea5b5c744b6997ae4172f98a231",
       "version_major": 2,
       "version_minor": 0
      },
      "text/plain": [
       "  0%|          | 0/1 [00:00<?, ?it/s]"
      ]
     },
     "metadata": {},
     "output_type": "display_data"
    },
    {
     "name": "stdout",
     "output_type": "stream",
     "text": [
      "Epoch 1/1, Average Training Loss: 1.0129\n",
      "\n",
      "#3 교차 검증 Accuracy: 0.5349794238683128, Precision: 0.5111799105607155, Recall: 0.3367003367003367, F1: 0.23860924181247192\n"
     ]
    },
    {
     "name": "stderr",
     "output_type": "stream",
     "text": [
      "c:\\Users\\user\\miniconda3\\envs\\venv\\lib\\site-packages\\sklearn\\metrics\\_classification.py:1471: UndefinedMetricWarning: Precision is ill-defined and being set to 0.0 in labels with no predicted samples. Use `zero_division` parameter to control this behavior.\n",
      "  _warn_prf(average, modifier, msg_start, len(result))\n"
     ]
    },
    {
     "data": {
      "application/vnd.jupyter.widget-view+json": {
       "model_id": "922caf75ed514d5e9a72d86760bc6423",
       "version_major": 2,
       "version_minor": 0
      },
      "text/plain": [
       "  0%|          | 0/1 [00:00<?, ?it/s]"
      ]
     },
     "metadata": {},
     "output_type": "display_data"
    },
    {
     "name": "stdout",
     "output_type": "stream",
     "text": [
      "Epoch 1/1, Average Training Loss: 1.0158\n",
      "\n",
      "#4 교차 검증 Accuracy: 0.5452674897119342, Precision: 0.3721687638786084, Recall: 0.33655153099778606, F1: 0.24466689311141745\n"
     ]
    },
    {
     "name": "stderr",
     "output_type": "stream",
     "text": [
      "c:\\Users\\user\\miniconda3\\envs\\venv\\lib\\site-packages\\sklearn\\metrics\\_classification.py:1471: UndefinedMetricWarning: Precision is ill-defined and being set to 0.0 in labels with no predicted samples. Use `zero_division` parameter to control this behavior.\n",
      "  _warn_prf(average, modifier, msg_start, len(result))\n"
     ]
    },
    {
     "data": {
      "application/vnd.jupyter.widget-view+json": {
       "model_id": "575cd479927c4725bc5aaa1fadc32035",
       "version_major": 2,
       "version_minor": 0
      },
      "text/plain": [
       "  0%|          | 0/1 [00:00<?, ?it/s]"
      ]
     },
     "metadata": {},
     "output_type": "display_data"
    },
    {
     "name": "stdout",
     "output_type": "stream",
     "text": [
      "Epoch 1/1, Average Training Loss: 1.0043\n",
      "\n",
      "#5 교차 검증 Accuracy: 0.5648148148148148, Precision: 0.3712584127525602, Recall: 0.47566868154429387, F1: 0.4108067549579064\n",
      "\n",
      "## 평균 검증 Accuracy: 0.5415637860082304\n",
      "## 평균 검증 Precision: 0.3787524911032636\n",
      "## 평균 검증 Recall: 0.3644873061955153\n",
      "## 평균 검증 F1: 0.27387630922819056\n",
      "\n",
      "=== DynamicANNWrapper ===\n"
     ]
    },
    {
     "name": "stderr",
     "output_type": "stream",
     "text": [
      "c:\\Users\\user\\miniconda3\\envs\\venv\\lib\\site-packages\\sklearn\\metrics\\_classification.py:1471: UndefinedMetricWarning: Precision is ill-defined and being set to 0.0 in labels with no predicted samples. Use `zero_division` parameter to control this behavior.\n",
      "  _warn_prf(average, modifier, msg_start, len(result))\n"
     ]
    },
    {
     "data": {
      "application/vnd.jupyter.widget-view+json": {
       "model_id": "3e5541a5e6ab4404b0d9235520d7459a",
       "version_major": 2,
       "version_minor": 0
      },
      "text/plain": [
       "  0%|          | 0/1 [00:00<?, ?it/s]"
      ]
     },
     "metadata": {},
     "output_type": "display_data"
    },
    {
     "name": "stdout",
     "output_type": "stream",
     "text": [
      "Epoch 1/1, Average Training Loss: 1.0009\n",
      "\n",
      "#1 교차 검증 Accuracy: 0.6923868312757202, Precision: 0.4688994526073178, Recall: 0.5366443710508544, F1: 0.4965904896746594\n"
     ]
    },
    {
     "name": "stderr",
     "output_type": "stream",
     "text": [
      "c:\\Users\\user\\miniconda3\\envs\\venv\\lib\\site-packages\\sklearn\\metrics\\_classification.py:1471: UndefinedMetricWarning: Precision is ill-defined and being set to 0.0 in labels with no predicted samples. Use `zero_division` parameter to control this behavior.\n",
      "  _warn_prf(average, modifier, msg_start, len(result))\n"
     ]
    },
    {
     "data": {
      "application/vnd.jupyter.widget-view+json": {
       "model_id": "21324753ff8a4e3fad976db446f309ca",
       "version_major": 2,
       "version_minor": 0
      },
      "text/plain": [
       "  0%|          | 0/1 [00:00<?, ?it/s]"
      ]
     },
     "metadata": {},
     "output_type": "display_data"
    },
    {
     "name": "stdout",
     "output_type": "stream",
     "text": [
      "Epoch 1/1, Average Training Loss: 1.0103\n",
      "\n",
      "#2 교차 검증 Accuracy: 0.5154320987654321, Precision: 0.17181069958847736, Recall: 0.3333333333333333, F1: 0.22674813306177868\n"
     ]
    },
    {
     "name": "stderr",
     "output_type": "stream",
     "text": [
      "c:\\Users\\user\\miniconda3\\envs\\venv\\lib\\site-packages\\sklearn\\metrics\\_classification.py:1471: UndefinedMetricWarning: Precision is ill-defined and being set to 0.0 in labels with no predicted samples. Use `zero_division` parameter to control this behavior.\n",
      "  _warn_prf(average, modifier, msg_start, len(result))\n"
     ]
    },
    {
     "data": {
      "application/vnd.jupyter.widget-view+json": {
       "model_id": "3e949e0b341b489baad78bbd06ae7323",
       "version_major": 2,
       "version_minor": 0
      },
      "text/plain": [
       "  0%|          | 0/1 [00:00<?, ?it/s]"
      ]
     },
     "metadata": {},
     "output_type": "display_data"
    },
    {
     "name": "stdout",
     "output_type": "stream",
     "text": [
      "Epoch 1/1, Average Training Loss: 1.0099\n",
      "\n",
      "#3 교차 검증 Accuracy: 0.5318930041152263, Precision: 0.17729766803840877, Recall: 0.3333333333333333, F1: 0.23147526304007163\n"
     ]
    },
    {
     "name": "stderr",
     "output_type": "stream",
     "text": [
      "c:\\Users\\user\\miniconda3\\envs\\venv\\lib\\site-packages\\sklearn\\metrics\\_classification.py:1471: UndefinedMetricWarning: Precision is ill-defined and being set to 0.0 in labels with no predicted samples. Use `zero_division` parameter to control this behavior.\n",
      "  _warn_prf(average, modifier, msg_start, len(result))\n"
     ]
    },
    {
     "data": {
      "application/vnd.jupyter.widget-view+json": {
       "model_id": "8bf87b6ed8d0488fb1462f41b5862968",
       "version_major": 2,
       "version_minor": 0
      },
      "text/plain": [
       "  0%|          | 0/1 [00:00<?, ?it/s]"
      ]
     },
     "metadata": {},
     "output_type": "display_data"
    },
    {
     "name": "stdout",
     "output_type": "stream",
     "text": [
      "Epoch 1/1, Average Training Loss: 1.0184\n",
      "\n",
      "#4 교차 검증 Accuracy: 0.5442386831275721, Precision: 0.18141289437585736, Recall: 0.3333333333333333, F1: 0.2349544747945814\n"
     ]
    },
    {
     "name": "stderr",
     "output_type": "stream",
     "text": [
      "c:\\Users\\user\\miniconda3\\envs\\venv\\lib\\site-packages\\sklearn\\metrics\\_classification.py:1471: UndefinedMetricWarning: Precision is ill-defined and being set to 0.0 in labels with no predicted samples. Use `zero_division` parameter to control this behavior.\n",
      "  _warn_prf(average, modifier, msg_start, len(result))\n"
     ]
    },
    {
     "data": {
      "application/vnd.jupyter.widget-view+json": {
       "model_id": "9d1263f93829498dbac58e6476ec0866",
       "version_major": 2,
       "version_minor": 0
      },
      "text/plain": [
       "  0%|          | 0/1 [00:00<?, ?it/s]"
      ]
     },
     "metadata": {},
     "output_type": "display_data"
    },
    {
     "name": "stdout",
     "output_type": "stream",
     "text": [
      "Epoch 1/1, Average Training Loss: 0.9859\n",
      "\n",
      "#5 교차 검증 Accuracy: 0.676954732510288, Precision: 0.4996642170042421, Recall: 0.5121871448897547, F1: 0.483687690609047\n",
      "\n",
      "## 평균 검증 Accuracy: 0.5921810699588477\n",
      "## 평균 검증 Precision: 0.2998169863228607\n",
      "## 평균 검증 Recall: 0.40976630318812174\n",
      "## 평균 검증 F1: 0.33469121023602766\n"
     ]
    },
    {
     "name": "stderr",
     "output_type": "stream",
     "text": [
      "c:\\Users\\user\\miniconda3\\envs\\venv\\lib\\site-packages\\sklearn\\metrics\\_classification.py:1471: UndefinedMetricWarning: Precision is ill-defined and being set to 0.0 in labels with no predicted samples. Use `zero_division` parameter to control this behavior.\n",
      "  _warn_prf(average, modifier, msg_start, len(result))\n"
     ]
    },
    {
     "data": {
      "text/html": [
       "<div>\n",
       "<style scoped>\n",
       "    .dataframe tbody tr th:only-of-type {\n",
       "        vertical-align: middle;\n",
       "    }\n",
       "\n",
       "    .dataframe tbody tr th {\n",
       "        vertical-align: top;\n",
       "    }\n",
       "\n",
       "    .dataframe thead th {\n",
       "        text-align: right;\n",
       "    }\n",
       "</style>\n",
       "<table border=\"1\" class=\"dataframe\">\n",
       "  <thead>\n",
       "    <tr style=\"text-align: right;\">\n",
       "      <th></th>\n",
       "      <th>Model</th>\n",
       "      <th>Avg Accuracy</th>\n",
       "      <th>Avg Precision</th>\n",
       "      <th>Avg Recall</th>\n",
       "      <th>Avg F1</th>\n",
       "    </tr>\n",
       "  </thead>\n",
       "  <tbody>\n",
       "    <tr>\n",
       "      <th>0</th>\n",
       "      <td>DynamicANNWrapper0</td>\n",
       "      <td>0.541564</td>\n",
       "      <td>0.378752</td>\n",
       "      <td>0.364487</td>\n",
       "      <td>0.273876</td>\n",
       "    </tr>\n",
       "    <tr>\n",
       "      <th>1</th>\n",
       "      <td>DynamicANNWrapper0</td>\n",
       "      <td>0.592181</td>\n",
       "      <td>0.299817</td>\n",
       "      <td>0.409766</td>\n",
       "      <td>0.334691</td>\n",
       "    </tr>\n",
       "  </tbody>\n",
       "</table>\n",
       "</div>"
      ],
      "text/plain": [
       "                Model  Avg Accuracy  Avg Precision  Avg Recall    Avg F1\n",
       "0  DynamicANNWrapper0      0.541564       0.378752    0.364487  0.273876\n",
       "1  DynamicANNWrapper0      0.592181       0.299817    0.409766  0.334691"
      ]
     },
     "execution_count": 11,
     "metadata": {},
     "output_type": "execute_result"
    }
   ],
   "source": [
    "d = models_cv(models, feature, label)\n",
    "d.head()"
   ]
  },
  {
   "cell_type": "code",
   "execution_count": null,
   "metadata": {},
   "outputs": [],
   "source": [
    "performance_metrics = CV(m, feature, label, n_splits=5)\n",
    "performance_metrics.head()\n"
   ]
  }
 ],
 "metadata": {
  "kernelspec": {
   "display_name": "venv",
   "language": "python",
   "name": "python3"
  },
  "language_info": {
   "codemirror_mode": {
    "name": "ipython",
    "version": 3
   },
   "file_extension": ".py",
   "mimetype": "text/x-python",
   "name": "python",
   "nbconvert_exporter": "python",
   "pygments_lexer": "ipython3",
   "version": "3.10.9"
  }
 },
 "nbformat": 4,
 "nbformat_minor": 2
}
