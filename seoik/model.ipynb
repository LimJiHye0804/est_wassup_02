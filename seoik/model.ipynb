{
 "cells": [
  {
   "cell_type": "markdown",
   "metadata": {},
   "source": [
    "# 커스텀모델 함수를 사용해보자\n",
    "\n",
    "### 인공신경망 만드는 함수\n",
    "- factiory_model( 트레이닝 데이터(X값=칼럼=피쳐=열) ,  타겟 데이터(맞춰야하는 데이터) , 하이퍼 파라미터 셋팅한 json파일의 이름)\n",
    "- -> EX :  factory_model(X_trn, y_trn,'config.json')\n",
    "\n",
    "          리턴값(아웃풋)은 인공신경망 모델을 리턴함 학습도 가능함\n",
    "          model = factory_model(X_trn, y_trn,'config.json')\n",
    "          model.fit(X_trn, y_trn)\n",
    "### 인공신경망 모델 여러개 만드는 함수\n",
    "- create_models( 트레이닝 데이터(X값=칼럼=피쳐=열) ,  타겟 데이터(맞춰야하는 데이터), 하이퍼 파라미터 셋팅한 json파일의 이름 'configW.json' 무조건 W가 뒤에 붙어있어야함 , 몇개의 config.json파일을 넣을 것인지 )\n",
    "- -> EX :  create_models(X_trn, y_trn,'configW.json',2)\n",
    "\n",
    "          리턴값(아웃풋)은 인공신경망 모델 여러개를 담은 리스트를 리턴함 인덱스로 꺼내서 사용 가능함\n",
    "          models = create_models(X_trn, y_trn,'configW.json',2)\n",
    "          model1 = models[0]\n",
    "### 인공신경만 모델에 대한 교차검증 함수\n",
    "- CV(모델(한개의 모델), 트레이닝 데이터(X값=칼럼=피쳐=열) ,  타겟 데이터(맞춰야하는 데이터), 5번 교차 검증을 할 것이고 기본값이기에 안적어도 됨)\n",
    "- -> EX :  CV(m, feature, label, n_splits=5)\n",
    "\n",
    "          리턴값(아웃풋)은 판다스 데이터프레임이다 교차검증 후 5번 평균의 결과값을 가지고 있음 다음과 같이 프레임 확인도 가능함\n",
    "          d = CV(m, feature, label, n_splits=5)  \n",
    "          d.head()\n",
    "### 인공신경만 모델 여러개에 대한 교차검증 함수\n",
    "- models_cv(모델들(여러개의 모델), 트레이닝 데이터(X값=칼럼=피쳐=열) ,  타겟 데이터(맞춰야하는 데이터), 5번 교차 검증을 할 것이고 기본값이기에 안적어도 됨)\n",
    "- -> EX :  models_cv(models, feature, label, n_splits=5)\n",
    "\n",
    "          리턴값(아웃풋)은 판다스 데이터프레임이다 여러 모델들을 순서대로 하나씩 5번 교차검증 후 데이터 평균 결과값을 한 행마다 스택처럼 쌓아서 리턴함\n",
    "          d = models_cv(models, feature, label, n_splits=5) \n",
    "          d.head()"
   ]
  },
  {
   "cell_type": "code",
   "execution_count": 1,
   "metadata": {},
   "outputs": [],
   "source": [
    "import pandas as pd\n",
    "import numpy as np\n",
    "from nn import DynamicANNWrapper, DynamicANN\n",
    "from sklearn.model_selection import train_test_split\n",
    "import torch\n",
    "from factory_model import factory_model, create_models , models_cv\n",
    "from cv import CV\n",
    "from sklearn.metrics import accuracy_score\n",
    "from imblearn.over_sampling import SMOTE\n"
   ]
  },
  {
   "cell_type": "code",
   "execution_count": 2,
   "metadata": {},
   "outputs": [],
   "source": [
    "df = pd.read_csv('data/prepro_jung.csv')"
   ]
  },
  {
   "cell_type": "markdown",
   "metadata": {},
   "source": [
    "# 타겟값 분리"
   ]
  },
  {
   "cell_type": "code",
   "execution_count": 3,
   "metadata": {},
   "outputs": [],
   "source": [
    "\n",
    "# 판다스 데이터프레임을 트레인과 테스트로 나누기\n",
    "train_df, test_df = train_test_split(df, test_size=0.2, random_state=2023)\n",
    "train_df, val_df = train_test_split(train_df, test_size=0.2, random_state=2023)\n",
    "\n",
    "# 여기서\n",
    "# - your_dataframe은 나눌 데이터프레임을 대체하는 변수명입니다.\n",
    "# - test_size는 테스트 셋의 비율을 나타냅니다. 0.2는 80% 트레인, 20% 테스트로 나누겠다는 뜻입니다.\n",
    "# - random_state는 나누는 과정에서 사용되는 난수 발생 시드(seed)를 의미하며, 동일한 결과를 얻기 위해 설정합니다.\n",
    "\n",
    "# 결과로 나온 train_df와 test_df를 사용하여 모델을 훈련하고 테스트할 수 있습니다."
   ]
  },
  {
   "cell_type": "code",
   "execution_count": 4,
   "metadata": {},
   "outputs": [
    {
     "name": "stdout",
     "output_type": "stream",
     "text": [
      "<class 'pandas.core.frame.DataFrame'>\n",
      "Index: 19437 entries, 12841 to 6337\n",
      "Columns: 117 entries, 사망자수 to 하루시간구분_night\n",
      "dtypes: int64(117)\n",
      "memory usage: 17.5 MB\n"
     ]
    }
   ],
   "source": [
    "train_df.info()\n"
   ]
  },
  {
   "cell_type": "code",
   "execution_count": 4,
   "metadata": {},
   "outputs": [],
   "source": [
    "X_trn = train_df.drop('타겟',axis=1)\n",
    "y_trn = train_df['타겟']\n",
    "X_tst = test_df.drop('타겟',axis=1)\n",
    "y_tst = test_df['타겟']"
   ]
  },
  {
   "cell_type": "code",
   "execution_count": 6,
   "metadata": {},
   "outputs": [
    {
     "data": {
      "text/plain": [
       "타겟\n",
       "1    10308\n",
       "0     5634\n",
       "2     3495\n",
       "Name: count, dtype: int64"
      ]
     },
     "execution_count": 6,
     "metadata": {},
     "output_type": "execute_result"
    }
   ],
   "source": [
    "y_trn.value_counts()"
   ]
  },
  {
   "cell_type": "code",
   "execution_count": 5,
   "metadata": {},
   "outputs": [
    {
     "data": {
      "text/plain": [
       "타겟\n",
       "1    3196\n",
       "0    1793\n",
       "2    1086\n",
       "Name: count, dtype: int64"
      ]
     },
     "execution_count": 5,
     "metadata": {},
     "output_type": "execute_result"
    }
   ],
   "source": [
    "y_tst.value_counts()"
   ]
  },
  {
   "cell_type": "code",
   "execution_count": 21,
   "metadata": {},
   "outputs": [
    {
     "name": "stdout",
     "output_type": "stream",
     "text": [
      "2    10308\n",
      "0    10308\n",
      "1    10308\n",
      "Name: count, dtype: int64\n",
      "<class 'numpy.ndarray'> <class 'numpy.ndarray'>\n"
     ]
    }
   ],
   "source": [
    "# SMOTE 인스턴스 생성\n",
    "smote = SMOTE(sampling_strategy='auto', random_state=0)\n",
    "\n",
    "# 오버샘플링 적용\n",
    "X_resampled, y_resampled = smote.fit_resample(X_trn, y_trn) #판다스데이터타입도 넘파이로변환하는게 아니라 판다스로 리턴해줌\n",
    "\n",
    "# 결과 확인\n",
    "print(pd.Series(y_resampled).value_counts())\n",
    "X_resampled.shape\n",
    "print(type(X_resampled), type(y_resampled))\n"
   ]
  },
  {
   "cell_type": "code",
   "execution_count": 26,
   "metadata": {},
   "outputs": [],
   "source": [
    "X_trn = X_trn.values\n",
    "y_trn = y_trn.values\n",
    "X_tst = X_tst.values\n",
    "y_tst = y_tst.values"
   ]
  },
  {
   "cell_type": "code",
   "execution_count": 8,
   "metadata": {},
   "outputs": [
    {
     "data": {
      "text/plain": [
       "((19437, 116), (19437,))"
      ]
     },
     "execution_count": 8,
     "metadata": {},
     "output_type": "execute_result"
    }
   ],
   "source": [
    "X_trn.shape, y_trn.shape"
   ]
  },
  {
   "cell_type": "code",
   "execution_count": 6,
   "metadata": {},
   "outputs": [
    {
     "name": "stdout",
     "output_type": "stream",
     "text": [
      "DynamicANNWrapper(activations=['relu', 'relu', 'relu', 'softmax'],\n",
      "                  batch_size=100, dropout=0.2, epochs=1, input_dim=116,\n",
      "                  layers=[512, 256, 128, 3])\n"
     ]
    }
   ],
   "source": [
    "models = create_models(X_trn, y_trn,'configW.json',2)\n",
    "m = models[0]\n",
    "print(m)"
   ]
  },
  {
   "cell_type": "code",
   "execution_count": null,
   "metadata": {},
   "outputs": [],
   "source": []
  },
  {
   "cell_type": "code",
   "execution_count": 6,
   "metadata": {},
   "outputs": [],
   "source": [
    "feature = val_df.drop('타겟',axis=1)\n",
    "label = val_df['타겟']\n",
    "\n",
    "feature = feature.values\n",
    "label = label.values\n"
   ]
  },
  {
   "cell_type": "code",
   "execution_count": 27,
   "metadata": {},
   "outputs": [],
   "source": [
    "model = factory_model(feature, label, 'config.json')"
   ]
  },
  {
   "cell_type": "code",
   "execution_count": 30,
   "metadata": {},
   "outputs": [
    {
     "name": "stdout",
     "output_type": "stream",
     "text": [
      "DynamicANNWrapper(activations=['relu', 'relu', 'relu', 'softmax'],\n",
      "                  batch_size=100, dropout=0.2, input_dim=116,\n",
      "                  layers=[512, 256, 128, 3])\n"
     ]
    }
   ],
   "source": [
    "print(model)"
   ]
  },
  {
   "cell_type": "code",
   "execution_count": 28,
   "metadata": {},
   "outputs": [
    {
     "data": {
      "application/vnd.jupyter.widget-view+json": {
       "model_id": "e22a8583ad9d48fd98074f34cb6a3498",
       "version_major": 2,
       "version_minor": 0
      },
      "text/plain": [
       "  0%|          | 0/10 [00:00<?, ?it/s]"
      ]
     },
     "metadata": {},
     "output_type": "display_data"
    },
    {
     "name": "stdout",
     "output_type": "stream",
     "text": [
      "Epoch 1/10, Average Training Loss: 0.8914\n",
      "Epoch 2/10, Average Training Loss: 0.6956\n",
      "Epoch 3/10, Average Training Loss: 0.5982\n",
      "Epoch 4/10, Average Training Loss: 0.5903\n",
      "Epoch 5/10, Average Training Loss: 0.5859\n",
      "Epoch 6/10, Average Training Loss: 0.5836\n",
      "Epoch 7/10, Average Training Loss: 0.5809\n",
      "Epoch 8/10, Average Training Loss: 0.5808\n",
      "Epoch 9/10, Average Training Loss: 0.5793\n",
      "Epoch 10/10, Average Training Loss: 0.5682\n"
     ]
    }
   ],
   "source": [
    "model.fit(X_trn, y_trn)\n"
   ]
  },
  {
   "cell_type": "code",
   "execution_count": 10,
   "metadata": {},
   "outputs": [],
   "source": [
    "predictions = model.predict(X_tst)"
   ]
  },
  {
   "cell_type": "code",
   "execution_count": null,
   "metadata": {},
   "outputs": [],
   "source": [
    "# predicted_classes = np.argmax(predictions, axis=1) "
   ]
  },
  {
   "cell_type": "code",
   "execution_count": 11,
   "metadata": {},
   "outputs": [],
   "source": [
    "accuracy = accuracy_score(y_tst, predictions)"
   ]
  },
  {
   "cell_type": "code",
   "execution_count": 12,
   "metadata": {},
   "outputs": [
    {
     "name": "stdout",
     "output_type": "stream",
     "text": [
      "0.9311934156378601\n"
     ]
    }
   ],
   "source": [
    "print(accuracy)"
   ]
  },
  {
   "cell_type": "code",
   "execution_count": 12,
   "metadata": {},
   "outputs": [
    {
     "name": "stdout",
     "output_type": "stream",
     "text": [
      "\n",
      "=== DynamicANNWrapper ===\n"
     ]
    },
    {
     "data": {
      "application/vnd.jupyter.widget-view+json": {
       "model_id": "f4a4f8e052414b98b740e87847d0e4b5",
       "version_major": 2,
       "version_minor": 0
      },
      "text/plain": [
       "  0%|          | 0/1 [00:00<?, ?it/s]"
      ]
     },
     "metadata": {},
     "output_type": "display_data"
    },
    {
     "name": "stdout",
     "output_type": "stream",
     "text": [
      "Epoch 1/1, Average Training Loss: 1.0200\n",
      "\n",
      "#1 교차 검증 Accuracy: 0.5411522633744856, Precision: 0.1803840877914952, Recall: 0.3333333333333333, F1: 0.2340898976412995\n"
     ]
    },
    {
     "name": "stderr",
     "output_type": "stream",
     "text": [
      "c:\\Users\\user\\miniconda3\\envs\\venv\\lib\\site-packages\\sklearn\\metrics\\_classification.py:1471: UndefinedMetricWarning: Precision is ill-defined and being set to 0.0 in labels with no predicted samples. Use `zero_division` parameter to control this behavior.\n",
      "  _warn_prf(average, modifier, msg_start, len(result))\n"
     ]
    },
    {
     "data": {
      "application/vnd.jupyter.widget-view+json": {
       "model_id": "1c6618c4262d4f43a9b6b42398ec8902",
       "version_major": 2,
       "version_minor": 0
      },
      "text/plain": [
       "  0%|          | 0/1 [00:00<?, ?it/s]"
      ]
     },
     "metadata": {},
     "output_type": "display_data"
    },
    {
     "name": "stdout",
     "output_type": "stream",
     "text": [
      "Epoch 1/1, Average Training Loss: 1.0132\n",
      "\n",
      "#2 교차 검증 Accuracy: 0.5154320987654321, Precision: 0.17181069958847736, Recall: 0.3333333333333333, F1: 0.22674813306177868\n"
     ]
    },
    {
     "name": "stderr",
     "output_type": "stream",
     "text": [
      "c:\\Users\\user\\miniconda3\\envs\\venv\\lib\\site-packages\\sklearn\\metrics\\_classification.py:1471: UndefinedMetricWarning: Precision is ill-defined and being set to 0.0 in labels with no predicted samples. Use `zero_division` parameter to control this behavior.\n",
      "  _warn_prf(average, modifier, msg_start, len(result))\n"
     ]
    },
    {
     "data": {
      "application/vnd.jupyter.widget-view+json": {
       "model_id": "2bf7ce7ca1fb4446990937d997589a9a",
       "version_major": 2,
       "version_minor": 0
      },
      "text/plain": [
       "  0%|          | 0/1 [00:00<?, ?it/s]"
      ]
     },
     "metadata": {},
     "output_type": "display_data"
    },
    {
     "name": "stdout",
     "output_type": "stream",
     "text": [
      "Epoch 1/1, Average Training Loss: 1.0182\n",
      "\n",
      "#3 교차 검증 Accuracy: 0.5318930041152263, Precision: 0.17729766803840877, Recall: 0.3333333333333333, F1: 0.23147526304007163\n"
     ]
    },
    {
     "name": "stderr",
     "output_type": "stream",
     "text": [
      "c:\\Users\\user\\miniconda3\\envs\\venv\\lib\\site-packages\\sklearn\\metrics\\_classification.py:1471: UndefinedMetricWarning: Precision is ill-defined and being set to 0.0 in labels with no predicted samples. Use `zero_division` parameter to control this behavior.\n",
      "  _warn_prf(average, modifier, msg_start, len(result))\n"
     ]
    },
    {
     "data": {
      "application/vnd.jupyter.widget-view+json": {
       "model_id": "342d319143794980bddc6073f5e6d6d0",
       "version_major": 2,
       "version_minor": 0
      },
      "text/plain": [
       "  0%|          | 0/1 [00:00<?, ?it/s]"
      ]
     },
     "metadata": {},
     "output_type": "display_data"
    },
    {
     "name": "stdout",
     "output_type": "stream",
     "text": [
      "Epoch 1/1, Average Training Loss: 1.0237\n",
      "\n",
      "#4 교차 검증 Accuracy: 0.5442386831275721, Precision: 0.18141289437585736, Recall: 0.3333333333333333, F1: 0.2349544747945814\n"
     ]
    },
    {
     "name": "stderr",
     "output_type": "stream",
     "text": [
      "c:\\Users\\user\\miniconda3\\envs\\venv\\lib\\site-packages\\sklearn\\metrics\\_classification.py:1471: UndefinedMetricWarning: Precision is ill-defined and being set to 0.0 in labels with no predicted samples. Use `zero_division` parameter to control this behavior.\n",
      "  _warn_prf(average, modifier, msg_start, len(result))\n"
     ]
    },
    {
     "data": {
      "application/vnd.jupyter.widget-view+json": {
       "model_id": "ad97965b05294d4bbb2f8c6c00e9d124",
       "version_major": 2,
       "version_minor": 0
      },
      "text/plain": [
       "  0%|          | 0/1 [00:00<?, ?it/s]"
      ]
     },
     "metadata": {},
     "output_type": "display_data"
    },
    {
     "name": "stdout",
     "output_type": "stream",
     "text": [
      "Epoch 1/1, Average Training Loss: 1.0165\n",
      "\n",
      "#5 교차 검증 Accuracy: 0.5360082304526749, Precision: 0.17866941015089163, Recall: 0.3333333333333333, F1: 0.2326412145568207\n",
      "\n",
      "## 평균 검증 Accuracy: 0.5337448559670782\n",
      "## 평균 검증 Precision: 0.17791495198902607\n",
      "## 평균 검증 Recall: 0.3333333333333333\n",
      "## 평균 검증 F1: 0.23198179661891039\n",
      "\n",
      "=== DynamicANNWrapper ===\n"
     ]
    },
    {
     "name": "stderr",
     "output_type": "stream",
     "text": [
      "c:\\Users\\user\\miniconda3\\envs\\venv\\lib\\site-packages\\sklearn\\metrics\\_classification.py:1471: UndefinedMetricWarning: Precision is ill-defined and being set to 0.0 in labels with no predicted samples. Use `zero_division` parameter to control this behavior.\n",
      "  _warn_prf(average, modifier, msg_start, len(result))\n"
     ]
    },
    {
     "data": {
      "application/vnd.jupyter.widget-view+json": {
       "model_id": "9ba49a985f334c1386bb0cb980110295",
       "version_major": 2,
       "version_minor": 0
      },
      "text/plain": [
       "  0%|          | 0/1 [00:00<?, ?it/s]"
      ]
     },
     "metadata": {},
     "output_type": "display_data"
    },
    {
     "name": "stdout",
     "output_type": "stream",
     "text": [
      "Epoch 1/1, Average Training Loss: 1.0162\n",
      "\n",
      "#1 교차 검증 Accuracy: 0.5411522633744856, Precision: 0.1803840877914952, Recall: 0.3333333333333333, F1: 0.2340898976412995\n"
     ]
    },
    {
     "name": "stderr",
     "output_type": "stream",
     "text": [
      "c:\\Users\\user\\miniconda3\\envs\\venv\\lib\\site-packages\\sklearn\\metrics\\_classification.py:1471: UndefinedMetricWarning: Precision is ill-defined and being set to 0.0 in labels with no predicted samples. Use `zero_division` parameter to control this behavior.\n",
      "  _warn_prf(average, modifier, msg_start, len(result))\n"
     ]
    },
    {
     "data": {
      "application/vnd.jupyter.widget-view+json": {
       "model_id": "5d5eb4f9dc514f6884e89ff64667974c",
       "version_major": 2,
       "version_minor": 0
      },
      "text/plain": [
       "  0%|          | 0/1 [00:00<?, ?it/s]"
      ]
     },
     "metadata": {},
     "output_type": "display_data"
    },
    {
     "name": "stdout",
     "output_type": "stream",
     "text": [
      "Epoch 1/1, Average Training Loss: 1.0088\n",
      "\n",
      "#2 교차 검증 Accuracy: 0.5154320987654321, Precision: 0.17181069958847736, Recall: 0.3333333333333333, F1: 0.22674813306177868\n"
     ]
    },
    {
     "name": "stderr",
     "output_type": "stream",
     "text": [
      "c:\\Users\\user\\miniconda3\\envs\\venv\\lib\\site-packages\\sklearn\\metrics\\_classification.py:1471: UndefinedMetricWarning: Precision is ill-defined and being set to 0.0 in labels with no predicted samples. Use `zero_division` parameter to control this behavior.\n",
      "  _warn_prf(average, modifier, msg_start, len(result))\n"
     ]
    },
    {
     "data": {
      "application/vnd.jupyter.widget-view+json": {
       "model_id": "936d5036c20040bda0e6230126fbf9b4",
       "version_major": 2,
       "version_minor": 0
      },
      "text/plain": [
       "  0%|          | 0/1 [00:00<?, ?it/s]"
      ]
     },
     "metadata": {},
     "output_type": "display_data"
    },
    {
     "name": "stdout",
     "output_type": "stream",
     "text": [
      "Epoch 1/1, Average Training Loss: 0.9851\n",
      "\n",
      "#3 교차 검증 Accuracy: 0.742798353909465, Precision: 0.4992864080397492, Recall: 0.5815602836879433, F1: 0.5363123626567057\n"
     ]
    },
    {
     "name": "stderr",
     "output_type": "stream",
     "text": [
      "c:\\Users\\user\\miniconda3\\envs\\venv\\lib\\site-packages\\sklearn\\metrics\\_classification.py:1471: UndefinedMetricWarning: Precision is ill-defined and being set to 0.0 in labels with no predicted samples. Use `zero_division` parameter to control this behavior.\n",
      "  _warn_prf(average, modifier, msg_start, len(result))\n"
     ]
    },
    {
     "data": {
      "application/vnd.jupyter.widget-view+json": {
       "model_id": "c35be0bb1e5b425b99fd04bc52268804",
       "version_major": 2,
       "version_minor": 0
      },
      "text/plain": [
       "  0%|          | 0/1 [00:00<?, ?it/s]"
      ]
     },
     "metadata": {},
     "output_type": "display_data"
    },
    {
     "name": "stdout",
     "output_type": "stream",
     "text": [
      "Epoch 1/1, Average Training Loss: 1.0181\n",
      "\n",
      "#4 교차 검증 Accuracy: 0.5442386831275721, Precision: 0.18141289437585736, Recall: 0.3333333333333333, F1: 0.2349544747945814\n"
     ]
    },
    {
     "name": "stderr",
     "output_type": "stream",
     "text": [
      "c:\\Users\\user\\miniconda3\\envs\\venv\\lib\\site-packages\\sklearn\\metrics\\_classification.py:1471: UndefinedMetricWarning: Precision is ill-defined and being set to 0.0 in labels with no predicted samples. Use `zero_division` parameter to control this behavior.\n",
      "  _warn_prf(average, modifier, msg_start, len(result))\n"
     ]
    },
    {
     "data": {
      "application/vnd.jupyter.widget-view+json": {
       "model_id": "ab14304ccd7e4d9aa15a142053e01724",
       "version_major": 2,
       "version_minor": 0
      },
      "text/plain": [
       "  0%|          | 0/1 [00:00<?, ?it/s]"
      ]
     },
     "metadata": {},
     "output_type": "display_data"
    },
    {
     "name": "stdout",
     "output_type": "stream",
     "text": [
      "Epoch 1/1, Average Training Loss: 1.0187\n",
      "\n",
      "#5 교차 검증 Accuracy: 0.5360082304526749, Precision: 0.17866941015089163, Recall: 0.3333333333333333, F1: 0.2326412145568207\n",
      "\n",
      "## 평균 검증 Accuracy: 0.5759259259259258\n",
      "## 평균 검증 Precision: 0.24231269998929417\n",
      "## 평균 검증 Recall: 0.3829787234042553\n",
      "## 평균 검증 F1: 0.29294921654223716\n",
      "\n",
      "=== DynamicANNWrapper ===\n"
     ]
    },
    {
     "name": "stderr",
     "output_type": "stream",
     "text": [
      "c:\\Users\\user\\miniconda3\\envs\\venv\\lib\\site-packages\\sklearn\\metrics\\_classification.py:1471: UndefinedMetricWarning: Precision is ill-defined and being set to 0.0 in labels with no predicted samples. Use `zero_division` parameter to control this behavior.\n",
      "  _warn_prf(average, modifier, msg_start, len(result))\n"
     ]
    },
    {
     "data": {
      "application/vnd.jupyter.widget-view+json": {
       "model_id": "5ba5342108e945dcad13309d571ccb1b",
       "version_major": 2,
       "version_minor": 0
      },
      "text/plain": [
       "  0%|          | 0/1 [00:00<?, ?it/s]"
      ]
     },
     "metadata": {},
     "output_type": "display_data"
    },
    {
     "name": "stdout",
     "output_type": "stream",
     "text": [
      "Epoch 1/1, Average Training Loss: 1.0133\n",
      "\n",
      "#1 교차 검증 Accuracy: 0.5411522633744856, Precision: 0.1803840877914952, Recall: 0.3333333333333333, F1: 0.2340898976412995\n"
     ]
    },
    {
     "name": "stderr",
     "output_type": "stream",
     "text": [
      "c:\\Users\\user\\miniconda3\\envs\\venv\\lib\\site-packages\\sklearn\\metrics\\_classification.py:1471: UndefinedMetricWarning: Precision is ill-defined and being set to 0.0 in labels with no predicted samples. Use `zero_division` parameter to control this behavior.\n",
      "  _warn_prf(average, modifier, msg_start, len(result))\n"
     ]
    },
    {
     "data": {
      "application/vnd.jupyter.widget-view+json": {
       "model_id": "44a279aa6ef1411895f7eee6a6a1c08e",
       "version_major": 2,
       "version_minor": 0
      },
      "text/plain": [
       "  0%|          | 0/1 [00:00<?, ?it/s]"
      ]
     },
     "metadata": {},
     "output_type": "display_data"
    },
    {
     "name": "stdout",
     "output_type": "stream",
     "text": [
      "Epoch 1/1, Average Training Loss: 1.0035\n",
      "\n",
      "#2 교차 검증 Accuracy: 0.654320987654321, Precision: 0.44296788482835, Recall: 0.5074440160774342, F1: 0.4663973063973064\n"
     ]
    },
    {
     "name": "stderr",
     "output_type": "stream",
     "text": [
      "c:\\Users\\user\\miniconda3\\envs\\venv\\lib\\site-packages\\sklearn\\metrics\\_classification.py:1471: UndefinedMetricWarning: Precision is ill-defined and being set to 0.0 in labels with no predicted samples. Use `zero_division` parameter to control this behavior.\n",
      "  _warn_prf(average, modifier, msg_start, len(result))\n"
     ]
    },
    {
     "data": {
      "application/vnd.jupyter.widget-view+json": {
       "model_id": "8b0b0ee8220e42b8af05aaf1185324ec",
       "version_major": 2,
       "version_minor": 0
      },
      "text/plain": [
       "  0%|          | 0/1 [00:00<?, ?it/s]"
      ]
     },
     "metadata": {},
     "output_type": "display_data"
    },
    {
     "name": "stdout",
     "output_type": "stream",
     "text": [
      "Epoch 1/1, Average Training Loss: 0.9956\n",
      "\n",
      "#3 교차 검증 Accuracy: 0.7325102880658436, Precision: 0.5025329906800363, Recall: 0.5669938152207655, F1: 0.5288808940015429\n"
     ]
    },
    {
     "name": "stderr",
     "output_type": "stream",
     "text": [
      "c:\\Users\\user\\miniconda3\\envs\\venv\\lib\\site-packages\\sklearn\\metrics\\_classification.py:1471: UndefinedMetricWarning: Precision is ill-defined and being set to 0.0 in labels with no predicted samples. Use `zero_division` parameter to control this behavior.\n",
      "  _warn_prf(average, modifier, msg_start, len(result))\n"
     ]
    },
    {
     "data": {
      "application/vnd.jupyter.widget-view+json": {
       "model_id": "1775f2414168491dbcaca3c2366233e6",
       "version_major": 2,
       "version_minor": 0
      },
      "text/plain": [
       "  0%|          | 0/1 [00:00<?, ?it/s]"
      ]
     },
     "metadata": {},
     "output_type": "display_data"
    },
    {
     "name": "stdout",
     "output_type": "stream",
     "text": [
      "Epoch 1/1, Average Training Loss: 1.0017\n",
      "\n",
      "#4 교차 검증 Accuracy: 0.6378600823045267, Precision: 0.43941010697967114, Recall: 0.4741397417233412, F1: 0.4413164229633977\n"
     ]
    },
    {
     "name": "stderr",
     "output_type": "stream",
     "text": [
      "c:\\Users\\user\\miniconda3\\envs\\venv\\lib\\site-packages\\sklearn\\metrics\\_classification.py:1471: UndefinedMetricWarning: Precision is ill-defined and being set to 0.0 in labels with no predicted samples. Use `zero_division` parameter to control this behavior.\n",
      "  _warn_prf(average, modifier, msg_start, len(result))\n"
     ]
    },
    {
     "data": {
      "application/vnd.jupyter.widget-view+json": {
       "model_id": "337312ad741c4568aad47ae4df719970",
       "version_major": 2,
       "version_minor": 0
      },
      "text/plain": [
       "  0%|          | 0/1 [00:00<?, ?it/s]"
      ]
     },
     "metadata": {},
     "output_type": "display_data"
    },
    {
     "name": "stdout",
     "output_type": "stream",
     "text": [
      "Epoch 1/1, Average Training Loss: 1.0110\n",
      "\n",
      "#5 교차 검증 Accuracy: 0.5473251028806584, Precision: 0.349548088918835, Recall: 0.4176812673675767, F1: 0.3787215823689987\n",
      "\n",
      "## 평균 검증 Accuracy: 0.6226337448559671\n",
      "## 평균 검증 Precision: 0.38296863183967755\n",
      "## 평균 검증 Recall: 0.45991843474449023\n",
      "## 평균 검증 F1: 0.4098812206745091\n",
      "\n",
      "=== DynamicANNWrapper ===\n"
     ]
    },
    {
     "name": "stderr",
     "output_type": "stream",
     "text": [
      "c:\\Users\\user\\miniconda3\\envs\\venv\\lib\\site-packages\\sklearn\\metrics\\_classification.py:1471: UndefinedMetricWarning: Precision is ill-defined and being set to 0.0 in labels with no predicted samples. Use `zero_division` parameter to control this behavior.\n",
      "  _warn_prf(average, modifier, msg_start, len(result))\n"
     ]
    },
    {
     "data": {
      "application/vnd.jupyter.widget-view+json": {
       "model_id": "f486c5321c2245adae92feef1bca1725",
       "version_major": 2,
       "version_minor": 0
      },
      "text/plain": [
       "  0%|          | 0/1 [00:00<?, ?it/s]"
      ]
     },
     "metadata": {},
     "output_type": "display_data"
    },
    {
     "name": "stdout",
     "output_type": "stream",
     "text": [
      "Epoch 1/1, Average Training Loss: 1.0168\n",
      "\n",
      "#1 교차 검증 Accuracy: 0.5411522633744856, Precision: 0.1803840877914952, Recall: 0.3333333333333333, F1: 0.2340898976412995\n"
     ]
    },
    {
     "name": "stderr",
     "output_type": "stream",
     "text": [
      "c:\\Users\\user\\miniconda3\\envs\\venv\\lib\\site-packages\\sklearn\\metrics\\_classification.py:1471: UndefinedMetricWarning: Precision is ill-defined and being set to 0.0 in labels with no predicted samples. Use `zero_division` parameter to control this behavior.\n",
      "  _warn_prf(average, modifier, msg_start, len(result))\n"
     ]
    },
    {
     "data": {
      "application/vnd.jupyter.widget-view+json": {
       "model_id": "fae77aca74d747bea4c6473f30fac1d1",
       "version_major": 2,
       "version_minor": 0
      },
      "text/plain": [
       "  0%|          | 0/1 [00:00<?, ?it/s]"
      ]
     },
     "metadata": {},
     "output_type": "display_data"
    },
    {
     "name": "stdout",
     "output_type": "stream",
     "text": [
      "Epoch 1/1, Average Training Loss: 1.0062\n",
      "\n",
      "#2 교차 검증 Accuracy: 0.5164609053497943, Precision: 0.5053209749399244, Recall: 0.3344748858447488, F1: 0.22917748676856112\n"
     ]
    },
    {
     "name": "stderr",
     "output_type": "stream",
     "text": [
      "c:\\Users\\user\\miniconda3\\envs\\venv\\lib\\site-packages\\sklearn\\metrics\\_classification.py:1471: UndefinedMetricWarning: Precision is ill-defined and being set to 0.0 in labels with no predicted samples. Use `zero_division` parameter to control this behavior.\n",
      "  _warn_prf(average, modifier, msg_start, len(result))\n"
     ]
    },
    {
     "data": {
      "application/vnd.jupyter.widget-view+json": {
       "model_id": "5a7143fd8236437eb03c117923cd1064",
       "version_major": 2,
       "version_minor": 0
      },
      "text/plain": [
       "  0%|          | 0/1 [00:00<?, ?it/s]"
      ]
     },
     "metadata": {},
     "output_type": "display_data"
    },
    {
     "name": "stdout",
     "output_type": "stream",
     "text": [
      "Epoch 1/1, Average Training Loss: 1.0026\n",
      "\n",
      "#3 교차 검증 Accuracy: 0.5545267489711934, Precision: 0.5147368421052632, Recall: 0.35802469135802467, F1: 0.28092361453901543\n"
     ]
    },
    {
     "name": "stderr",
     "output_type": "stream",
     "text": [
      "c:\\Users\\user\\miniconda3\\envs\\venv\\lib\\site-packages\\sklearn\\metrics\\_classification.py:1471: UndefinedMetricWarning: Precision is ill-defined and being set to 0.0 in labels with no predicted samples. Use `zero_division` parameter to control this behavior.\n",
      "  _warn_prf(average, modifier, msg_start, len(result))\n"
     ]
    },
    {
     "data": {
      "application/vnd.jupyter.widget-view+json": {
       "model_id": "b11d2ab8df094bc0976c20cc116a0c72",
       "version_major": 2,
       "version_minor": 0
      },
      "text/plain": [
       "  0%|          | 0/1 [00:00<?, ?it/s]"
      ]
     },
     "metadata": {},
     "output_type": "display_data"
    },
    {
     "name": "stdout",
     "output_type": "stream",
     "text": [
      "Epoch 1/1, Average Training Loss: 1.0037\n",
      "\n",
      "#4 교차 검증 Accuracy: 0.6532921810699589, Precision: 0.452951852951853, Recall: 0.4913557713896675, F1: 0.4583098250987347\n"
     ]
    },
    {
     "name": "stderr",
     "output_type": "stream",
     "text": [
      "c:\\Users\\user\\miniconda3\\envs\\venv\\lib\\site-packages\\sklearn\\metrics\\_classification.py:1471: UndefinedMetricWarning: Precision is ill-defined and being set to 0.0 in labels with no predicted samples. Use `zero_division` parameter to control this behavior.\n",
      "  _warn_prf(average, modifier, msg_start, len(result))\n"
     ]
    },
    {
     "data": {
      "application/vnd.jupyter.widget-view+json": {
       "model_id": "76474fc1ae014c969f6518c74e3aa65b",
       "version_major": 2,
       "version_minor": 0
      },
      "text/plain": [
       "  0%|          | 0/1 [00:00<?, ?it/s]"
      ]
     },
     "metadata": {},
     "output_type": "display_data"
    },
    {
     "name": "stdout",
     "output_type": "stream",
     "text": [
      "Epoch 1/1, Average Training Loss: 0.9912\n",
      "\n",
      "#5 교차 검증 Accuracy: 0.720164609053498, Precision: 0.4888378150616717, Recall: 0.5795255965852122, F1: 0.5288133360478068\n",
      "\n",
      "## 평균 검증 Accuracy: 0.597119341563786\n",
      "## 평균 검증 Precision: 0.4284463145700415\n",
      "## 평균 검증 Recall: 0.41934285570219726\n",
      "## 평균 검증 F1: 0.34626283201908353\n"
     ]
    },
    {
     "name": "stderr",
     "output_type": "stream",
     "text": [
      "c:\\Users\\user\\miniconda3\\envs\\venv\\lib\\site-packages\\sklearn\\metrics\\_classification.py:1471: UndefinedMetricWarning: Precision is ill-defined and being set to 0.0 in labels with no predicted samples. Use `zero_division` parameter to control this behavior.\n",
      "  _warn_prf(average, modifier, msg_start, len(result))\n"
     ]
    }
   ],
   "source": [
    "models = m\n",
    "d = models_cv(models, feature, label)\n"
   ]
  },
  {
   "cell_type": "code",
   "execution_count": 11,
   "metadata": {},
   "outputs": [],
   "source": [
    "m = create_models(feature, label, \"configW.json\", 4)\n"
   ]
  },
  {
   "cell_type": "code",
   "execution_count": 13,
   "metadata": {},
   "outputs": [],
   "source": [
    "m = model"
   ]
  },
  {
   "cell_type": "code",
   "execution_count": 14,
   "metadata": {},
   "outputs": [
    {
     "name": "stdout",
     "output_type": "stream",
     "text": [
      "\n",
      "=== DynamicANNWrapper ===\n"
     ]
    },
    {
     "data": {
      "application/vnd.jupyter.widget-view+json": {
       "model_id": "558892f244924bcea94251e3169ab2a1",
       "version_major": 2,
       "version_minor": 0
      },
      "text/plain": [
       "  0%|          | 0/100 [00:00<?, ?it/s]"
      ]
     },
     "metadata": {},
     "output_type": "display_data"
    },
    {
     "name": "stdout",
     "output_type": "stream",
     "text": [
      "Epoch 1/100, Average Training Loss: 0.5706\n",
      "Epoch 2/100, Average Training Loss: 0.5664\n",
      "Epoch 3/100, Average Training Loss: 0.5653\n",
      "Epoch 4/100, Average Training Loss: 0.5669\n",
      "Epoch 5/100, Average Training Loss: 0.5738\n",
      "Epoch 6/100, Average Training Loss: 0.5656\n",
      "Epoch 7/100, Average Training Loss: 0.5653\n",
      "Epoch 8/100, Average Training Loss: 0.5653\n",
      "Epoch 9/100, Average Training Loss: 0.5648\n",
      "Epoch 10/100, Average Training Loss: 0.5643\n",
      "Epoch 11/100, Average Training Loss: 0.5643\n",
      "Epoch 12/100, Average Training Loss: 0.5643\n",
      "Epoch 13/100, Average Training Loss: 0.5643\n",
      "Epoch 14/100, Average Training Loss: 0.5643\n",
      "Epoch 15/100, Average Training Loss: 0.5643\n",
      "Epoch 16/100, Average Training Loss: 0.5643\n",
      "Epoch 17/100, Average Training Loss: 0.5643\n",
      "Epoch 18/100, Average Training Loss: 0.5643\n",
      "Epoch 19/100, Average Training Loss: 0.5643\n",
      "Epoch 20/100, Average Training Loss: 0.5643\n",
      "Epoch 21/100, Average Training Loss: 0.5643\n",
      "Epoch 22/100, Average Training Loss: 0.5643\n",
      "Epoch 23/100, Average Training Loss: 0.5644\n",
      "Epoch 24/100, Average Training Loss: 0.5643\n",
      "Epoch 25/100, Average Training Loss: 0.5643\n",
      "Epoch 26/100, Average Training Loss: 0.5643\n",
      "Epoch 27/100, Average Training Loss: 0.5643\n",
      "Epoch 28/100, Average Training Loss: 0.5643\n",
      "Epoch 29/100, Average Training Loss: 0.5643\n",
      "Epoch 30/100, Average Training Loss: 0.5643\n",
      "Epoch 31/100, Average Training Loss: 0.5643\n",
      "Epoch 32/100, Average Training Loss: 0.5643\n",
      "Epoch 33/100, Average Training Loss: 0.5643\n",
      "Epoch 34/100, Average Training Loss: 0.5643\n",
      "Epoch 35/100, Average Training Loss: 0.5643\n",
      "Epoch 36/100, Average Training Loss: 0.5644\n",
      "Epoch 37/100, Average Training Loss: 0.5643\n",
      "Epoch 38/100, Average Training Loss: 0.5643\n",
      "Epoch 39/100, Average Training Loss: 0.5643\n",
      "Epoch 40/100, Average Training Loss: 0.5643\n",
      "Epoch 41/100, Average Training Loss: 0.5643\n",
      "Epoch 42/100, Average Training Loss: 0.5643\n",
      "Epoch 43/100, Average Training Loss: 0.5643\n",
      "Epoch 44/100, Average Training Loss: 0.5643\n",
      "Epoch 45/100, Average Training Loss: 0.5643\n",
      "Epoch 46/100, Average Training Loss: 0.5643\n",
      "Epoch 47/100, Average Training Loss: 0.5643\n",
      "Epoch 48/100, Average Training Loss: 0.5643\n",
      "Epoch 49/100, Average Training Loss: 0.5643\n",
      "Epoch 50/100, Average Training Loss: 0.5643\n",
      "Epoch 51/100, Average Training Loss: 0.5643\n",
      "Epoch 52/100, Average Training Loss: 0.5643\n",
      "Epoch 53/100, Average Training Loss: 0.5643\n",
      "Epoch 54/100, Average Training Loss: 0.5643\n",
      "Epoch 55/100, Average Training Loss: 0.5643\n",
      "Epoch 56/100, Average Training Loss: 0.5643\n",
      "Epoch 57/100, Average Training Loss: 0.5643\n",
      "Epoch 58/100, Average Training Loss: 0.5643\n",
      "Epoch 59/100, Average Training Loss: 0.5643\n",
      "Epoch 60/100, Average Training Loss: 0.5643\n",
      "Epoch 61/100, Average Training Loss: 0.5643\n",
      "Epoch 62/100, Average Training Loss: 0.5643\n",
      "Epoch 63/100, Average Training Loss: 0.5643\n",
      "Epoch 64/100, Average Training Loss: 0.5643\n",
      "Epoch 65/100, Average Training Loss: 0.5643\n",
      "Epoch 66/100, Average Training Loss: 0.5643\n",
      "Epoch 67/100, Average Training Loss: 0.5643\n",
      "Epoch 68/100, Average Training Loss: 0.5643\n",
      "Epoch 69/100, Average Training Loss: 0.5643\n",
      "Epoch 70/100, Average Training Loss: 0.5643\n",
      "Epoch 71/100, Average Training Loss: 0.5644\n",
      "Epoch 72/100, Average Training Loss: 0.5643\n",
      "Epoch 73/100, Average Training Loss: 0.5644\n",
      "Epoch 74/100, Average Training Loss: 0.5644\n",
      "Epoch 75/100, Average Training Loss: 0.5643\n",
      "Epoch 76/100, Average Training Loss: 0.5643\n",
      "Epoch 77/100, Average Training Loss: 0.5643\n",
      "Epoch 78/100, Average Training Loss: 0.5643\n",
      "Epoch 79/100, Average Training Loss: 0.5644\n",
      "Epoch 80/100, Average Training Loss: 0.5643\n",
      "Epoch 81/100, Average Training Loss: 0.5643\n",
      "Epoch 82/100, Average Training Loss: 0.5643\n",
      "Epoch 83/100, Average Training Loss: 0.5643\n",
      "Epoch 84/100, Average Training Loss: 0.5643\n",
      "Epoch 85/100, Average Training Loss: 0.5643\n",
      "Epoch 86/100, Average Training Loss: 0.5643\n",
      "Epoch 87/100, Average Training Loss: 0.5643\n",
      "Epoch 88/100, Average Training Loss: 0.5644\n",
      "Epoch 89/100, Average Training Loss: 0.5643\n",
      "Epoch 90/100, Average Training Loss: 0.5643\n",
      "Epoch 91/100, Average Training Loss: 0.5643\n",
      "Epoch 92/100, Average Training Loss: 0.5644\n",
      "Epoch 93/100, Average Training Loss: 0.5644\n",
      "Epoch 94/100, Average Training Loss: 0.5644\n",
      "Epoch 95/100, Average Training Loss: 0.5643\n",
      "Epoch 96/100, Average Training Loss: 0.5643\n",
      "Epoch 97/100, Average Training Loss: 0.5643\n",
      "Epoch 98/100, Average Training Loss: 0.5643\n",
      "Epoch 99/100, Average Training Loss: 0.5643\n",
      "Epoch 100/100, Average Training Loss: 0.5643\n",
      "\n",
      "#1 교차 검증 Accuracy: 0.9814814814814815, Precision: 0.9789312764922521, Recall: 0.9798506841331077, F1: 0.9789514687773515\n"
     ]
    },
    {
     "data": {
      "application/vnd.jupyter.widget-view+json": {
       "model_id": "f0c0dbef49ba4efda46ccf1837bceb21",
       "version_major": 2,
       "version_minor": 0
      },
      "text/plain": [
       "  0%|          | 0/100 [00:00<?, ?it/s]"
      ]
     },
     "metadata": {},
     "output_type": "display_data"
    },
    {
     "name": "stdout",
     "output_type": "stream",
     "text": [
      "Epoch 1/100, Average Training Loss: 0.5777\n",
      "Epoch 2/100, Average Training Loss: 0.5748\n",
      "Epoch 3/100, Average Training Loss: 0.5672\n",
      "Epoch 4/100, Average Training Loss: 0.5672\n",
      "Epoch 5/100, Average Training Loss: 0.5672\n",
      "Epoch 6/100, Average Training Loss: 0.5671\n",
      "Epoch 7/100, Average Training Loss: 0.5672\n",
      "Epoch 8/100, Average Training Loss: 0.5671\n",
      "Epoch 9/100, Average Training Loss: 0.5671\n",
      "Epoch 10/100, Average Training Loss: 0.5671\n",
      "Epoch 11/100, Average Training Loss: 0.5671\n",
      "Epoch 12/100, Average Training Loss: 0.5671\n",
      "Epoch 13/100, Average Training Loss: 0.5671\n",
      "Epoch 14/100, Average Training Loss: 0.5671\n",
      "Epoch 15/100, Average Training Loss: 0.5672\n",
      "Epoch 16/100, Average Training Loss: 0.5672\n",
      "Epoch 17/100, Average Training Loss: 0.5671\n",
      "Epoch 18/100, Average Training Loss: 0.5672\n",
      "Epoch 19/100, Average Training Loss: 0.5674\n",
      "Epoch 20/100, Average Training Loss: 0.5671\n",
      "Epoch 21/100, Average Training Loss: 0.5671\n",
      "Epoch 22/100, Average Training Loss: 0.5672\n",
      "Epoch 23/100, Average Training Loss: 0.5672\n",
      "Epoch 24/100, Average Training Loss: 0.5671\n",
      "Epoch 25/100, Average Training Loss: 0.5671\n",
      "Epoch 26/100, Average Training Loss: 0.5672\n",
      "Epoch 27/100, Average Training Loss: 0.5670\n",
      "Epoch 28/100, Average Training Loss: 0.5668\n",
      "Epoch 29/100, Average Training Loss: 0.5669\n",
      "Epoch 30/100, Average Training Loss: 0.5669\n",
      "Epoch 31/100, Average Training Loss: 0.5669\n",
      "Epoch 32/100, Average Training Loss: 0.5668\n",
      "Epoch 33/100, Average Training Loss: 0.5669\n",
      "Epoch 34/100, Average Training Loss: 0.5668\n",
      "Epoch 35/100, Average Training Loss: 0.5669\n",
      "Epoch 36/100, Average Training Loss: 0.5668\n",
      "Epoch 37/100, Average Training Loss: 0.5668\n",
      "Epoch 38/100, Average Training Loss: 0.5669\n",
      "Epoch 39/100, Average Training Loss: 0.5669\n",
      "Epoch 40/100, Average Training Loss: 0.5668\n",
      "Epoch 41/100, Average Training Loss: 0.5668\n",
      "Epoch 42/100, Average Training Loss: 0.5668\n",
      "Epoch 43/100, Average Training Loss: 0.5670\n",
      "Epoch 44/100, Average Training Loss: 0.5669\n",
      "Epoch 45/100, Average Training Loss: 0.5668\n",
      "Epoch 46/100, Average Training Loss: 0.5669\n",
      "Epoch 47/100, Average Training Loss: 0.5669\n",
      "Epoch 48/100, Average Training Loss: 0.5669\n",
      "Epoch 49/100, Average Training Loss: 0.5669\n",
      "Epoch 50/100, Average Training Loss: 0.5669\n",
      "Epoch 51/100, Average Training Loss: 0.5668\n",
      "Epoch 52/100, Average Training Loss: 0.5669\n",
      "Epoch 53/100, Average Training Loss: 0.5669\n",
      "Epoch 54/100, Average Training Loss: 0.5669\n",
      "Epoch 55/100, Average Training Loss: 0.5668\n",
      "Epoch 56/100, Average Training Loss: 0.5668\n",
      "Epoch 57/100, Average Training Loss: 0.5669\n",
      "Epoch 58/100, Average Training Loss: 0.5669\n",
      "Epoch 59/100, Average Training Loss: 0.5669\n",
      "Epoch 60/100, Average Training Loss: 0.5669\n",
      "Epoch 61/100, Average Training Loss: 0.5668\n",
      "Epoch 62/100, Average Training Loss: 0.5669\n",
      "Epoch 63/100, Average Training Loss: 0.5669\n",
      "Epoch 64/100, Average Training Loss: 0.5669\n",
      "Epoch 65/100, Average Training Loss: 0.5669\n",
      "Epoch 66/100, Average Training Loss: 0.5669\n",
      "Epoch 67/100, Average Training Loss: 0.5669\n",
      "Epoch 68/100, Average Training Loss: 0.5669\n",
      "Epoch 69/100, Average Training Loss: 0.5669\n",
      "Epoch 70/100, Average Training Loss: 0.5669\n",
      "Epoch 71/100, Average Training Loss: 0.5669\n",
      "Epoch 72/100, Average Training Loss: 0.5668\n",
      "Epoch 73/100, Average Training Loss: 0.5669\n",
      "Epoch 74/100, Average Training Loss: 0.5669\n",
      "Epoch 75/100, Average Training Loss: 0.5669\n",
      "Epoch 76/100, Average Training Loss: 0.5669\n",
      "Epoch 77/100, Average Training Loss: 0.5669\n",
      "Epoch 78/100, Average Training Loss: 0.5668\n",
      "Epoch 79/100, Average Training Loss: 0.5669\n",
      "Epoch 80/100, Average Training Loss: 0.5669\n",
      "Epoch 81/100, Average Training Loss: 0.5669\n",
      "Epoch 82/100, Average Training Loss: 0.5668\n",
      "Epoch 83/100, Average Training Loss: 0.5668\n",
      "Epoch 84/100, Average Training Loss: 0.5669\n",
      "Epoch 85/100, Average Training Loss: 0.5669\n",
      "Epoch 86/100, Average Training Loss: 0.5669\n",
      "Epoch 87/100, Average Training Loss: 0.5668\n",
      "Epoch 88/100, Average Training Loss: 0.5669\n",
      "Epoch 89/100, Average Training Loss: 0.5669\n",
      "Epoch 90/100, Average Training Loss: 0.5669\n",
      "Epoch 91/100, Average Training Loss: 0.5668\n",
      "Epoch 92/100, Average Training Loss: 0.5668\n",
      "Epoch 93/100, Average Training Loss: 0.5669\n",
      "Epoch 94/100, Average Training Loss: 0.5668\n",
      "Epoch 95/100, Average Training Loss: 0.5668\n",
      "Epoch 96/100, Average Training Loss: 0.5668\n",
      "Epoch 97/100, Average Training Loss: 0.5669\n",
      "Epoch 98/100, Average Training Loss: 0.5669\n",
      "Epoch 99/100, Average Training Loss: 0.5668\n",
      "Epoch 100/100, Average Training Loss: 0.5669\n",
      "\n",
      "#2 교차 검증 Accuracy: 0.9876543209876543, Precision: 0.986348853132489, Recall: 0.9863013698630136, F1: 0.9861031041317553\n"
     ]
    },
    {
     "data": {
      "application/vnd.jupyter.widget-view+json": {
       "model_id": "5fc9a4508b6548578c1e687f27a16172",
       "version_major": 2,
       "version_minor": 0
      },
      "text/plain": [
       "  0%|          | 0/100 [00:00<?, ?it/s]"
      ]
     },
     "metadata": {},
     "output_type": "display_data"
    },
    {
     "name": "stdout",
     "output_type": "stream",
     "text": [
      "Epoch 1/100, Average Training Loss: 0.5789\n",
      "Epoch 2/100, Average Training Loss: 0.5695\n",
      "Epoch 3/100, Average Training Loss: 0.5729\n",
      "Epoch 4/100, Average Training Loss: 0.5789\n",
      "Epoch 5/100, Average Training Loss: 0.5663\n",
      "Epoch 6/100, Average Training Loss: 0.5661\n",
      "Epoch 7/100, Average Training Loss: 0.5662\n",
      "Epoch 8/100, Average Training Loss: 0.5661\n",
      "Epoch 9/100, Average Training Loss: 0.5661\n",
      "Epoch 10/100, Average Training Loss: 0.5661\n",
      "Epoch 11/100, Average Training Loss: 0.5661\n",
      "Epoch 12/100, Average Training Loss: 0.5661\n",
      "Epoch 13/100, Average Training Loss: 0.5661\n",
      "Epoch 14/100, Average Training Loss: 0.5662\n",
      "Epoch 15/100, Average Training Loss: 0.5662\n",
      "Epoch 16/100, Average Training Loss: 0.5662\n",
      "Epoch 17/100, Average Training Loss: 0.5661\n",
      "Epoch 18/100, Average Training Loss: 0.5661\n",
      "Epoch 19/100, Average Training Loss: 0.5661\n",
      "Epoch 20/100, Average Training Loss: 0.5662\n",
      "Epoch 21/100, Average Training Loss: 0.5661\n",
      "Epoch 22/100, Average Training Loss: 0.5662\n",
      "Epoch 23/100, Average Training Loss: 0.5661\n",
      "Epoch 24/100, Average Training Loss: 0.5661\n",
      "Epoch 25/100, Average Training Loss: 0.5661\n",
      "Epoch 26/100, Average Training Loss: 0.5661\n",
      "Epoch 27/100, Average Training Loss: 0.5661\n",
      "Epoch 28/100, Average Training Loss: 0.5661\n",
      "Epoch 29/100, Average Training Loss: 0.5661\n",
      "Epoch 30/100, Average Training Loss: 0.5661\n",
      "Epoch 31/100, Average Training Loss: 0.5662\n",
      "Epoch 32/100, Average Training Loss: 0.5661\n",
      "Epoch 33/100, Average Training Loss: 0.5662\n",
      "Epoch 34/100, Average Training Loss: 0.5661\n",
      "Epoch 35/100, Average Training Loss: 0.5661\n",
      "Epoch 36/100, Average Training Loss: 0.5661\n",
      "Epoch 37/100, Average Training Loss: 0.5661\n",
      "Epoch 38/100, Average Training Loss: 0.5661\n",
      "Epoch 39/100, Average Training Loss: 0.5662\n",
      "Epoch 40/100, Average Training Loss: 0.5661\n",
      "Epoch 41/100, Average Training Loss: 0.5661\n",
      "Epoch 42/100, Average Training Loss: 0.5661\n",
      "Epoch 43/100, Average Training Loss: 0.5662\n",
      "Epoch 44/100, Average Training Loss: 0.5661\n",
      "Epoch 45/100, Average Training Loss: 0.5661\n",
      "Epoch 46/100, Average Training Loss: 0.5661\n",
      "Epoch 47/100, Average Training Loss: 0.5661\n",
      "Epoch 48/100, Average Training Loss: 0.5661\n",
      "Epoch 49/100, Average Training Loss: 0.5661\n",
      "Epoch 50/100, Average Training Loss: 0.5661\n",
      "Epoch 51/100, Average Training Loss: 0.5661\n",
      "Epoch 52/100, Average Training Loss: 0.5661\n",
      "Epoch 53/100, Average Training Loss: 0.5661\n",
      "Epoch 54/100, Average Training Loss: 0.5661\n",
      "Epoch 55/100, Average Training Loss: 0.5661\n",
      "Epoch 56/100, Average Training Loss: 0.5661\n",
      "Epoch 57/100, Average Training Loss: 0.5661\n",
      "Epoch 58/100, Average Training Loss: 0.5661\n",
      "Epoch 59/100, Average Training Loss: 0.5661\n",
      "Epoch 60/100, Average Training Loss: 0.5661\n",
      "Epoch 61/100, Average Training Loss: 0.5661\n",
      "Epoch 62/100, Average Training Loss: 0.5661\n",
      "Epoch 63/100, Average Training Loss: 0.5661\n",
      "Epoch 64/100, Average Training Loss: 0.5661\n",
      "Epoch 65/100, Average Training Loss: 0.5661\n",
      "Epoch 66/100, Average Training Loss: 0.5662\n",
      "Epoch 67/100, Average Training Loss: 0.5661\n",
      "Epoch 68/100, Average Training Loss: 0.5661\n",
      "Epoch 69/100, Average Training Loss: 0.5661\n",
      "Epoch 70/100, Average Training Loss: 0.5661\n",
      "Epoch 71/100, Average Training Loss: 0.5661\n",
      "Epoch 72/100, Average Training Loss: 0.5661\n",
      "Epoch 73/100, Average Training Loss: 0.5661\n",
      "Epoch 74/100, Average Training Loss: 0.5662\n",
      "Epoch 75/100, Average Training Loss: 0.5661\n",
      "Epoch 76/100, Average Training Loss: 0.5661\n",
      "Epoch 77/100, Average Training Loss: 0.5661\n",
      "Epoch 78/100, Average Training Loss: 0.5662\n",
      "Epoch 79/100, Average Training Loss: 0.5661\n",
      "Epoch 80/100, Average Training Loss: 0.5661\n",
      "Epoch 81/100, Average Training Loss: 0.5661\n",
      "Epoch 82/100, Average Training Loss: 0.5661\n",
      "Epoch 83/100, Average Training Loss: 0.5661\n",
      "Epoch 84/100, Average Training Loss: 0.5662\n",
      "Epoch 85/100, Average Training Loss: 0.5661\n",
      "Epoch 86/100, Average Training Loss: 0.5661\n",
      "Epoch 87/100, Average Training Loss: 0.5661\n",
      "Epoch 88/100, Average Training Loss: 0.5661\n",
      "Epoch 89/100, Average Training Loss: 0.5661\n",
      "Epoch 90/100, Average Training Loss: 0.5661\n",
      "Epoch 91/100, Average Training Loss: 0.5661\n",
      "Epoch 92/100, Average Training Loss: 0.5661\n",
      "Epoch 93/100, Average Training Loss: 0.5661\n",
      "Epoch 94/100, Average Training Loss: 0.5661\n",
      "Epoch 95/100, Average Training Loss: 0.5661\n",
      "Epoch 96/100, Average Training Loss: 0.5662\n",
      "Epoch 97/100, Average Training Loss: 0.5661\n",
      "Epoch 98/100, Average Training Loss: 0.5661\n",
      "Epoch 99/100, Average Training Loss: 0.5661\n",
      "Epoch 100/100, Average Training Loss: 0.5661\n",
      "\n",
      "#3 교차 검증 Accuracy: 0.9845679012345679, Precision: 0.9847986981489304, Recall: 0.9841201614251259, F1: 0.9842202462775358\n"
     ]
    },
    {
     "data": {
      "application/vnd.jupyter.widget-view+json": {
       "model_id": "6675a30564534e0ca9064e4a69dd604f",
       "version_major": 2,
       "version_minor": 0
      },
      "text/plain": [
       "  0%|          | 0/100 [00:00<?, ?it/s]"
      ]
     },
     "metadata": {},
     "output_type": "display_data"
    },
    {
     "name": "stdout",
     "output_type": "stream",
     "text": [
      "Epoch 1/100, Average Training Loss: 0.5763\n",
      "Epoch 2/100, Average Training Loss: 0.5663\n",
      "Epoch 3/100, Average Training Loss: 0.5668\n",
      "Epoch 4/100, Average Training Loss: 0.5663\n",
      "Epoch 5/100, Average Training Loss: 0.5710\n",
      "Epoch 6/100, Average Training Loss: 0.5785\n",
      "Epoch 7/100, Average Training Loss: 0.5694\n",
      "Epoch 8/100, Average Training Loss: 0.5694\n",
      "Epoch 9/100, Average Training Loss: 0.5694\n",
      "Epoch 10/100, Average Training Loss: 0.5669\n",
      "Epoch 11/100, Average Training Loss: 0.5666\n",
      "Epoch 12/100, Average Training Loss: 0.5663\n",
      "Epoch 13/100, Average Training Loss: 0.5664\n",
      "Epoch 14/100, Average Training Loss: 0.5664\n",
      "Epoch 15/100, Average Training Loss: 0.5664\n",
      "Epoch 16/100, Average Training Loss: 0.5664\n",
      "Epoch 17/100, Average Training Loss: 0.5664\n",
      "Epoch 18/100, Average Training Loss: 0.5664\n",
      "Epoch 19/100, Average Training Loss: 0.5663\n",
      "Epoch 20/100, Average Training Loss: 0.5665\n",
      "Epoch 21/100, Average Training Loss: 0.5664\n",
      "Epoch 22/100, Average Training Loss: 0.5663\n",
      "Epoch 23/100, Average Training Loss: 0.5664\n",
      "Epoch 24/100, Average Training Loss: 0.5664\n",
      "Epoch 25/100, Average Training Loss: 0.5664\n",
      "Epoch 26/100, Average Training Loss: 0.5663\n",
      "Epoch 27/100, Average Training Loss: 0.5663\n",
      "Epoch 28/100, Average Training Loss: 0.5664\n",
      "Epoch 29/100, Average Training Loss: 0.5664\n",
      "Epoch 30/100, Average Training Loss: 0.5663\n",
      "Epoch 31/100, Average Training Loss: 0.5664\n",
      "Epoch 32/100, Average Training Loss: 0.5663\n",
      "Epoch 33/100, Average Training Loss: 0.5663\n",
      "Epoch 34/100, Average Training Loss: 0.5664\n",
      "Epoch 35/100, Average Training Loss: 0.5663\n",
      "Epoch 36/100, Average Training Loss: 0.5664\n",
      "Epoch 37/100, Average Training Loss: 0.5664\n",
      "Epoch 38/100, Average Training Loss: 0.5664\n",
      "Epoch 39/100, Average Training Loss: 0.5664\n",
      "Epoch 40/100, Average Training Loss: 0.5663\n",
      "Epoch 41/100, Average Training Loss: 0.5664\n",
      "Epoch 42/100, Average Training Loss: 0.5664\n",
      "Epoch 43/100, Average Training Loss: 0.5664\n",
      "Epoch 44/100, Average Training Loss: 0.5664\n",
      "Epoch 45/100, Average Training Loss: 0.5663\n",
      "Epoch 46/100, Average Training Loss: 0.5664\n",
      "Epoch 47/100, Average Training Loss: 0.5663\n",
      "Epoch 48/100, Average Training Loss: 0.5664\n",
      "Epoch 49/100, Average Training Loss: 0.5664\n",
      "Epoch 50/100, Average Training Loss: 0.5664\n",
      "Epoch 51/100, Average Training Loss: 0.5664\n",
      "Epoch 52/100, Average Training Loss: 0.5664\n",
      "Epoch 53/100, Average Training Loss: 0.5664\n",
      "Epoch 54/100, Average Training Loss: 0.5664\n",
      "Epoch 55/100, Average Training Loss: 0.5663\n",
      "Epoch 56/100, Average Training Loss: 0.5664\n",
      "Epoch 57/100, Average Training Loss: 0.5664\n",
      "Epoch 58/100, Average Training Loss: 0.5664\n",
      "Epoch 59/100, Average Training Loss: 0.5663\n",
      "Epoch 60/100, Average Training Loss: 0.5665\n",
      "Epoch 61/100, Average Training Loss: 0.5664\n",
      "Epoch 62/100, Average Training Loss: 0.5664\n",
      "Epoch 63/100, Average Training Loss: 0.5663\n",
      "Epoch 64/100, Average Training Loss: 0.5663\n",
      "Epoch 65/100, Average Training Loss: 0.5664\n",
      "Epoch 66/100, Average Training Loss: 0.5664\n",
      "Epoch 67/100, Average Training Loss: 0.5664\n",
      "Epoch 68/100, Average Training Loss: 0.5663\n",
      "Epoch 69/100, Average Training Loss: 0.5664\n",
      "Epoch 70/100, Average Training Loss: 0.5663\n",
      "Epoch 71/100, Average Training Loss: 0.5664\n",
      "Epoch 72/100, Average Training Loss: 0.5664\n",
      "Epoch 73/100, Average Training Loss: 0.5663\n",
      "Epoch 74/100, Average Training Loss: 0.5664\n",
      "Epoch 75/100, Average Training Loss: 0.5665\n",
      "Epoch 76/100, Average Training Loss: 0.5664\n",
      "Epoch 77/100, Average Training Loss: 0.5664\n",
      "Epoch 78/100, Average Training Loss: 0.5664\n",
      "Epoch 79/100, Average Training Loss: 0.5664\n",
      "Epoch 80/100, Average Training Loss: 0.5664\n",
      "Epoch 81/100, Average Training Loss: 0.5664\n",
      "Epoch 82/100, Average Training Loss: 0.5664\n",
      "Epoch 83/100, Average Training Loss: 0.5664\n",
      "Epoch 84/100, Average Training Loss: 0.5663\n",
      "Epoch 85/100, Average Training Loss: 0.5664\n",
      "Epoch 86/100, Average Training Loss: 0.5663\n",
      "Epoch 87/100, Average Training Loss: 0.5664\n",
      "Epoch 88/100, Average Training Loss: 0.5664\n",
      "Epoch 89/100, Average Training Loss: 0.5664\n",
      "Epoch 90/100, Average Training Loss: 0.5664\n",
      "Epoch 91/100, Average Training Loss: 0.5663\n",
      "Epoch 92/100, Average Training Loss: 0.5664\n",
      "Epoch 93/100, Average Training Loss: 0.5664\n",
      "Epoch 94/100, Average Training Loss: 0.5663\n",
      "Epoch 95/100, Average Training Loss: 0.5663\n",
      "Epoch 96/100, Average Training Loss: 0.5664\n",
      "Epoch 97/100, Average Training Loss: 0.5664\n",
      "Epoch 98/100, Average Training Loss: 0.5664\n",
      "Epoch 99/100, Average Training Loss: 0.5663\n",
      "Epoch 100/100, Average Training Loss: 0.5663\n",
      "\n",
      "#4 교차 검증 Accuracy: 0.9845679012345679, Precision: 0.9849030521299428, Recall: 0.9808429118773946, F1: 0.9825002566006424\n"
     ]
    },
    {
     "data": {
      "application/vnd.jupyter.widget-view+json": {
       "model_id": "78bf529ca2594da8af029c8ab63de9ea",
       "version_major": 2,
       "version_minor": 0
      },
      "text/plain": [
       "  0%|          | 0/100 [00:00<?, ?it/s]"
      ]
     },
     "metadata": {},
     "output_type": "display_data"
    },
    {
     "name": "stdout",
     "output_type": "stream",
     "text": [
      "Epoch 1/100, Average Training Loss: 0.5770\n",
      "Epoch 2/100, Average Training Loss: 0.5765\n",
      "Epoch 3/100, Average Training Loss: 0.5882\n",
      "Epoch 4/100, Average Training Loss: 0.5701\n",
      "Epoch 5/100, Average Training Loss: 0.5676\n",
      "Epoch 6/100, Average Training Loss: 0.5684\n",
      "Epoch 7/100, Average Training Loss: 0.5674\n",
      "Epoch 8/100, Average Training Loss: 0.5668\n",
      "Epoch 9/100, Average Training Loss: 0.5669\n",
      "Epoch 10/100, Average Training Loss: 0.5669\n",
      "Epoch 11/100, Average Training Loss: 0.5668\n",
      "Epoch 12/100, Average Training Loss: 0.5669\n",
      "Epoch 13/100, Average Training Loss: 0.5668\n",
      "Epoch 14/100, Average Training Loss: 0.5669\n",
      "Epoch 15/100, Average Training Loss: 0.5669\n",
      "Epoch 16/100, Average Training Loss: 0.5669\n",
      "Epoch 17/100, Average Training Loss: 0.5669\n",
      "Epoch 18/100, Average Training Loss: 0.5669\n",
      "Epoch 19/100, Average Training Loss: 0.5669\n",
      "Epoch 20/100, Average Training Loss: 0.5669\n",
      "Epoch 21/100, Average Training Loss: 0.5669\n",
      "Epoch 22/100, Average Training Loss: 0.5669\n",
      "Epoch 23/100, Average Training Loss: 0.5669\n",
      "Epoch 24/100, Average Training Loss: 0.5669\n",
      "Epoch 25/100, Average Training Loss: 0.5669\n",
      "Epoch 26/100, Average Training Loss: 0.5669\n",
      "Epoch 27/100, Average Training Loss: 0.5669\n",
      "Epoch 28/100, Average Training Loss: 0.5668\n",
      "Epoch 29/100, Average Training Loss: 0.5668\n",
      "Epoch 30/100, Average Training Loss: 0.5669\n",
      "Epoch 31/100, Average Training Loss: 0.5668\n",
      "Epoch 32/100, Average Training Loss: 0.5668\n",
      "Epoch 33/100, Average Training Loss: 0.5669\n",
      "Epoch 34/100, Average Training Loss: 0.5669\n",
      "Epoch 35/100, Average Training Loss: 0.5669\n",
      "Epoch 36/100, Average Training Loss: 0.5669\n",
      "Epoch 37/100, Average Training Loss: 0.5668\n",
      "Epoch 38/100, Average Training Loss: 0.5669\n",
      "Epoch 39/100, Average Training Loss: 0.5669\n",
      "Epoch 40/100, Average Training Loss: 0.5669\n",
      "Epoch 41/100, Average Training Loss: 0.5669\n",
      "Epoch 42/100, Average Training Loss: 0.5669\n",
      "Epoch 43/100, Average Training Loss: 0.5669\n",
      "Epoch 44/100, Average Training Loss: 0.5669\n",
      "Epoch 45/100, Average Training Loss: 0.5670\n",
      "Epoch 46/100, Average Training Loss: 0.5668\n",
      "Epoch 47/100, Average Training Loss: 0.5669\n",
      "Epoch 48/100, Average Training Loss: 0.5668\n",
      "Epoch 49/100, Average Training Loss: 0.5669\n",
      "Epoch 50/100, Average Training Loss: 0.5669\n",
      "Epoch 51/100, Average Training Loss: 0.5668\n",
      "Epoch 52/100, Average Training Loss: 0.5668\n",
      "Epoch 53/100, Average Training Loss: 0.5669\n",
      "Epoch 54/100, Average Training Loss: 0.5669\n",
      "Epoch 55/100, Average Training Loss: 0.5669\n",
      "Epoch 56/100, Average Training Loss: 0.5669\n",
      "Epoch 57/100, Average Training Loss: 0.5669\n",
      "Epoch 58/100, Average Training Loss: 0.5669\n",
      "Epoch 59/100, Average Training Loss: 0.5668\n",
      "Epoch 60/100, Average Training Loss: 0.5669\n",
      "Epoch 61/100, Average Training Loss: 0.5669\n",
      "Epoch 62/100, Average Training Loss: 0.5668\n",
      "Epoch 63/100, Average Training Loss: 0.5669\n",
      "Epoch 64/100, Average Training Loss: 0.5669\n",
      "Epoch 65/100, Average Training Loss: 0.5669\n",
      "Epoch 66/100, Average Training Loss: 0.5669\n",
      "Epoch 67/100, Average Training Loss: 0.5669\n",
      "Epoch 68/100, Average Training Loss: 0.5669\n",
      "Epoch 69/100, Average Training Loss: 0.5669\n",
      "Epoch 70/100, Average Training Loss: 0.5669\n",
      "Epoch 71/100, Average Training Loss: 0.5668\n",
      "Epoch 72/100, Average Training Loss: 0.5668\n",
      "Epoch 73/100, Average Training Loss: 0.5669\n",
      "Epoch 74/100, Average Training Loss: 0.5669\n",
      "Epoch 75/100, Average Training Loss: 0.5669\n",
      "Epoch 76/100, Average Training Loss: 0.5669\n",
      "Epoch 77/100, Average Training Loss: 0.5669\n",
      "Epoch 78/100, Average Training Loss: 0.5669\n",
      "Epoch 79/100, Average Training Loss: 0.5669\n",
      "Epoch 80/100, Average Training Loss: 0.5669\n",
      "Epoch 81/100, Average Training Loss: 0.5669\n",
      "Epoch 82/100, Average Training Loss: 0.5669\n",
      "Epoch 83/100, Average Training Loss: 0.5668\n",
      "Epoch 84/100, Average Training Loss: 0.5669\n",
      "Epoch 85/100, Average Training Loss: 0.5668\n",
      "Epoch 86/100, Average Training Loss: 0.5669\n",
      "Epoch 87/100, Average Training Loss: 0.5669\n",
      "Epoch 88/100, Average Training Loss: 0.5668\n",
      "Epoch 89/100, Average Training Loss: 0.5668\n",
      "Epoch 90/100, Average Training Loss: 0.5669\n",
      "Epoch 91/100, Average Training Loss: 0.5668\n",
      "Epoch 92/100, Average Training Loss: 0.5669\n",
      "Epoch 93/100, Average Training Loss: 0.5669\n",
      "Epoch 94/100, Average Training Loss: 0.5669\n",
      "Epoch 95/100, Average Training Loss: 0.5668\n",
      "Epoch 96/100, Average Training Loss: 0.5669\n",
      "Epoch 97/100, Average Training Loss: 0.5668\n",
      "Epoch 98/100, Average Training Loss: 0.5669\n",
      "Epoch 99/100, Average Training Loss: 0.5669\n",
      "Epoch 100/100, Average Training Loss: 0.5669\n",
      "\n",
      "#5 교차 검증 Accuracy: 0.9897119341563786, Precision: 0.9925280284386108, Recall: 0.9875621890547265, F1: 0.9899001748141011\n",
      "\n",
      "## 평균 검증 Accuracy: 0.98559670781893\n",
      "## 평균 검증 Precision: 0.985501981668445\n",
      "## 평균 검증 Recall: 0.9837354632706736\n",
      "## 평균 검증 F1: 0.9843350501202772\n"
     ]
    },
    {
     "data": {
      "text/html": [
       "<div>\n",
       "<style scoped>\n",
       "    .dataframe tbody tr th:only-of-type {\n",
       "        vertical-align: middle;\n",
       "    }\n",
       "\n",
       "    .dataframe tbody tr th {\n",
       "        vertical-align: top;\n",
       "    }\n",
       "\n",
       "    .dataframe thead th {\n",
       "        text-align: right;\n",
       "    }\n",
       "</style>\n",
       "<table border=\"1\" class=\"dataframe\">\n",
       "  <thead>\n",
       "    <tr style=\"text-align: right;\">\n",
       "      <th></th>\n",
       "      <th>Model</th>\n",
       "      <th>Avg Accuracy</th>\n",
       "      <th>Avg Precision</th>\n",
       "      <th>Avg Recall</th>\n",
       "      <th>Avg F1</th>\n",
       "    </tr>\n",
       "  </thead>\n",
       "  <tbody>\n",
       "    <tr>\n",
       "      <th>0</th>\n",
       "      <td>DynamicANNWrapper0</td>\n",
       "      <td>0.985597</td>\n",
       "      <td>0.985502</td>\n",
       "      <td>0.983735</td>\n",
       "      <td>0.984335</td>\n",
       "    </tr>\n",
       "  </tbody>\n",
       "</table>\n",
       "</div>"
      ],
      "text/plain": [
       "                Model  Avg Accuracy  Avg Precision  Avg Recall    Avg F1\n",
       "0  DynamicANNWrapper0      0.985597       0.985502    0.983735  0.984335"
      ]
     },
     "execution_count": 14,
     "metadata": {},
     "output_type": "execute_result"
    }
   ],
   "source": [
    "performance_metrics = CV(m, feature, label, n_splits=5)\n",
    "performance_metrics.head()\n"
   ]
  },
  {
   "cell_type": "code",
   "execution_count": 14,
   "metadata": {},
   "outputs": [
    {
     "data": {
      "text/html": [
       "<div>\n",
       "<style scoped>\n",
       "    .dataframe tbody tr th:only-of-type {\n",
       "        vertical-align: middle;\n",
       "    }\n",
       "\n",
       "    .dataframe tbody tr th {\n",
       "        vertical-align: top;\n",
       "    }\n",
       "\n",
       "    .dataframe thead th {\n",
       "        text-align: right;\n",
       "    }\n",
       "</style>\n",
       "<table border=\"1\" class=\"dataframe\">\n",
       "  <thead>\n",
       "    <tr style=\"text-align: right;\">\n",
       "      <th></th>\n",
       "      <th>Model</th>\n",
       "      <th>Avg Accuracy</th>\n",
       "      <th>Avg Precision</th>\n",
       "      <th>Avg Recall</th>\n",
       "      <th>Avg F1</th>\n",
       "    </tr>\n",
       "  </thead>\n",
       "  <tbody>\n",
       "    <tr>\n",
       "      <th>0</th>\n",
       "      <td>DynamicANNWrapper0</td>\n",
       "      <td>0.533745</td>\n",
       "      <td>0.177915</td>\n",
       "      <td>0.333333</td>\n",
       "      <td>0.231982</td>\n",
       "    </tr>\n",
       "    <tr>\n",
       "      <th>1</th>\n",
       "      <td>DynamicANNWrapper0</td>\n",
       "      <td>0.575926</td>\n",
       "      <td>0.242313</td>\n",
       "      <td>0.382979</td>\n",
       "      <td>0.292949</td>\n",
       "    </tr>\n",
       "    <tr>\n",
       "      <th>2</th>\n",
       "      <td>DynamicANNWrapper0</td>\n",
       "      <td>0.622634</td>\n",
       "      <td>0.382969</td>\n",
       "      <td>0.459918</td>\n",
       "      <td>0.409881</td>\n",
       "    </tr>\n",
       "    <tr>\n",
       "      <th>3</th>\n",
       "      <td>DynamicANNWrapper0</td>\n",
       "      <td>0.597119</td>\n",
       "      <td>0.428446</td>\n",
       "      <td>0.419343</td>\n",
       "      <td>0.346263</td>\n",
       "    </tr>\n",
       "  </tbody>\n",
       "</table>\n",
       "</div>"
      ],
      "text/plain": [
       "                Model  Avg Accuracy  Avg Precision  Avg Recall    Avg F1\n",
       "0  DynamicANNWrapper0      0.533745       0.177915    0.333333  0.231982\n",
       "1  DynamicANNWrapper0      0.575926       0.242313    0.382979  0.292949\n",
       "2  DynamicANNWrapper0      0.622634       0.382969    0.459918  0.409881\n",
       "3  DynamicANNWrapper0      0.597119       0.428446    0.419343  0.346263"
      ]
     },
     "execution_count": 14,
     "metadata": {},
     "output_type": "execute_result"
    }
   ],
   "source": [
    "d.head()"
   ]
  }
 ],
 "metadata": {
  "kernelspec": {
   "display_name": "venv",
   "language": "python",
   "name": "python3"
  },
  "language_info": {
   "codemirror_mode": {
    "name": "ipython",
    "version": 3
   },
   "file_extension": ".py",
   "mimetype": "text/x-python",
   "name": "python",
   "nbconvert_exporter": "python",
   "pygments_lexer": "ipython3",
   "version": "3.10.9"
  }
 },
 "nbformat": 4,
 "nbformat_minor": 2
}
