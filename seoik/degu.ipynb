{
 "cells": [
  {
   "cell_type": "code",
   "execution_count": 2,
   "metadata": {},
   "outputs": [],
   "source": [
    "import pandas as pd\n",
    "\n"
   ]
  },
  {
   "cell_type": "code",
   "execution_count": 3,
   "metadata": {},
   "outputs": [
    {
     "name": "stdout",
     "output_type": "stream",
     "text": [
      "<class 'pandas.core.frame.DataFrame'>\n",
      "RangeIndex: 39609 entries, 0 to 39608\n",
      "Data columns (total 23 columns):\n",
      " #   Column       Non-Null Count  Dtype \n",
      "---  ------       --------------  ----- \n",
      " 0   ID           39609 non-null  object\n",
      " 1   사고일시         39609 non-null  object\n",
      " 2   요일           39609 non-null  object\n",
      " 3   기상상태         39609 non-null  object\n",
      " 4   시군구          39609 non-null  object\n",
      " 5   도로형태         39609 non-null  object\n",
      " 6   노면상태         39609 non-null  object\n",
      " 7   사고유형         39609 non-null  object\n",
      " 8   사고유형 - 세부분류  39609 non-null  object\n",
      " 9   법규위반         39609 non-null  object\n",
      " 10  가해운전자 차종     39609 non-null  object\n",
      " 11  가해운전자 성별     39609 non-null  object\n",
      " 12  가해운전자 연령     39609 non-null  object\n",
      " 13  가해운전자 상해정도   39609 non-null  object\n",
      " 14  피해운전자 차종     38618 non-null  object\n",
      " 15  피해운전자 성별     38618 non-null  object\n",
      " 16  피해운전자 연령     38618 non-null  object\n",
      " 17  피해운전자 상해정도   38618 non-null  object\n",
      " 18  사망자수         39609 non-null  int64 \n",
      " 19  중상자수         39609 non-null  int64 \n",
      " 20  경상자수         39609 non-null  int64 \n",
      " 21  부상자수         39609 non-null  int64 \n",
      " 22  ECLO         39609 non-null  int64 \n",
      "dtypes: int64(5), object(18)\n",
      "memory usage: 7.0+ MB\n",
      "<class 'pandas.core.frame.DataFrame'>\n",
      "RangeIndex: 10963 entries, 0 to 10962\n",
      "Data columns (total 8 columns):\n",
      " #   Column  Non-Null Count  Dtype \n",
      "---  ------  --------------  ----- \n",
      " 0   ID      10963 non-null  object\n",
      " 1   사고일시    10963 non-null  object\n",
      " 2   요일      10963 non-null  object\n",
      " 3   기상상태    10963 non-null  object\n",
      " 4   시군구     10963 non-null  object\n",
      " 5   도로형태    10963 non-null  object\n",
      " 6   노면상태    10963 non-null  object\n",
      " 7   사고유형    10963 non-null  object\n",
      "dtypes: object(8)\n",
      "memory usage: 685.3+ KB\n"
     ]
    },
    {
     "data": {
      "text/plain": [
       "(None, None)"
      ]
     },
     "execution_count": 3,
     "metadata": {},
     "output_type": "execute_result"
    }
   ],
   "source": [
    "train_df = pd.read_csv(\"data/train.csv\")\n",
    "test_df = pd.read_csv(\"data/test.csv\")\n",
    "\n",
    "train_df.info() , test_df.info()"
   ]
  },
  {
   "cell_type": "code",
   "execution_count": null,
   "metadata": {},
   "outputs": [],
   "source": []
  }
 ],
 "metadata": {
  "kernelspec": {
   "display_name": "venv",
   "language": "python",
   "name": "python3"
  },
  "language_info": {
   "codemirror_mode": {
    "name": "ipython",
    "version": 3
   },
   "file_extension": ".py",
   "mimetype": "text/x-python",
   "name": "python",
   "nbconvert_exporter": "python",
   "pygments_lexer": "ipython3",
   "version": "3.10.9"
  }
 },
 "nbformat": 4,
 "nbformat_minor": 2
}
