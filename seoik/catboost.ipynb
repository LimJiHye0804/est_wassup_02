{
 "cells": [
  {
   "cell_type": "markdown",
   "metadata": {},
   "source": [
    "# Catboost Classifier"
   ]
  },
  {
   "cell_type": "code",
   "execution_count": 1,
   "metadata": {},
   "outputs": [],
   "source": [
    "import catboost\n",
    "from catboost import CatBoostClassifier\n",
    "from sklearn.model_selection import train_test_split\n",
    "from sklearn.preprocessing import LabelEncoder\n",
    "from sklearn.metrics import accuracy_score, precision_score, recall_score, f1_score, confusion_matrix\n",
    "import pandas as pd\n",
    "import numpy as np\n",
    "import matplotlib.pyplot as plt"
   ]
  },
  {
   "cell_type": "code",
   "execution_count": 2,
   "metadata": {},
   "outputs": [],
   "source": [
    "data = pd.read_csv(\"data/base.csv\")\n",
    "drop = ['타겟', '가해운전자 차종']\n",
    "\n",
    "X = data.drop(drop, axis=1)\n",
    "y = data['타겟']\n",
    "\n",
    "# Identify object columns for label encoding\n",
    "object_columns = X.select_dtypes(include=['object']).columns\n",
    "\n",
    "# Label encode object columns\n",
    "label_encoder = LabelEncoder()\n",
    "for column in object_columns:\n",
    "    X[column] = label_encoder.fit_transform(X[column])\n",
    "\n",
    "#print(X.isnull().sum(), y.isnull().sum())"
   ]
  },
  {
   "cell_type": "code",
   "execution_count": 3,
   "metadata": {},
   "outputs": [
    {
     "name": "stdout",
     "output_type": "stream",
     "text": [
      "Accuracy: 0.9852\n",
      "Precision: 0.9854\n",
      "Recall: 0.9852\n",
      "F1 Score: 0.9851\n",
      "Confusion Matrix:\n",
      "[[1681   63   18]\n",
      " [   2 3227    4]\n",
      " [   2    1 1077]]\n",
      "Feature Importance:\n",
      "    Feature Id  Importances\n",
      "0   피해운전자 상해정도    24.009542\n",
      "1         사고내용    13.808677\n",
      "2         경상자수     9.768279\n",
      "3     피해운전자 차종     6.868876\n",
      "4       부상신고자수     5.849228\n",
      "5     가해운전자 연령     5.450001\n",
      "6         사고유형     4.742704\n",
      "7     피해운전자 연령     4.495854\n",
      "8         중상자수     3.995344\n",
      "9           요일     3.625214\n",
      "10           월     3.539871\n",
      "11        도광역시     3.369803\n",
      "12      하루시간구분     2.905957\n",
      "13        법규위반     2.463361\n",
      "14        도로형태     2.139609\n",
      "15    피해운전자 성별     1.413194\n",
      "16    가해운전자 성별     0.984423\n",
      "17        기상상태     0.226292\n",
      "18        사망자수     0.222248\n",
      "19        노면상태     0.121522\n"
     ]
    },
    {
     "name": "stderr",
     "output_type": "stream",
     "text": [
      "/home/estsoft/miniconda3/envs/MathAI/lib/python3.10/site-packages/sklearn/preprocessing/_label.py:153: DataConversionWarning: A column-vector y was passed when a 1d array was expected. Please change the shape of y to (n_samples, ), for example using ravel().\n",
      "  y = column_or_1d(y, warn=True)\n"
     ]
    }
   ],
   "source": [
    "# Split the data into training and testing sets\n",
    "X_train, X_test, y_train, y_test = train_test_split(X, y, test_size=0.2, random_state=42)\n",
    "\n",
    "# Create a CatBoost classifier\n",
    "catboost_model = CatBoostClassifier(iterations=500, depth=10, learning_rate=0.05, loss_function='MultiClass', verbose=False)\n",
    "\n",
    "\n",
    "# Fit the model to the training data\n",
    "catboost_model.fit(X_train, y_train)\n",
    "feature_importance = catboost_model.get_feature_importance(prettified=True)\n",
    "# Predict on the test set\n",
    "y_pred = catboost_model.predict(X_test)\n",
    "\n",
    "# Decode predicted values if you want to get them back to original class labels\n",
    "y_pred_original = label_encoder.inverse_transform(y_pred)\n",
    "\n",
    "# Evaluate the performance\n",
    "accuracy = accuracy_score(y_test, y_pred)\n",
    "precision = precision_score(y_test, y_pred, average='weighted')\n",
    "recall = recall_score(y_test, y_pred, average='weighted')\n",
    "f1 = f1_score(y_test, y_pred, average='weighted')\n",
    "\n",
    "# Confusion Matrix\n",
    "conf_matrix = confusion_matrix(y_test, y_pred)\n",
    "\n",
    "# Print the results\n",
    "print(f\"Accuracy: {accuracy:.4f}\")\n",
    "print(f\"Precision: {precision:.4f}\")\n",
    "print(f\"Recall: {recall:.4f}\")\n",
    "print(f\"F1 Score: {f1:.4f}\")\n",
    "\n",
    "print(\"Confusion Matrix:\")\n",
    "print(conf_matrix)\n",
    "\n",
    "print(\"Feature Importance:\")\n",
    "print(feature_importance)\n"
   ]
  },
  {
   "cell_type": "code",
   "execution_count": 4,
   "metadata": {},
   "outputs": [
    {
     "name": "stdout",
     "output_type": "stream",
     "text": [
      "Best Parameters: {'depth': 6, 'iterations': 500, 'learning_rate': 0.05}\n",
      "Accuracy on Test Set: 0.9849\n",
      "Precision on Test Set: 0.9851\n",
      "Recall on Test Set: 0.9849\n",
      "F1 Score on Test Set: 0.9848\n"
     ]
    },
    {
     "name": "stderr",
     "output_type": "stream",
     "text": [
      "/home/estsoft/miniconda3/envs/MathAI/lib/python3.10/site-packages/sklearn/preprocessing/_label.py:153: DataConversionWarning: A column-vector y was passed when a 1d array was expected. Please change the shape of y to (n_samples, ), for example using ravel().\n",
      "  y = column_or_1d(y, warn=True)\n"
     ]
    }
   ],
   "source": [
    "from sklearn.model_selection import GridSearchCV, RandomizedSearchCV\n",
    "\n",
    "param_grid = {\n",
    "    'iterations': [500, 1000],\n",
    "    'depth': [6, 8, 10],\n",
    "    'learning_rate': [0.01, 0.05, 0.1]\n",
    "    # Add more hyperparameters to the grid\n",
    "}\n",
    "\n",
    "grid_search = GridSearchCV(CatBoostClassifier(loss_function='MultiClass', verbose=False), param_grid, cv=3)\n",
    "grid_search.fit(X_train, y_train)\n",
    "\n",
    "# Extract the best parameters and best model\n",
    "best_params = grid_search.best_params_\n",
    "best_model = grid_search.best_estimator_\n",
    "\n",
    "# Evaluate on the test set\n",
    "y_pred = best_model.predict(X_test)\n",
    "\n",
    "# Decode predicted values if you want to get them back to original class labels\n",
    "y_pred_original = label_encoder.inverse_transform(y_pred)\n",
    "\n",
    "# Evaluate the performance on the test set\n",
    "accuracy = accuracy_score(y_test, y_pred)\n",
    "precision = precision_score(y_test, y_pred, average='weighted')\n",
    "recall = recall_score(y_test, y_pred, average='weighted')\n",
    "f1 = f1_score(y_test, y_pred, average='weighted')\n",
    "\n",
    "# Print the results\n",
    "print(\"Best Parameters:\", best_params)\n",
    "print(f\"Accuracy on Test Set: {accuracy:.4f}\")\n",
    "print(f\"Precision on Test Set: {precision:.4f}\")\n",
    "print(f\"Recall on Test Set: {recall:.4f}\")\n",
    "print(f\"F1 Score on Test Set: {f1:.4f}\")"
   ]
  }
 ],
 "metadata": {
  "kernelspec": {
   "display_name": "MathAI",
   "language": "python",
   "name": "python3"
  },
  "language_info": {
   "codemirror_mode": {
    "name": "ipython",
    "version": 3
   },
   "file_extension": ".py",
   "mimetype": "text/x-python",
   "name": "python",
   "nbconvert_exporter": "python",
   "pygments_lexer": "ipython3",
   "version": "3.10.13"
  }
 },
 "nbformat": 4,
 "nbformat_minor": 2
}
